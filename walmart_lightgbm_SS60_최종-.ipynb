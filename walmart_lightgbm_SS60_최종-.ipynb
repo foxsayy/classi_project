{
 "cells": [
  {
   "cell_type": "markdown",
   "metadata": {
    "slideshow": {
     "slide_type": "slide"
    }
   },
   "source": [
    "# Walmart Triptype Classification\n",
    "\n",
    "    \n",
    "    Team SS60: 이수정 백형렬 노승환"
   ]
  },
  {
   "cell_type": "markdown",
   "metadata": {
    "slideshow": {
     "slide_type": "slide"
    }
   },
   "source": [
    "# <center> 프로세스 </center>\n",
    "# 0. 환경설정\n",
    "# 1. 모델의 성능\n",
    "# 2. 변수설명\n",
    "# 3. 전처리 및 EDA\n",
    "# 4. lightgbm을 사용한 분류\n",
    "# 5. kaggle에 제출\n",
    "# 6. 한계점 및 보완방향"
   ]
  },
  {
   "cell_type": "markdown",
   "metadata": {
    "slideshow": {
     "slide_type": "skip"
    }
   },
   "source": [
    "# <center>0.환경설정</center>"
   ]
  },
  {
   "cell_type": "code",
   "execution_count": 1,
   "metadata": {
    "slideshow": {
     "slide_type": "skip"
    }
   },
   "outputs": [
    {
     "name": "stderr",
     "output_type": "stream",
     "text": [
      "/usr/local/lib/python3.7/site-packages/lightgbm/__init__.py:46: UserWarning: Starting from version 2.2.1, the library file in distribution wheels for macOS is built by the Apple Clang (Xcode_8.3.1) compiler.\n",
      "This means that in case of installing LightGBM from PyPI via the ``pip install lightgbm`` command, you don't need to install the gcc compiler anymore.\n",
      "Instead of that, you need to install the OpenMP library, which is required for running LightGBM on the system with the Apple Clang compiler.\n",
      "You can install the OpenMP library by the following command: ``brew install libomp``.\n",
      "  \"You can install the OpenMP library by the following command: ``brew install libomp``.\", UserWarning)\n"
     ]
    }
   ],
   "source": [
    "from sklearn.preprocessing import LabelEncoder\n",
    "from sklearn.model_selection import train_test_split\n",
    "from sklearn.metrics import classification_report\n",
    "from sklearn.metrics import confusion_matrix\n",
    "from scipy.sparse import csr_matrix\n",
    "import lightgbm\n",
    "import warnings\n",
    "import numpy as np\n",
    "import pandas as pd\n",
    "from IPython.display import Markdown\n",
    "import matplotlib.pyplot as plt\n",
    "import seaborn as sns\n",
    "%matplotlib inline\n",
    "warnings.filterwarnings('ignore')"
   ]
  },
  {
   "cell_type": "code",
   "execution_count": 2,
   "metadata": {
    "scrolled": true,
    "slideshow": {
     "slide_type": "skip"
    }
   },
   "outputs": [],
   "source": [
    "train = pd.read_csv(\"train.csv\")\n",
    "test = pd.read_csv(\"test.csv\")"
   ]
  },
  {
   "cell_type": "markdown",
   "metadata": {
    "slideshow": {
     "slide_type": "slide"
    }
   },
   "source": [
    "# <center> 1. 모델의 성능</center>"
   ]
  },
  {
   "cell_type": "markdown",
   "metadata": {
    "slideshow": {
     "slide_type": "slide"
    }
   },
   "source": [
    "## 1-1. Accuracy"
   ]
  },
  {
   "cell_type": "code",
   "execution_count": 72,
   "metadata": {
    "slideshow": {
     "slide_type": "fragment"
    }
   },
   "outputs": [
    {
     "name": "stdout",
     "output_type": "stream",
     "text": [
      "TripType Accuracy = 77.37%\n"
     ]
    }
   ],
   "source": [
    "# 성능을 저장해놓고 보여주기 위한 코드입니다. 코드를 실행할 땐 전처리 과정을 모두 실행해줘야만 코드가 돌아갑니다.\n",
    "accuracy = 100 * (1 - (sum(int(y_pred[i]) != y_test[i]\n",
    "                           for i in range(len(y_test))) / float(len(y_test))))\n",
    "print(\"TripType Accuracy = %.2f%%\" % accuracy)"
   ]
  },
  {
   "cell_type": "markdown",
   "metadata": {
    "slideshow": {
     "slide_type": "slide"
    }
   },
   "source": [
    "## 1-2. Classification_report"
   ]
  },
  {
   "cell_type": "code",
   "execution_count": 73,
   "metadata": {
    "slideshow": {
     "slide_type": "fragment"
    }
   },
   "outputs": [
    {
     "name": "stdout",
     "output_type": "stream",
     "text": [
      "              precision    recall  f1-score   support\n",
      "\n",
      "           3       0.94      0.98      0.96       931\n",
      "           4       0.81      0.67      0.73        87\n",
      "           5       0.85      0.87      0.86      1167\n",
      "           6       0.82      0.85      0.84       309\n",
      "           7       0.79      0.80      0.80      1494\n",
      "           8       0.88      0.90      0.89      3017\n",
      "           9       0.78      0.86      0.82      2307\n",
      "          12       0.64      0.37      0.47        62\n",
      "          14       0.00      0.00      0.00         2\n",
      "          15       0.63      0.59      0.61       237\n",
      "          18       0.59      0.50      0.54       131\n",
      "          19       0.73      0.64      0.68        80\n",
      "          20       0.76      0.63      0.69       173\n",
      "          21       0.72      0.66      0.69       158\n",
      "          22       0.67      0.70      0.68       207\n",
      "          23       0.75      0.63      0.68        43\n",
      "          24       0.71      0.70      0.71       652\n",
      "          25       0.74      0.82      0.78       945\n",
      "          26       0.72      0.49      0.58       144\n",
      "          27       0.67      0.67      0.67       193\n",
      "          28       0.77      0.65      0.70       135\n",
      "          29       0.76      0.55      0.64        98\n",
      "          30       0.65      0.58      0.61       265\n",
      "          31       0.84      0.82      0.83       153\n",
      "          32       0.76      0.82      0.79       485\n",
      "          33       0.69      0.59      0.64       318\n",
      "          34       0.72      0.61      0.66       188\n",
      "          35       0.72      0.65      0.68       510\n",
      "          36       0.72      0.68      0.70       758\n",
      "          37       0.74      0.64      0.69       714\n",
      "          38       0.71      0.59      0.65       730\n",
      "          39       0.62      0.74      0.67      2507\n",
      "          40       0.81      0.92      0.86      1534\n",
      "          41       0.31      0.08      0.13       144\n",
      "          42       0.46      0.40      0.43       458\n",
      "          43       0.18      0.05      0.08       188\n",
      "          44       0.46      0.25      0.32       295\n",
      "         999       0.96      0.88      0.92      2100\n",
      "\n",
      "   micro avg       0.77      0.77      0.77     23919\n",
      "   macro avg       0.69      0.63      0.65     23919\n",
      "weighted avg       0.77      0.77      0.77     23919\n",
      "\n"
     ]
    }
   ],
   "source": [
    "# 성능을 저장해놓고 보여주기 위한 코드입니다. 코드를 실행할 땐 전처리 과정을 모두 실행해줘야만 코드가 돌아갑니다.\n",
    "print(classification_report(label_enc.inverse_transform(y_test), label_enc.inverse_transform(y_pred)))"
   ]
  },
  {
   "cell_type": "markdown",
   "metadata": {},
   "source": [
    "## 하위 4개의 class를 제외하고 precision과 recall이 60퍼센트 이상임을 확인할 수 있습니다."
   ]
  },
  {
   "cell_type": "markdown",
   "metadata": {
    "slideshow": {
     "slide_type": "slide"
    }
   },
   "source": [
    "# <center>2.데이터 및 변수 설명</center>"
   ]
  },
  {
   "cell_type": "markdown",
   "metadata": {},
   "source": [
    "![score](walmart.png)"
   ]
  },
  {
   "cell_type": "markdown",
   "metadata": {},
   "source": [
    "## walmart triptype classification : [walmart triptype classification](https://www.kaggle.com/c/walmart-recruiting-trip-type-classification)"
   ]
  },
  {
   "cell_type": "markdown",
   "metadata": {},
   "source": [
    "# 약 3년전 종료된 kaggle competition으로, 월마트측에서 자체적으로 분류한 38가지의 고객 특성을 고객이 구매한 전산 데이터만을 사용해 고객 특성을 분류해보는것이 목적입니다.\n",
    "\n",
    "## - 평가방식 : Multi-class log \n",
    "\n",
    "## <center>$-\\frac{1}{N}\\sum_{i=1}^N\\sum_{j=1}^My_{ij}\\log(p_{ij}),$</center>\n",
    "\n",
    "## - 분류할 타겟 : 고객의 특성 (38종류)"
   ]
  },
  {
   "cell_type": "code",
   "execution_count": 3,
   "metadata": {
    "scrolled": false,
    "slideshow": {
     "slide_type": "slide"
    }
   },
   "outputs": [
    {
     "data": {
      "text/plain": [
       "((647054, 7), (653646, 6))"
      ]
     },
     "execution_count": 3,
     "metadata": {},
     "output_type": "execute_result"
    }
   ],
   "source": [
    "train.shape, test.shape"
   ]
  },
  {
   "cell_type": "code",
   "execution_count": 4,
   "metadata": {},
   "outputs": [
    {
     "data": {
      "text/html": [
       "<div>\n",
       "<style scoped>\n",
       "    .dataframe tbody tr th:only-of-type {\n",
       "        vertical-align: middle;\n",
       "    }\n",
       "\n",
       "    .dataframe tbody tr th {\n",
       "        vertical-align: top;\n",
       "    }\n",
       "\n",
       "    .dataframe thead th {\n",
       "        text-align: right;\n",
       "    }\n",
       "</style>\n",
       "<table border=\"1\" class=\"dataframe\">\n",
       "  <thead>\n",
       "    <tr style=\"text-align: right;\">\n",
       "      <th></th>\n",
       "      <th>TripType</th>\n",
       "      <th>VisitNumber</th>\n",
       "      <th>Weekday</th>\n",
       "      <th>Upc</th>\n",
       "      <th>ScanCount</th>\n",
       "      <th>DepartmentDescription</th>\n",
       "      <th>FinelineNumber</th>\n",
       "    </tr>\n",
       "  </thead>\n",
       "  <tbody>\n",
       "    <tr>\n",
       "      <th>0</th>\n",
       "      <td>999</td>\n",
       "      <td>5</td>\n",
       "      <td>Friday</td>\n",
       "      <td>6.811315e+10</td>\n",
       "      <td>-1</td>\n",
       "      <td>FINANCIAL SERVICES</td>\n",
       "      <td>1000.0</td>\n",
       "    </tr>\n",
       "    <tr>\n",
       "      <th>1</th>\n",
       "      <td>30</td>\n",
       "      <td>7</td>\n",
       "      <td>Friday</td>\n",
       "      <td>6.053882e+10</td>\n",
       "      <td>1</td>\n",
       "      <td>SHOES</td>\n",
       "      <td>8931.0</td>\n",
       "    </tr>\n",
       "    <tr>\n",
       "      <th>2</th>\n",
       "      <td>30</td>\n",
       "      <td>7</td>\n",
       "      <td>Friday</td>\n",
       "      <td>7.410811e+09</td>\n",
       "      <td>1</td>\n",
       "      <td>PERSONAL CARE</td>\n",
       "      <td>4504.0</td>\n",
       "    </tr>\n",
       "    <tr>\n",
       "      <th>3</th>\n",
       "      <td>26</td>\n",
       "      <td>8</td>\n",
       "      <td>Friday</td>\n",
       "      <td>2.238404e+09</td>\n",
       "      <td>2</td>\n",
       "      <td>PAINT AND ACCESSORIES</td>\n",
       "      <td>3565.0</td>\n",
       "    </tr>\n",
       "    <tr>\n",
       "      <th>4</th>\n",
       "      <td>26</td>\n",
       "      <td>8</td>\n",
       "      <td>Friday</td>\n",
       "      <td>2.006614e+09</td>\n",
       "      <td>2</td>\n",
       "      <td>PAINT AND ACCESSORIES</td>\n",
       "      <td>1017.0</td>\n",
       "    </tr>\n",
       "  </tbody>\n",
       "</table>\n",
       "</div>"
      ],
      "text/plain": [
       "   TripType  VisitNumber Weekday           Upc  ScanCount  \\\n",
       "0       999            5  Friday  6.811315e+10         -1   \n",
       "1        30            7  Friday  6.053882e+10          1   \n",
       "2        30            7  Friday  7.410811e+09          1   \n",
       "3        26            8  Friday  2.238404e+09          2   \n",
       "4        26            8  Friday  2.006614e+09          2   \n",
       "\n",
       "   DepartmentDescription  FinelineNumber  \n",
       "0     FINANCIAL SERVICES          1000.0  \n",
       "1                  SHOES          8931.0  \n",
       "2          PERSONAL CARE          4504.0  \n",
       "3  PAINT AND ACCESSORIES          3565.0  \n",
       "4  PAINT AND ACCESSORIES          1017.0  "
      ]
     },
     "execution_count": 4,
     "metadata": {},
     "output_type": "execute_result"
    }
   ],
   "source": [
    "train.head()"
   ]
  },
  {
   "cell_type": "markdown",
   "metadata": {
    "slideshow": {
     "slide_type": "slide"
    }
   },
   "source": [
    "# 2-1. `TripType`  [target]\n",
    "- 이번 분석에서의 Target값\n",
    "\n",
    "- 고객의 구매 활동을 나타내는 카테고리컬 식별값입니다. \n",
    "- 다른 변수들을 분석해 38가지 중에 하나로 분류해야 합니다. \n",
    "- TripType '999' 는 총 구매한 아이템의 수가 음수, 즉 최종 구매 활동이 반환 인 구매자를 의미합니다."
   ]
  },
  {
   "cell_type": "code",
   "execution_count": 5,
   "metadata": {
    "scrolled": true,
    "slideshow": {
     "slide_type": "fragment"
    }
   },
   "outputs": [
    {
     "name": "stdout",
     "output_type": "stream",
     "text": [
      "[999  30  26   8  35  41  21   6  42   7   9  39  25  38  15  36  20  37\n",
      "  32  40   5   3   4  24  33  43  31  27  34  18  29  44  19  23  22  28\n",
      "  14  12]\n",
      "38가지 ID가 있습니다.\n"
     ]
    }
   ],
   "source": [
    "print(train.TripType.unique())\n",
    "print(\"{}가지 ID가 있습니다.\".format(len(train.TripType.unique())))"
   ]
  },
  {
   "cell_type": "markdown",
   "metadata": {
    "slideshow": {
     "slide_type": "slide"
    }
   },
   "source": [
    "## TripType별 카운트는 다음과 같습니다."
   ]
  },
  {
   "cell_type": "code",
   "execution_count": 6,
   "metadata": {
    "scrolled": true,
    "slideshow": {
     "slide_type": "fragment"
    }
   },
   "outputs": [
    {
     "data": {
      "image/png": "[encoded data removed]",
      "text/plain": [
       "<Figure size 1152x288 with 1 Axes>"
      ]
     },
     "metadata": {},
     "output_type": "display_data"
    }
   ],
   "source": [
    "plt.figure(figsize=(16, 4))\n",
    "sns.countplot(x=\"TripType\", data=train)\n",
    "plt.title(\"Trip Type별 카운트 \")\n",
    "plt.show()"
   ]
  },
  {
   "cell_type": "markdown",
   "metadata": {
    "slideshow": {
     "slide_type": "slide"
    }
   },
   "source": [
    "## TripType 999는 반품하러 온 사람들을 의미합니다."
   ]
  },
  {
   "cell_type": "code",
   "execution_count": 7,
   "metadata": {
    "slideshow": {
     "slide_type": "fragment"
    }
   },
   "outputs": [
    {
     "data": {
      "image/png": "[encoded data removed]",
      "text/plain": [
       "<Figure size 2160x720 with 1 Axes>"
      ]
     },
     "metadata": {},
     "output_type": "display_data"
    }
   ],
   "source": [
    "train_tt_sc = train.groupby('TripType',as_index=False)['ScanCount'].sum()\n",
    "\n",
    "plt.figure(figsize=(30,10))\n",
    "sns.barplot(train_tt_sc['TripType'].astype('int') , train_tt_sc['ScanCount'])\n",
    "plt.ylim(-2500,8000)\n",
    "plt.title(\"TripType 999\")\n",
    "plt.show()"
   ]
  },
  {
   "cell_type": "markdown",
   "metadata": {
    "slideshow": {
     "slide_type": "slide"
    }
   },
   "source": [
    "# 2.2 `VisitNumber`\n",
    "- 단일 고객의 단일 구매 활동을 나타내는 값\n",
    "- 95674가지 값을 가집니다."
   ]
  },
  {
   "cell_type": "code",
   "execution_count": 8,
   "metadata": {
    "scrolled": true,
    "slideshow": {
     "slide_type": "fragment"
    }
   },
   "outputs": [
    {
     "data": {
      "text/plain": [
       "95674"
      ]
     },
     "execution_count": 8,
     "metadata": {},
     "output_type": "execute_result"
    }
   ],
   "source": [
    "len(train.VisitNumber.unique())"
   ]
  },
  {
   "cell_type": "code",
   "execution_count": 9,
   "metadata": {
    "scrolled": false,
    "slideshow": {
     "slide_type": "fragment"
    }
   },
   "outputs": [
    {
     "data": {
      "text/html": [
       "<div>\n",
       "<style scoped>\n",
       "    .dataframe tbody tr th:only-of-type {\n",
       "        vertical-align: middle;\n",
       "    }\n",
       "\n",
       "    .dataframe tbody tr th {\n",
       "        vertical-align: top;\n",
       "    }\n",
       "\n",
       "    .dataframe thead th {\n",
       "        text-align: right;\n",
       "    }\n",
       "</style>\n",
       "<table border=\"1\" class=\"dataframe\">\n",
       "  <thead>\n",
       "    <tr style=\"text-align: right;\">\n",
       "      <th></th>\n",
       "      <th>TripType</th>\n",
       "      <th>VisitNumber</th>\n",
       "      <th>Weekday</th>\n",
       "      <th>Upc</th>\n",
       "      <th>ScanCount</th>\n",
       "      <th>DepartmentDescription</th>\n",
       "      <th>FinelineNumber</th>\n",
       "    </tr>\n",
       "  </thead>\n",
       "  <tbody>\n",
       "    <tr>\n",
       "      <th>0</th>\n",
       "      <td>999</td>\n",
       "      <td>5</td>\n",
       "      <td>Friday</td>\n",
       "      <td>6.811315e+10</td>\n",
       "      <td>-1</td>\n",
       "      <td>FINANCIAL SERVICES</td>\n",
       "      <td>1000.0</td>\n",
       "    </tr>\n",
       "    <tr>\n",
       "      <th>1</th>\n",
       "      <td>30</td>\n",
       "      <td>7</td>\n",
       "      <td>Friday</td>\n",
       "      <td>6.053882e+10</td>\n",
       "      <td>1</td>\n",
       "      <td>SHOES</td>\n",
       "      <td>8931.0</td>\n",
       "    </tr>\n",
       "    <tr>\n",
       "      <th>2</th>\n",
       "      <td>30</td>\n",
       "      <td>7</td>\n",
       "      <td>Friday</td>\n",
       "      <td>7.410811e+09</td>\n",
       "      <td>1</td>\n",
       "      <td>PERSONAL CARE</td>\n",
       "      <td>4504.0</td>\n",
       "    </tr>\n",
       "    <tr>\n",
       "      <th>3</th>\n",
       "      <td>26</td>\n",
       "      <td>8</td>\n",
       "      <td>Friday</td>\n",
       "      <td>2.238404e+09</td>\n",
       "      <td>2</td>\n",
       "      <td>PAINT AND ACCESSORIES</td>\n",
       "      <td>3565.0</td>\n",
       "    </tr>\n",
       "    <tr>\n",
       "      <th>4</th>\n",
       "      <td>26</td>\n",
       "      <td>8</td>\n",
       "      <td>Friday</td>\n",
       "      <td>2.006614e+09</td>\n",
       "      <td>2</td>\n",
       "      <td>PAINT AND ACCESSORIES</td>\n",
       "      <td>1017.0</td>\n",
       "    </tr>\n",
       "  </tbody>\n",
       "</table>\n",
       "</div>"
      ],
      "text/plain": [
       "   TripType  VisitNumber Weekday           Upc  ScanCount  \\\n",
       "0       999            5  Friday  6.811315e+10         -1   \n",
       "1        30            7  Friday  6.053882e+10          1   \n",
       "2        30            7  Friday  7.410811e+09          1   \n",
       "3        26            8  Friday  2.238404e+09          2   \n",
       "4        26            8  Friday  2.006614e+09          2   \n",
       "\n",
       "   DepartmentDescription  FinelineNumber  \n",
       "0     FINANCIAL SERVICES          1000.0  \n",
       "1                  SHOES          8931.0  \n",
       "2          PERSONAL CARE          4504.0  \n",
       "3  PAINT AND ACCESSORIES          3565.0  \n",
       "4  PAINT AND ACCESSORIES          1017.0  "
      ]
     },
     "execution_count": 9,
     "metadata": {},
     "output_type": "execute_result"
    }
   ],
   "source": [
    "train.head()"
   ]
  },
  {
   "cell_type": "markdown",
   "metadata": {},
   "source": [
    "### 최종적으로 예측할 TripType은 VisitNumber별로 예측합니다. 같은 VisitNumber(손님)은 같은 TripType을 가짐을 알 수 있습니다."
   ]
  },
  {
   "cell_type": "markdown",
   "metadata": {
    "slideshow": {
     "slide_type": "fragment"
    }
   },
   "source": [
    "## 7번 고객은 각각 다른 물품을 하나씩, 총 2개씩 구매했습니다."
   ]
  },
  {
   "cell_type": "markdown",
   "metadata": {
    "slideshow": {
     "slide_type": "slide"
    }
   },
   "source": [
    "# 2.3 `Weekday` \n",
    "- 거래가 일어난 요일을 나타냅니다."
   ]
  },
  {
   "cell_type": "code",
   "execution_count": 10,
   "metadata": {
    "slideshow": {
     "slide_type": "fragment"
    }
   },
   "outputs": [
    {
     "name": "stdout",
     "output_type": "stream",
     "text": [
      "['Friday' 'Saturday' 'Sunday' 'Monday' 'Tuesday' 'Wednesday' 'Thursday']\n"
     ]
    }
   ],
   "source": [
    "print(train.Weekday.unique())"
   ]
  },
  {
   "cell_type": "markdown",
   "metadata": {
    "slideshow": {
     "slide_type": "slide"
    }
   },
   "source": [
    "# 2.4 `ScanCount`\n",
    "- 해당 상품을 한번에 몇 개 샀는지를 나타냅니다.\n",
    "- 반품했을 경우 음수값으로 표시합니다."
   ]
  },
  {
   "cell_type": "code",
   "execution_count": 11,
   "metadata": {
    "slideshow": {
     "slide_type": "fragment"
    }
   },
   "outputs": [
    {
     "name": "stdout",
     "output_type": "stream",
     "text": [
      "[ -1   1   2   3   5   6   4  14  -2   9   7  10   8  -3  -5  11  16  -4\n",
      "  13  15  30  -6  12  20 -12  19  46  23  -7  22  25  24  31  -9  51  17\n",
      "  18  71 -10]\n",
      "count    647054.000000\n",
      "mean          1.108878\n",
      "std           0.700776\n",
      "min         -12.000000\n",
      "25%           1.000000\n",
      "50%           1.000000\n",
      "75%           1.000000\n",
      "max          71.000000\n",
      "Name: ScanCount, dtype: float64\n"
     ]
    }
   ],
   "source": [
    "print(train.ScanCount.unique())\n",
    "print(train.ScanCount.describe())"
   ]
  },
  {
   "cell_type": "markdown",
   "metadata": {
    "slideshow": {
     "slide_type": "slide"
    }
   },
   "source": [
    "# 2.5 `DepartmentDescription` \n",
    "- 상품 대분류\n",
    "- 이 기준에 따르면 상품들은 68가지로 분류됩니다."
   ]
  },
  {
   "cell_type": "code",
   "execution_count": 12,
   "metadata": {
    "slideshow": {
     "slide_type": "fragment"
    }
   },
   "outputs": [],
   "source": [
    "len(train[\"DepartmentDescription\"].unique().tolist())\n",
    "train = train.replace('MENSWEAR', 'MENS WEAR')\n",
    "test = test.replace('MENSWEAR', 'MENS WEAR')"
   ]
  },
  {
   "cell_type": "code",
   "execution_count": 13,
   "metadata": {
    "slideshow": {
     "slide_type": "fragment"
    }
   },
   "outputs": [
    {
     "name": "stdout",
     "output_type": "stream",
     "text": [
      "68\n",
      "['FINANCIAL SERVICES' 'SHOES' 'PERSONAL CARE' 'PAINT AND ACCESSORIES'\n",
      " 'DSD GROCERY' 'MEAT - FRESH & FROZEN' 'DAIRY' 'PETS AND SUPPLIES'\n",
      " 'HOUSEHOLD CHEMICALS/SUPP' nan 'IMPULSE MERCHANDISE' 'PRODUCE'\n",
      " 'CANDY, TOBACCO, COOKIES' 'GROCERY DRY GOODS' 'BOYS WEAR'\n",
      " 'FABRICS AND CRAFTS' 'JEWELRY AND SUNGLASSES' 'MENS WEAR' 'ACCESSORIES'\n",
      " 'HOME MANAGEMENT' 'FROZEN FOODS' 'SERVICE DELI'\n",
      " 'INFANT CONSUMABLE HARDLINES' 'PRE PACKED DELI' 'COOK AND DINE'\n",
      " 'PHARMACY OTC' 'LADIESWEAR' 'COMM BREAD' 'BAKERY' 'HOUSEHOLD PAPER GOODS'\n",
      " 'CELEBRATION' 'HARDWARE' 'BEAUTY' 'AUTOMOTIVE' 'BOOKS AND MAGAZINES'\n",
      " 'SEAFOOD' 'OFFICE SUPPLIES' 'LAWN AND GARDEN' 'SHEER HOSIERY' 'WIRELESS'\n",
      " 'BEDDING' 'BATH AND SHOWER' 'HORTICULTURE AND ACCESS' 'HOME DECOR' 'TOYS'\n",
      " 'INFANT APPAREL' 'LADIES SOCKS' 'PLUS AND MATERNITY' 'ELECTRONICS'\n",
      " 'GIRLS WEAR, 4-6X  AND 7-14' 'BRAS & SHAPEWEAR' 'LIQUOR,WINE,BEER'\n",
      " 'SLEEPWEAR/FOUNDATIONS' 'CAMERAS AND SUPPLIES' 'SPORTING GOODS'\n",
      " 'PLAYERS AND ELECTRONICS' 'PHARMACY RX' 'OPTICAL - FRAMES'\n",
      " 'SWIMWEAR/OUTERWEAR' 'OTHER DEPARTMENTS' 'MEDIA AND GAMING' 'FURNITURE'\n",
      " 'OPTICAL - LENSES' 'SEASONAL' 'LARGE HOUSEHOLD GOODS' '1-HR PHOTO'\n",
      " 'CONCEPT STORES' 'HEALTH AND BEAUTY AIDS']\n"
     ]
    }
   ],
   "source": [
    "print(len(train.DepartmentDescription.unique()))\n",
    "print(train.DepartmentDescription.unique())"
   ]
  },
  {
   "cell_type": "code",
   "execution_count": 14,
   "metadata": {
    "slideshow": {
     "slide_type": "subslide"
    }
   },
   "outputs": [
    {
     "data": {
      "text/plain": [
       "TripType                 6099\n",
       "VisitNumber              6099\n",
       "Weekday                  6099\n",
       "Upc                      6099\n",
       "ScanCount                6099\n",
       "DepartmentDescription    6099\n",
       "FinelineNumber           6099\n",
       "dtype: int64"
      ]
     },
     "execution_count": 14,
     "metadata": {},
     "output_type": "execute_result"
    }
   ],
   "source": [
    "train[train.DepartmentDescription == 'SHOES'].count()"
   ]
  },
  {
   "cell_type": "markdown",
   "metadata": {
    "slideshow": {
     "slide_type": "slide"
    }
   },
   "source": [
    "# 2.6 `FinelineNumber` \n",
    "- 월마트가 자체적으로 사용하는 세분화된 상품 분류 코드\n",
    "- 이 기준에 따르면 상품들은 5196가지로 분류됩니다."
   ]
  },
  {
   "cell_type": "code",
   "execution_count": 15,
   "metadata": {
    "slideshow": {
     "slide_type": "fragment"
    }
   },
   "outputs": [
    {
     "name": "stdout",
     "output_type": "stream",
     "text": [
      "5196\n",
      "[1000. 8931. 4504. ... 8257. 4314. 7130.]\n"
     ]
    }
   ],
   "source": [
    "print(len(train.FinelineNumber.unique()))\n",
    "print(train.FinelineNumber.unique())"
   ]
  },
  {
   "cell_type": "markdown",
   "metadata": {
    "slideshow": {
     "slide_type": "slide"
    }
   },
   "source": [
    "# 2.7 `Upc`\n",
    "- Universal Product Code. 구매한 제품의 고유값\n",
    "- 97715개 상품이 팔렸습니다."
   ]
  },
  {
   "cell_type": "markdown",
   "metadata": {},
   "source": [
    "## UPC란 우리가 흔히 알고있는 바코드를 의미합니다. full UPC는 12자리입니다.\n",
    "\n",
    "\n",
    "## train 데이터셋에서 UPC의 길이가 다 다름을 알 수 있습니다. UPC의 앞 6자리는 제품을 생산한 회사를 의미하므로, 길이가 6 미만인 것들은 월마트에서 자체생산한 상품임을 알 수 있습니다.(치킨 등 음식류) "
   ]
  },
  {
   "cell_type": "code",
   "execution_count": 16,
   "metadata": {
    "scrolled": true,
    "slideshow": {
     "slide_type": "fragment"
    }
   },
   "outputs": [
    {
     "data": {
      "text/plain": [
       "97715"
      ]
     },
     "execution_count": 16,
     "metadata": {},
     "output_type": "execute_result"
    }
   ],
   "source": [
    "len(train.Upc.unique())"
   ]
  },
  {
   "cell_type": "code",
   "execution_count": 17,
   "metadata": {},
   "outputs": [
    {
     "name": "stdout",
     "output_type": "stream",
     "text": [
      "834\n",
      "978970666419\n"
     ]
    }
   ],
   "source": [
    "print(train.Upc.min().astype(str)[:-2])\n",
    "print(train.Upc.max().astype(str)[:-2])"
   ]
  },
  {
   "cell_type": "markdown",
   "metadata": {
    "slideshow": {
     "slide_type": "slide"
    }
   },
   "source": [
    "# <center>3.전처리 및 EDA</center>"
   ]
  },
  {
   "cell_type": "markdown",
   "metadata": {
    "slideshow": {
     "slide_type": "slide"
    }
   },
   "source": [
    "# 3-1. `TripType` 별 많이 나오는 상품 분류\n",
    "- 타입별로 어떤 물건을 사러 온 손님인지 뚜렷하게 구분이 되는 경우가 많습니다."
   ]
  },
  {
   "cell_type": "code",
   "execution_count": 18,
   "metadata": {
    "slideshow": {
     "slide_type": "skip"
    }
   },
   "outputs": [],
   "source": [
    "description = {\n",
    "    0: \"타입3은 Financial Services가 주를 이룹니다.\",\n",
    "    1: \"타입4는 Pharmacy OTC가 가장 많이 나옵니다.\",\n",
    "    2: \"타입5도 Pharmacy OTC가 가장 많이 나오는데 좀 더 살펴볼 필요가 있습니다.\",\n",
    "    3: \"타입6은 음주자 타입인듯 합니다. 주류가 가장 많고, 안주꺼리인 캔디, 쿠키, 담배 등도 있습니다.\",\n",
    "    4: \"타입7은 '배고픈 사람' 타입인듯 합니다. 조리 식품, 식료품, 냉동식품 등이 있습니다.\",\n",
    "    5: \"타입8은 일반 가정에서 필요한 물건을 ('장보러') 사러 온 타입인듯 합니다. 식료품이 가장 많이 나타나고, Personal Care가 뒤를 잇습니다.\",\n",
    "    6: \"타입9은 남성 고객군인듯 합니다. 남성복과 자동차용품, 사무용품 등을 많이 구매했습니다.\",\n",
    "    7: \"타입12는 뚜렷한 특성을 찾기 어렵습니다.\",\n",
    "    8: \"타입14는 소소한 취미 타입인듯 합니다. 직물, 수공예품, 애완용품, 게임 등을 구매했습니다.\",\n",
    "    9: \"타입15는 파티 타입인듯 합니다. Celebration이 주를 이룹니다.\",\n",
    "    10: \"타입18은 장난감 타입입니다. Toys가 가장 많이 보입니다\",\n",
    "    11: \"타입19는 전자기기를 사러 온 고객인듯 합니다. Electronics가 가장 많고 나머지는 미미합니다.\",\n",
    "    12: \"타입20은 자동차용품을 사러 온 고객인듯 합니다. Automotive가 가장 많고 나머지는 미미합니다.\",\n",
    "    13: \"타입21은 잘 알아차리기 어렵습니다. Fabrics and Crafts와 사무용품이 비슷하게 많습니다.\",\n",
    "    14: \"타입22는 게이머 고객인듯 합니다. Electronics가 가장 많고 Media and Gaming도 많습니다.\",\n",
    "    15: \"타입23은 Players and Electronics와 Media and Gaming 순으로 많습니다. 타입 22와 비교해 볼 필요가 있습니다.\",\n",
    "    16: \"타입24는 집순이형 타입입니다. 요리, 집안 관리, 세면용품, 홈 데코 등이 있습니다.\", \n",
    "    17: \"타입25는 가족들 옷을 사러온 타입입니다. 남성복, 여성복, 아이들 옷 등이 주를 이룹니다.\",\n",
    "    18: \"타입26은 철물점 타입입니다. Hardware가 가장 많고 페인트와 장식품 등이 있습니다.\",\n",
    "    19: \"타입27은 정원관리형 타입입니다. Lawn and Garden과 Horticulture and Access가 많습니다.\",\n",
    "    20: \"타입28은 스포츠 타입입니다. 스포츠용품 구매가 가장 많습니다.\", \n",
    "    21: \"타입29는 장난감 타입입니다. Toys, Sporting Goods 순으로 많습니다.\",\n",
    "    22: \"타입30은 신발 사러 온 사람들입니다. Shoes가 가장 많습니다.\",\n",
    "    23: \"타입31은 통신 관련 소비자군입니다. Wireless가 대부분입니다.\",\n",
    "    24: \"타입32는 아기용품을 구매하는 타입입니다.\", \n",
    "    25: \"타입33은 집관리형입니다. Household Chemical Supply가 많습니다.\",\n",
    "    26: \"타입34는 애완용품형입니다. Pets and supplies가 많습니다.\",\n",
    "    27: \"타입35는 DSD 타입입니다. DSD(Direct Store delivery)란 점포 직접 납품의 약자로, 공급업체가 상품을 유통업체의 물류센터를 경유하지 않고 점포로 직접 납품하는 형태를 말합니다.\",\n",
    "    28: \"타입36은 피부 미용 타입입니다. Personal Care, Beauty가 많습니다.\",\n",
    "    29: \"타입37은 채소 등 농산물 타입입니다. Produce가 가장 많습니다.\",\n",
    "    30: \"타입38은 유제품 타입입니다. Dairy가 가장 많습니다.\", \n",
    "    31: \"타입39는 DSD Grocery, Grocery Dry Goods가 가장 많습니다.\",\n",
    "    32: \"타입40은 곡류 타입입니다. Grocery Dry Goods 위주입니다.\", \n",
    "    33: \"타입41은 뚜렷한 특징을 찾기 어렵습니다.\", \n",
    "    34: \"타입42는 충동구매 타입인듯 합니다. Impulse Merchandise 구매가 가장 많습니다.\", \n",
    "    35: \"타입43도 뚜렷한 특징을 찾기 어렵습니다. Personal Care, DSD Grocery 등이 낮은 빈도로 있습니다\", \n",
    "    36: \"타입44는 Personal Care가 가장 많습니다.\", \n",
    "    37: \"타입999는 Financial Service가 주류를 이룹니다. 위에서 봤듯 반품을 위한 방문이며, 반품의 경우 Financial Service로 분류되는듯 합니다. 반품을 하면서도 이것저것 구매한다고 추측해볼 수 있습니다.\"\n",
    "}"
   ]
  },
  {
   "cell_type": "code",
   "execution_count": 19,
   "metadata": {
    "slideshow": {
     "slide_type": "slide"
    }
   },
   "outputs": [
    {
     "data": {
      "image/png": "[encoded data removed]",
      "text/plain": [
       "<Figure size 1080x144 with 1 Axes>"
      ]
     },
     "metadata": {},
     "output_type": "display_data"
    },
    {
     "name": "stdout",
     "output_type": "stream",
     "text": [
      "타입9은 남성 고객군인듯 합니다. 남성복과 자동차용품, 사무용품 등을 많이 구매했습니다.\n",
      " \n"
     ]
    }
   ],
   "source": [
    "triptypelist = sorted(list(train['TripType'].unique()))\n",
    "\n",
    "type_6 = train[train.TripType == triptypelist[6]]\n",
    "type_6_items = type_6[[\"TripType\",\"DepartmentDescription\"]]\n",
    "plt.figure(figsize=(15,2))\n",
    "type_6_items.DepartmentDescription.value_counts().head(10).plot(kind=\"bar\", rot=15, title=\"TripType {}\".format(triptypelist[6]), color=\"orange\")\n",
    "plt.show()\n",
    "print(list(description.values())[6])\n",
    "print(\" \")"
   ]
  },
  {
   "cell_type": "code",
   "execution_count": 20,
   "metadata": {
    "slideshow": {
     "slide_type": "fragment"
    }
   },
   "outputs": [
    {
     "data": {
      "image/png": "[encoded data removed]",
      "text/plain": [
       "<Figure size 1080x144 with 1 Axes>"
      ]
     },
     "metadata": {},
     "output_type": "display_data"
    },
    {
     "name": "stdout",
     "output_type": "stream",
     "text": [
      "타입32는 아기용품을 구매하는 타입입니다.\n",
      " \n"
     ]
    }
   ],
   "source": [
    "triptypelist = sorted(list(train['TripType'].unique()))\n",
    "\n",
    "type_24 = train[train.TripType == triptypelist[24]]\n",
    "type_24_items = type_24[[\"TripType\",\"DepartmentDescription\"]]\n",
    "plt.figure(figsize=(15,2))\n",
    "type_24_items.DepartmentDescription.value_counts().head(10).plot(kind=\"bar\", rot=15, title=\"TripType {}\".format(triptypelist[24]), color=\"orange\")\n",
    "plt.show()\n",
    "print(list(description.values())[24])\n",
    "print(\" \")"
   ]
  },
  {
   "cell_type": "markdown",
   "metadata": {
    "slideshow": {
     "slide_type": "slide"
    }
   },
   "source": [
    "# 3-2.  `MENSWEAR` 와 `MENS WEAR`는 같은 값이므로 `MENSWEAR`로 합쳐줍니다."
   ]
  },
  {
   "cell_type": "code",
   "execution_count": 22,
   "metadata": {
    "slideshow": {
     "slide_type": "skip"
    }
   },
   "outputs": [],
   "source": [
    "len(train[\"DepartmentDescription\"].unique().tolist())\n",
    "train = train.replace('MENSWEAR', 'MENS WEAR')\n",
    "test = test.replace('MENSWEAR', 'MENS WEAR')"
   ]
  },
  {
   "cell_type": "markdown",
   "metadata": {
    "slideshow": {
     "slide_type": "slide"
    }
   },
   "source": [
    "# 3-3. `TripType` 별 `DepartmentDescription` 분포"
   ]
  },
  {
   "cell_type": "code",
   "execution_count": 23,
   "metadata": {
    "slideshow": {
     "slide_type": "slide"
    }
   },
   "outputs": [
    {
     "data": {
      "image/png": "[encoded data removed]",
      "text/plain": [
       "<Figure size 1152x576 with 2 Axes>"
      ]
     },
     "metadata": {},
     "output_type": "display_data"
    }
   ],
   "source": [
    "triptype_desc = pd.crosstab(train[\"TripType\"], \n",
    "                        train[\"DepartmentDescription\"], \n",
    "                        values=train[\"ScanCount\"], \n",
    "                        aggfunc=\"count\", \n",
    "                        normalize=\"index\")\n",
    "\n",
    "plt.figure(figsize=(16, 8))\n",
    "sns.heatmap(triptype_desc, linecolor=\"lightgrey\", linewidths=0.02, cmap=\"pink\", alpha=1)\n",
    "plt.title(\"TripType별로 살펴본 Department 분포\", fontsize=15)\n",
    "plt.show()"
   ]
  },
  {
   "cell_type": "markdown",
   "metadata": {
    "slideshow": {
     "slide_type": "fragment"
    }
   },
   "source": [
    "## 한 고객 특성에서 하나의 물품 종류만을 구매하는것이 아니라는걸 확인할 수 있습니다."
   ]
  },
  {
   "cell_type": "markdown",
   "metadata": {
    "slideshow": {
     "slide_type": "slide"
    }
   },
   "source": [
    "# 3-4. `DepartmentDescription`, `FinelineNumber`의 관계"
   ]
  },
  {
   "cell_type": "markdown",
   "metadata": {
    "slideshow": {
     "slide_type": "fragment"
    }
   },
   "source": [
    "###  `FinelineNumber`이 nan일 경우, `Upc`가 함께 nan이며 `DepartmentDescription`는 nan 혹은 `PHARMACY RX`입니다."
   ]
  },
  {
   "cell_type": "code",
   "execution_count": 24,
   "metadata": {
    "scrolled": true,
    "slideshow": {
     "slide_type": "fragment"
    }
   },
   "outputs": [
    {
     "data": {
      "text/plain": [
       "TripType                    0\n",
       "VisitNumber                 0\n",
       "Weekday                     0\n",
       "Upc                      4129\n",
       "ScanCount                   0\n",
       "DepartmentDescription    1361\n",
       "FinelineNumber           4129\n",
       "dtype: int64"
      ]
     },
     "execution_count": 24,
     "metadata": {},
     "output_type": "execute_result"
    }
   ],
   "source": [
    "train.isna().sum()"
   ]
  },
  {
   "cell_type": "markdown",
   "metadata": {
    "slideshow": {
     "slide_type": "slide"
    }
   },
   "source": [
    "# 3-4. pos_sum, neg_sum, return 컬럼 생성"
   ]
  },
  {
   "cell_type": "code",
   "execution_count": 25,
   "metadata": {
    "slideshow": {
     "slide_type": "fragment"
    }
   },
   "outputs": [],
   "source": [
    "train.loc[train[\"ScanCount\"] < 0, \"Return\"] = 1\n",
    "train.loc[train[\"Return\"] != 1, \"Return\"] = 0\n",
    "\n",
    "test.loc[test[\"ScanCount\"] < 0, \"Return\"] = 1\n",
    "test.loc[test[\"Return\"] != 1, \"Return\"] = 0"
   ]
  },
  {
   "cell_type": "code",
   "execution_count": 26,
   "metadata": {
    "slideshow": {
     "slide_type": "fragment"
    }
   },
   "outputs": [],
   "source": [
    "train[\"Pos_Sum\"] = train[\"ScanCount\"]\n",
    "test[\"Pos_Sum\"] = test[\"ScanCount\"]\n",
    "\n",
    "train.loc[train[\"Pos_Sum\"] < 0, \"Pos_Sum\"] = 0\n",
    "test.loc[test[\"Pos_Sum\"] < 0, \"Pos_Sum\"] = 0"
   ]
  },
  {
   "cell_type": "code",
   "execution_count": 27,
   "metadata": {
    "slideshow": {
     "slide_type": "fragment"
    }
   },
   "outputs": [],
   "source": [
    "train[\"Neg_Sum\"] = train[\"ScanCount\"]\n",
    "test[\"Neg_Sum\"] = test[\"ScanCount\"]\n",
    "\n",
    "train.loc[train[\"Neg_Sum\"] > 0, \"Neg_Sum\"] = 0\n",
    "test.loc[test[\"Neg_Sum\"] > 0, \"Neg_Sum\"] = 0"
   ]
  },
  {
   "cell_type": "code",
   "execution_count": 28,
   "metadata": {
    "slideshow": {
     "slide_type": "fragment"
    }
   },
   "outputs": [
    {
     "data": {
      "text/html": [
       "<div>\n",
       "<style scoped>\n",
       "    .dataframe tbody tr th:only-of-type {\n",
       "        vertical-align: middle;\n",
       "    }\n",
       "\n",
       "    .dataframe tbody tr th {\n",
       "        vertical-align: top;\n",
       "    }\n",
       "\n",
       "    .dataframe thead th {\n",
       "        text-align: right;\n",
       "    }\n",
       "</style>\n",
       "<table border=\"1\" class=\"dataframe\">\n",
       "  <thead>\n",
       "    <tr style=\"text-align: right;\">\n",
       "      <th></th>\n",
       "      <th>TripType</th>\n",
       "      <th>VisitNumber</th>\n",
       "      <th>Weekday</th>\n",
       "      <th>Upc</th>\n",
       "      <th>ScanCount</th>\n",
       "      <th>DepartmentDescription</th>\n",
       "      <th>FinelineNumber</th>\n",
       "      <th>Return</th>\n",
       "      <th>Pos_Sum</th>\n",
       "      <th>Neg_Sum</th>\n",
       "    </tr>\n",
       "  </thead>\n",
       "  <tbody>\n",
       "    <tr>\n",
       "      <th>0</th>\n",
       "      <td>999</td>\n",
       "      <td>5</td>\n",
       "      <td>Friday</td>\n",
       "      <td>6.811315e+10</td>\n",
       "      <td>-1</td>\n",
       "      <td>FINANCIAL SERVICES</td>\n",
       "      <td>1000.0</td>\n",
       "      <td>1.0</td>\n",
       "      <td>0</td>\n",
       "      <td>-1</td>\n",
       "    </tr>\n",
       "    <tr>\n",
       "      <th>1</th>\n",
       "      <td>30</td>\n",
       "      <td>7</td>\n",
       "      <td>Friday</td>\n",
       "      <td>6.053882e+10</td>\n",
       "      <td>1</td>\n",
       "      <td>SHOES</td>\n",
       "      <td>8931.0</td>\n",
       "      <td>0.0</td>\n",
       "      <td>1</td>\n",
       "      <td>0</td>\n",
       "    </tr>\n",
       "    <tr>\n",
       "      <th>2</th>\n",
       "      <td>30</td>\n",
       "      <td>7</td>\n",
       "      <td>Friday</td>\n",
       "      <td>7.410811e+09</td>\n",
       "      <td>1</td>\n",
       "      <td>PERSONAL CARE</td>\n",
       "      <td>4504.0</td>\n",
       "      <td>0.0</td>\n",
       "      <td>1</td>\n",
       "      <td>0</td>\n",
       "    </tr>\n",
       "    <tr>\n",
       "      <th>3</th>\n",
       "      <td>26</td>\n",
       "      <td>8</td>\n",
       "      <td>Friday</td>\n",
       "      <td>2.238404e+09</td>\n",
       "      <td>2</td>\n",
       "      <td>PAINT AND ACCESSORIES</td>\n",
       "      <td>3565.0</td>\n",
       "      <td>0.0</td>\n",
       "      <td>2</td>\n",
       "      <td>0</td>\n",
       "    </tr>\n",
       "    <tr>\n",
       "      <th>4</th>\n",
       "      <td>26</td>\n",
       "      <td>8</td>\n",
       "      <td>Friday</td>\n",
       "      <td>2.006614e+09</td>\n",
       "      <td>2</td>\n",
       "      <td>PAINT AND ACCESSORIES</td>\n",
       "      <td>1017.0</td>\n",
       "      <td>0.0</td>\n",
       "      <td>2</td>\n",
       "      <td>0</td>\n",
       "    </tr>\n",
       "  </tbody>\n",
       "</table>\n",
       "</div>"
      ],
      "text/plain": [
       "   TripType  VisitNumber Weekday           Upc  ScanCount  \\\n",
       "0       999            5  Friday  6.811315e+10         -1   \n",
       "1        30            7  Friday  6.053882e+10          1   \n",
       "2        30            7  Friday  7.410811e+09          1   \n",
       "3        26            8  Friday  2.238404e+09          2   \n",
       "4        26            8  Friday  2.006614e+09          2   \n",
       "\n",
       "   DepartmentDescription  FinelineNumber  Return  Pos_Sum  Neg_Sum  \n",
       "0     FINANCIAL SERVICES          1000.0     1.0        0       -1  \n",
       "1                  SHOES          8931.0     0.0        1        0  \n",
       "2          PERSONAL CARE          4504.0     0.0        1        0  \n",
       "3  PAINT AND ACCESSORIES          3565.0     0.0        2        0  \n",
       "4  PAINT AND ACCESSORIES          1017.0     0.0        2        0  "
      ]
     },
     "execution_count": 28,
     "metadata": {},
     "output_type": "execute_result"
    }
   ],
   "source": [
    "train.head()"
   ]
  },
  {
   "cell_type": "markdown",
   "metadata": {
    "slideshow": {
     "slide_type": "slide"
    }
   },
   "source": [
    "# 3-5. UPC와 관련한 특징을 만듭니다."
   ]
  },
  {
   "cell_type": "code",
   "execution_count": 29,
   "metadata": {
    "slideshow": {
     "slide_type": "skip"
    }
   },
   "outputs": [],
   "source": [
    "def float_to_str(obj):\n",
    "    \"\"\"\n",
    "    Convert Upc code from float to string\n",
    "    Use this function by applying lambda\n",
    "    :param obj: \"Upc\" column of DataFrame\n",
    "    :return: string converted Upc removing dot.\n",
    "    \"\"\"\n",
    "    while obj != \"nan\":\n",
    "        obj = str(obj).split(\".\")[0]\n",
    "        return obj"
   ]
  },
  {
   "cell_type": "code",
   "execution_count": 30,
   "metadata": {
    "slideshow": {
     "slide_type": "skip"
    }
   },
   "outputs": [],
   "source": [
    "\n",
    "def company(x):\n",
    "    \"\"\"\n",
    "    Return company code from given Upc code.\n",
    "    :param x: \"Upc\" column of DataFrame\n",
    "    :return: company code\n",
    "    \"\"\"\n",
    "    try:\n",
    "        p = x[:6]\n",
    "        if p == \"000000\":\n",
    "            return x[-5]\n",
    "        return p\n",
    "    except:\n",
    "        return -9999"
   ]
  },
  {
   "cell_type": "code",
   "execution_count": 31,
   "metadata": {
    "slideshow": {
     "slide_type": "slide"
    }
   },
   "outputs": [],
   "source": [
    "train[\"Upc\"] = train.Upc.apply(float_to_str)\n",
    "test[\"Upc\"] = test.Upc.apply(float_to_str)\n",
    "\n",
    "train[\"company\"] = train.Upc.apply(company) \n",
    "test[\"company\"] = test.Upc.apply(company)"
   ]
  },
  {
   "cell_type": "markdown",
   "metadata": {},
   "source": [
    "Upc에 포함되어있는 회사정보를 추출합니다."
   ]
  },
  {
   "cell_type": "code",
   "execution_count": 32,
   "metadata": {
    "scrolled": false,
    "slideshow": {
     "slide_type": "fragment"
    }
   },
   "outputs": [
    {
     "data": {
      "text/html": [
       "<div>\n",
       "<style scoped>\n",
       "    .dataframe tbody tr th:only-of-type {\n",
       "        vertical-align: middle;\n",
       "    }\n",
       "\n",
       "    .dataframe tbody tr th {\n",
       "        vertical-align: top;\n",
       "    }\n",
       "\n",
       "    .dataframe thead th {\n",
       "        text-align: right;\n",
       "    }\n",
       "</style>\n",
       "<table border=\"1\" class=\"dataframe\">\n",
       "  <thead>\n",
       "    <tr style=\"text-align: right;\">\n",
       "      <th></th>\n",
       "      <th>TripType</th>\n",
       "      <th>VisitNumber</th>\n",
       "      <th>Weekday</th>\n",
       "      <th>Upc</th>\n",
       "      <th>ScanCount</th>\n",
       "      <th>DepartmentDescription</th>\n",
       "      <th>FinelineNumber</th>\n",
       "      <th>Return</th>\n",
       "      <th>Pos_Sum</th>\n",
       "      <th>Neg_Sum</th>\n",
       "      <th>company</th>\n",
       "    </tr>\n",
       "  </thead>\n",
       "  <tbody>\n",
       "    <tr>\n",
       "      <th>647049</th>\n",
       "      <td>39</td>\n",
       "      <td>191346</td>\n",
       "      <td>Sunday</td>\n",
       "      <td>32390001778</td>\n",
       "      <td>1</td>\n",
       "      <td>PHARMACY OTC</td>\n",
       "      <td>1118.0</td>\n",
       "      <td>0.0</td>\n",
       "      <td>1</td>\n",
       "      <td>0</td>\n",
       "      <td>323900</td>\n",
       "    </tr>\n",
       "    <tr>\n",
       "      <th>647050</th>\n",
       "      <td>39</td>\n",
       "      <td>191346</td>\n",
       "      <td>Sunday</td>\n",
       "      <td>7874205336</td>\n",
       "      <td>1</td>\n",
       "      <td>FROZEN FOODS</td>\n",
       "      <td>1752.0</td>\n",
       "      <td>0.0</td>\n",
       "      <td>1</td>\n",
       "      <td>0</td>\n",
       "      <td>787420</td>\n",
       "    </tr>\n",
       "    <tr>\n",
       "      <th>647051</th>\n",
       "      <td>39</td>\n",
       "      <td>191346</td>\n",
       "      <td>Sunday</td>\n",
       "      <td>4072</td>\n",
       "      <td>1</td>\n",
       "      <td>PRODUCE</td>\n",
       "      <td>4170.0</td>\n",
       "      <td>0.0</td>\n",
       "      <td>1</td>\n",
       "      <td>0</td>\n",
       "      <td>4072</td>\n",
       "    </tr>\n",
       "    <tr>\n",
       "      <th>647052</th>\n",
       "      <td>8</td>\n",
       "      <td>191347</td>\n",
       "      <td>Sunday</td>\n",
       "      <td>4190007664</td>\n",
       "      <td>1</td>\n",
       "      <td>DAIRY</td>\n",
       "      <td>1512.0</td>\n",
       "      <td>0.0</td>\n",
       "      <td>1</td>\n",
       "      <td>0</td>\n",
       "      <td>419000</td>\n",
       "    </tr>\n",
       "    <tr>\n",
       "      <th>647053</th>\n",
       "      <td>8</td>\n",
       "      <td>191347</td>\n",
       "      <td>Sunday</td>\n",
       "      <td>3800059655</td>\n",
       "      <td>1</td>\n",
       "      <td>GROCERY DRY GOODS</td>\n",
       "      <td>3600.0</td>\n",
       "      <td>0.0</td>\n",
       "      <td>1</td>\n",
       "      <td>0</td>\n",
       "      <td>380005</td>\n",
       "    </tr>\n",
       "  </tbody>\n",
       "</table>\n",
       "</div>"
      ],
      "text/plain": [
       "        TripType  VisitNumber Weekday          Upc  ScanCount  \\\n",
       "647049        39       191346  Sunday  32390001778          1   \n",
       "647050        39       191346  Sunday   7874205336          1   \n",
       "647051        39       191346  Sunday         4072          1   \n",
       "647052         8       191347  Sunday   4190007664          1   \n",
       "647053         8       191347  Sunday   3800059655          1   \n",
       "\n",
       "       DepartmentDescription  FinelineNumber  Return  Pos_Sum  Neg_Sum company  \n",
       "647049          PHARMACY OTC          1118.0     0.0        1        0  323900  \n",
       "647050          FROZEN FOODS          1752.0     0.0        1        0  787420  \n",
       "647051               PRODUCE          4170.0     0.0        1        0    4072  \n",
       "647052                 DAIRY          1512.0     0.0        1        0  419000  \n",
       "647053     GROCERY DRY GOODS          3600.0     0.0        1        0  380005  "
      ]
     },
     "execution_count": 32,
     "metadata": {},
     "output_type": "execute_result"
    }
   ],
   "source": [
    "train.tail()"
   ]
  },
  {
   "cell_type": "code",
   "execution_count": 33,
   "metadata": {},
   "outputs": [
    {
     "data": {
      "text/html": [
       "<div>\n",
       "<style scoped>\n",
       "    .dataframe tbody tr th:only-of-type {\n",
       "        vertical-align: middle;\n",
       "    }\n",
       "\n",
       "    .dataframe tbody tr th {\n",
       "        vertical-align: top;\n",
       "    }\n",
       "\n",
       "    .dataframe thead th {\n",
       "        text-align: right;\n",
       "    }\n",
       "</style>\n",
       "<table border=\"1\" class=\"dataframe\">\n",
       "  <thead>\n",
       "    <tr style=\"text-align: right;\">\n",
       "      <th>company</th>\n",
       "      <th>-9999</th>\n",
       "      <th>100866</th>\n",
       "      <th>101644</th>\n",
       "      <th>101645</th>\n",
       "      <th>101810</th>\n",
       "      <th>101811</th>\n",
       "      <th>101990</th>\n",
       "      <th>101991</th>\n",
       "      <th>102735</th>\n",
       "      <th>102791</th>\n",
       "      <th>...</th>\n",
       "      <th>9898</th>\n",
       "      <th>9899</th>\n",
       "      <th>993389</th>\n",
       "      <th>995000</th>\n",
       "      <th>995550</th>\n",
       "      <th>995551</th>\n",
       "      <th>996062</th>\n",
       "      <th>998000</th>\n",
       "      <th>999239</th>\n",
       "      <th>999880</th>\n",
       "    </tr>\n",
       "    <tr>\n",
       "      <th>VisitNumber</th>\n",
       "      <th></th>\n",
       "      <th></th>\n",
       "      <th></th>\n",
       "      <th></th>\n",
       "      <th></th>\n",
       "      <th></th>\n",
       "      <th></th>\n",
       "      <th></th>\n",
       "      <th></th>\n",
       "      <th></th>\n",
       "      <th></th>\n",
       "      <th></th>\n",
       "      <th></th>\n",
       "      <th></th>\n",
       "      <th></th>\n",
       "      <th></th>\n",
       "      <th></th>\n",
       "      <th></th>\n",
       "      <th></th>\n",
       "      <th></th>\n",
       "      <th></th>\n",
       "    </tr>\n",
       "  </thead>\n",
       "  <tbody>\n",
       "    <tr>\n",
       "      <th>191343</th>\n",
       "      <td>False</td>\n",
       "      <td>False</td>\n",
       "      <td>False</td>\n",
       "      <td>False</td>\n",
       "      <td>False</td>\n",
       "      <td>False</td>\n",
       "      <td>False</td>\n",
       "      <td>False</td>\n",
       "      <td>False</td>\n",
       "      <td>False</td>\n",
       "      <td>...</td>\n",
       "      <td>False</td>\n",
       "      <td>False</td>\n",
       "      <td>False</td>\n",
       "      <td>False</td>\n",
       "      <td>False</td>\n",
       "      <td>False</td>\n",
       "      <td>False</td>\n",
       "      <td>False</td>\n",
       "      <td>False</td>\n",
       "      <td>False</td>\n",
       "    </tr>\n",
       "    <tr>\n",
       "      <th>191344</th>\n",
       "      <td>False</td>\n",
       "      <td>False</td>\n",
       "      <td>False</td>\n",
       "      <td>False</td>\n",
       "      <td>False</td>\n",
       "      <td>False</td>\n",
       "      <td>False</td>\n",
       "      <td>False</td>\n",
       "      <td>False</td>\n",
       "      <td>False</td>\n",
       "      <td>...</td>\n",
       "      <td>False</td>\n",
       "      <td>False</td>\n",
       "      <td>False</td>\n",
       "      <td>False</td>\n",
       "      <td>False</td>\n",
       "      <td>False</td>\n",
       "      <td>False</td>\n",
       "      <td>False</td>\n",
       "      <td>False</td>\n",
       "      <td>False</td>\n",
       "    </tr>\n",
       "    <tr>\n",
       "      <th>191345</th>\n",
       "      <td>False</td>\n",
       "      <td>False</td>\n",
       "      <td>False</td>\n",
       "      <td>False</td>\n",
       "      <td>False</td>\n",
       "      <td>False</td>\n",
       "      <td>False</td>\n",
       "      <td>False</td>\n",
       "      <td>False</td>\n",
       "      <td>False</td>\n",
       "      <td>...</td>\n",
       "      <td>False</td>\n",
       "      <td>False</td>\n",
       "      <td>False</td>\n",
       "      <td>False</td>\n",
       "      <td>False</td>\n",
       "      <td>False</td>\n",
       "      <td>False</td>\n",
       "      <td>False</td>\n",
       "      <td>False</td>\n",
       "      <td>False</td>\n",
       "    </tr>\n",
       "    <tr>\n",
       "      <th>191346</th>\n",
       "      <td>False</td>\n",
       "      <td>False</td>\n",
       "      <td>False</td>\n",
       "      <td>False</td>\n",
       "      <td>False</td>\n",
       "      <td>False</td>\n",
       "      <td>False</td>\n",
       "      <td>False</td>\n",
       "      <td>False</td>\n",
       "      <td>False</td>\n",
       "      <td>...</td>\n",
       "      <td>False</td>\n",
       "      <td>False</td>\n",
       "      <td>False</td>\n",
       "      <td>False</td>\n",
       "      <td>False</td>\n",
       "      <td>False</td>\n",
       "      <td>False</td>\n",
       "      <td>False</td>\n",
       "      <td>False</td>\n",
       "      <td>False</td>\n",
       "    </tr>\n",
       "    <tr>\n",
       "      <th>191347</th>\n",
       "      <td>False</td>\n",
       "      <td>False</td>\n",
       "      <td>False</td>\n",
       "      <td>False</td>\n",
       "      <td>False</td>\n",
       "      <td>False</td>\n",
       "      <td>False</td>\n",
       "      <td>False</td>\n",
       "      <td>False</td>\n",
       "      <td>False</td>\n",
       "      <td>...</td>\n",
       "      <td>False</td>\n",
       "      <td>False</td>\n",
       "      <td>False</td>\n",
       "      <td>False</td>\n",
       "      <td>False</td>\n",
       "      <td>False</td>\n",
       "      <td>False</td>\n",
       "      <td>False</td>\n",
       "      <td>False</td>\n",
       "      <td>False</td>\n",
       "    </tr>\n",
       "  </tbody>\n",
       "</table>\n",
       "<p>5 rows × 9097 columns</p>\n",
       "</div>"
      ],
      "text/plain": [
       "company      -9999  100866  101644  101645  101810  101811  101990  101991  \\\n",
       "VisitNumber                                                                  \n",
       "191343       False   False   False   False   False   False   False   False   \n",
       "191344       False   False   False   False   False   False   False   False   \n",
       "191345       False   False   False   False   False   False   False   False   \n",
       "191346       False   False   False   False   False   False   False   False   \n",
       "191347       False   False   False   False   False   False   False   False   \n",
       "\n",
       "company      102735  102791   ...     9898   9899  993389  995000  995550  \\\n",
       "VisitNumber                   ...                                           \n",
       "191343        False   False   ...    False  False   False   False   False   \n",
       "191344        False   False   ...    False  False   False   False   False   \n",
       "191345        False   False   ...    False  False   False   False   False   \n",
       "191346        False   False   ...    False  False   False   False   False   \n",
       "191347        False   False   ...    False  False   False   False   False   \n",
       "\n",
       "company      995551  996062  998000  999239  999880  \n",
       "VisitNumber                                          \n",
       "191343        False   False   False   False   False  \n",
       "191344        False   False   False   False   False  \n",
       "191345        False   False   False   False   False  \n",
       "191346        False   False   False   False   False  \n",
       "191347        False   False   False   False   False  \n",
       "\n",
       "[5 rows x 9097 columns]"
      ]
     },
     "execution_count": 33,
     "metadata": {},
     "output_type": "execute_result"
    }
   ],
   "source": [
    "train[\"Upc\"] = train.Upc.apply(float_to_str)\n",
    "train[\"company\"] = train.Upc.apply(company) \n",
    "train_com = train.loc[:, ['VisitNumber', 'company']].drop_duplicates()\n",
    "train_com['val'] = True\n",
    "train_company = train_com.pivot('VisitNumber', 'company', 'val').fillna(False)\n",
    "train_company.tail()"
   ]
  },
  {
   "cell_type": "code",
   "execution_count": 34,
   "metadata": {},
   "outputs": [],
   "source": [
    "\n",
    "test[\"Upc\"] = test.Upc.apply(float_to_str)\n",
    "test[\"company\"] = test.Upc.apply(company)\n",
    "\n",
    "test_com = test.loc[:, ['VisitNumber', 'company']].drop_duplicates()\n",
    "test_com['val'] = True\n",
    "test_company = test_com.pivot('VisitNumber', 'company', 'val').fillna(False)\n"
   ]
  },
  {
   "cell_type": "code",
   "execution_count": 35,
   "metadata": {
    "slideshow": {
     "slide_type": "fragment"
    }
   },
   "outputs": [],
   "source": [
    "train_upc_fine = train[[\"VisitNumber\", \"Upc\"]]\n",
    "test_upc_fine = test[[\"VisitNumber\", \"Upc\"]]\n",
    "\n",
    "train_upc_fine[\"Upc\"] = train_upc_fine.Upc.apply(float_to_str)\n",
    "test_upc_fine[\"Upc\"] = test_upc_fine.Upc.apply(float_to_str)\n",
    "\n",
    "train_upc_fine[\"len_of_UPC\"] = train_upc_fine[\"Upc\"].apply(lambda x: len(x))\n",
    "test_upc_fine[\"len_of_UPC\"] = test_upc_fine[\"Upc\"].apply(lambda x: len(x))\n",
    "\n",
    "train_UPC = pd.get_dummies(train_upc_fine[\"len_of_UPC\"])\n",
    "train_UPC = pd.concat([train[[\"VisitNumber\"]], train_UPC], axis=1)\n",
    "train_UPC = train_UPC.groupby(\"VisitNumber\", as_index=False).sum()\n",
    "\n",
    "test_UPC = pd.get_dummies(test_upc_fine[\"len_of_UPC\"])\n",
    "test_UPC = pd.concat([test[[\"VisitNumber\"]], test_UPC], axis=1)\n",
    "test_UPC = test_UPC.groupby(\"VisitNumber\", as_index=False).sum()"
   ]
  },
  {
   "cell_type": "code",
   "execution_count": 36,
   "metadata": {},
   "outputs": [
    {
     "data": {
      "text/html": [
       "<div>\n",
       "<style scoped>\n",
       "    .dataframe tbody tr th:only-of-type {\n",
       "        vertical-align: middle;\n",
       "    }\n",
       "\n",
       "    .dataframe tbody tr th {\n",
       "        vertical-align: top;\n",
       "    }\n",
       "\n",
       "    .dataframe thead th {\n",
       "        text-align: right;\n",
       "    }\n",
       "</style>\n",
       "<table border=\"1\" class=\"dataframe\">\n",
       "  <thead>\n",
       "    <tr style=\"text-align: right;\">\n",
       "      <th></th>\n",
       "      <th>VisitNumber</th>\n",
       "      <th>Upc</th>\n",
       "      <th>len_of_UPC</th>\n",
       "    </tr>\n",
       "  </thead>\n",
       "  <tbody>\n",
       "    <tr>\n",
       "      <th>647049</th>\n",
       "      <td>191346</td>\n",
       "      <td>32390001778</td>\n",
       "      <td>11</td>\n",
       "    </tr>\n",
       "    <tr>\n",
       "      <th>647050</th>\n",
       "      <td>191346</td>\n",
       "      <td>7874205336</td>\n",
       "      <td>10</td>\n",
       "    </tr>\n",
       "    <tr>\n",
       "      <th>647051</th>\n",
       "      <td>191346</td>\n",
       "      <td>4072</td>\n",
       "      <td>4</td>\n",
       "    </tr>\n",
       "    <tr>\n",
       "      <th>647052</th>\n",
       "      <td>191347</td>\n",
       "      <td>4190007664</td>\n",
       "      <td>10</td>\n",
       "    </tr>\n",
       "    <tr>\n",
       "      <th>647053</th>\n",
       "      <td>191347</td>\n",
       "      <td>3800059655</td>\n",
       "      <td>10</td>\n",
       "    </tr>\n",
       "  </tbody>\n",
       "</table>\n",
       "</div>"
      ],
      "text/plain": [
       "        VisitNumber          Upc  len_of_UPC\n",
       "647049       191346  32390001778          11\n",
       "647050       191346   7874205336          10\n",
       "647051       191346         4072           4\n",
       "647052       191347   4190007664          10\n",
       "647053       191347   3800059655          10"
      ]
     },
     "execution_count": 36,
     "metadata": {},
     "output_type": "execute_result"
    }
   ],
   "source": [
    "train_upc_fine.tail()"
   ]
  },
  {
   "cell_type": "code",
   "execution_count": 37,
   "metadata": {
    "slideshow": {
     "slide_type": "fragment"
    }
   },
   "outputs": [
    {
     "data": {
      "text/html": [
       "<div>\n",
       "<style scoped>\n",
       "    .dataframe tbody tr th:only-of-type {\n",
       "        vertical-align: middle;\n",
       "    }\n",
       "\n",
       "    .dataframe tbody tr th {\n",
       "        vertical-align: top;\n",
       "    }\n",
       "\n",
       "    .dataframe thead th {\n",
       "        text-align: right;\n",
       "    }\n",
       "</style>\n",
       "<table border=\"1\" class=\"dataframe\">\n",
       "  <thead>\n",
       "    <tr style=\"text-align: right;\">\n",
       "      <th></th>\n",
       "      <th>VisitNumber</th>\n",
       "      <th>3</th>\n",
       "      <th>4</th>\n",
       "      <th>5</th>\n",
       "      <th>7</th>\n",
       "      <th>8</th>\n",
       "      <th>9</th>\n",
       "      <th>10</th>\n",
       "      <th>11</th>\n",
       "      <th>12</th>\n",
       "    </tr>\n",
       "  </thead>\n",
       "  <tbody>\n",
       "    <tr>\n",
       "      <th>95669</th>\n",
       "      <td>191343</td>\n",
       "      <td>0</td>\n",
       "      <td>0</td>\n",
       "      <td>0</td>\n",
       "      <td>0</td>\n",
       "      <td>0</td>\n",
       "      <td>0</td>\n",
       "      <td>2</td>\n",
       "      <td>5</td>\n",
       "      <td>0</td>\n",
       "    </tr>\n",
       "    <tr>\n",
       "      <th>95670</th>\n",
       "      <td>191344</td>\n",
       "      <td>0</td>\n",
       "      <td>0</td>\n",
       "      <td>0</td>\n",
       "      <td>0</td>\n",
       "      <td>0</td>\n",
       "      <td>0</td>\n",
       "      <td>3</td>\n",
       "      <td>2</td>\n",
       "      <td>0</td>\n",
       "    </tr>\n",
       "    <tr>\n",
       "      <th>95671</th>\n",
       "      <td>191345</td>\n",
       "      <td>0</td>\n",
       "      <td>0</td>\n",
       "      <td>0</td>\n",
       "      <td>0</td>\n",
       "      <td>0</td>\n",
       "      <td>0</td>\n",
       "      <td>11</td>\n",
       "      <td>2</td>\n",
       "      <td>0</td>\n",
       "    </tr>\n",
       "    <tr>\n",
       "      <th>95672</th>\n",
       "      <td>191346</td>\n",
       "      <td>0</td>\n",
       "      <td>1</td>\n",
       "      <td>0</td>\n",
       "      <td>0</td>\n",
       "      <td>0</td>\n",
       "      <td>0</td>\n",
       "      <td>15</td>\n",
       "      <td>1</td>\n",
       "      <td>0</td>\n",
       "    </tr>\n",
       "    <tr>\n",
       "      <th>95673</th>\n",
       "      <td>191347</td>\n",
       "      <td>0</td>\n",
       "      <td>0</td>\n",
       "      <td>0</td>\n",
       "      <td>0</td>\n",
       "      <td>0</td>\n",
       "      <td>0</td>\n",
       "      <td>2</td>\n",
       "      <td>0</td>\n",
       "      <td>0</td>\n",
       "    </tr>\n",
       "  </tbody>\n",
       "</table>\n",
       "</div>"
      ],
      "text/plain": [
       "       VisitNumber  3  4  5  7  8  9  10  11  12\n",
       "95669       191343  0  0  0  0  0  0   2   5   0\n",
       "95670       191344  0  0  0  0  0  0   3   2   0\n",
       "95671       191345  0  0  0  0  0  0  11   2   0\n",
       "95672       191346  0  1  0  0  0  0  15   1   0\n",
       "95673       191347  0  0  0  0  0  0   2   0   0"
      ]
     },
     "execution_count": 37,
     "metadata": {},
     "output_type": "execute_result"
    }
   ],
   "source": [
    "train_UPC.tail()"
   ]
  },
  {
   "cell_type": "markdown",
   "metadata": {
    "slideshow": {
     "slide_type": "slide"
    }
   },
   "source": [
    "# 3-6. Fineline을 모두 쪼개준다."
   ]
  },
  {
   "cell_type": "code",
   "execution_count": 38,
   "metadata": {
    "slideshow": {
     "slide_type": "fragment"
    }
   },
   "outputs": [],
   "source": [
    "train_FL = pd.get_dummies(train[\"FinelineNumber\"])\n",
    "test_FL = pd.get_dummies(test[\"FinelineNumber\"])\n",
    "\n",
    "train_FL = pd.concat([train[[\"VisitNumber\"]], train_FL], axis=1)\n",
    "test_FL = pd.concat([test[[\"VisitNumber\"]], test_FL], axis=1)"
   ]
  },
  {
   "cell_type": "code",
   "execution_count": 39,
   "metadata": {
    "scrolled": true,
    "slideshow": {
     "slide_type": "fragment"
    }
   },
   "outputs": [
    {
     "data": {
      "text/html": [
       "<div>\n",
       "<style scoped>\n",
       "    .dataframe tbody tr th:only-of-type {\n",
       "        vertical-align: middle;\n",
       "    }\n",
       "\n",
       "    .dataframe tbody tr th {\n",
       "        vertical-align: top;\n",
       "    }\n",
       "\n",
       "    .dataframe thead th {\n",
       "        text-align: right;\n",
       "    }\n",
       "</style>\n",
       "<table border=\"1\" class=\"dataframe\">\n",
       "  <thead>\n",
       "    <tr style=\"text-align: right;\">\n",
       "      <th></th>\n",
       "      <th>VisitNumber</th>\n",
       "      <th>0.0</th>\n",
       "      <th>1.0</th>\n",
       "      <th>2.0</th>\n",
       "      <th>3.0</th>\n",
       "      <th>4.0</th>\n",
       "      <th>5.0</th>\n",
       "      <th>6.0</th>\n",
       "      <th>7.0</th>\n",
       "      <th>8.0</th>\n",
       "      <th>...</th>\n",
       "      <th>9964.0</th>\n",
       "      <th>9966.0</th>\n",
       "      <th>9967.0</th>\n",
       "      <th>9970.0</th>\n",
       "      <th>9971.0</th>\n",
       "      <th>9974.0</th>\n",
       "      <th>9975.0</th>\n",
       "      <th>9991.0</th>\n",
       "      <th>9997.0</th>\n",
       "      <th>9998.0</th>\n",
       "    </tr>\n",
       "  </thead>\n",
       "  <tbody>\n",
       "    <tr>\n",
       "      <th>95669</th>\n",
       "      <td>191343</td>\n",
       "      <td>0</td>\n",
       "      <td>0</td>\n",
       "      <td>0</td>\n",
       "      <td>0</td>\n",
       "      <td>0</td>\n",
       "      <td>0</td>\n",
       "      <td>0</td>\n",
       "      <td>0</td>\n",
       "      <td>0</td>\n",
       "      <td>...</td>\n",
       "      <td>0</td>\n",
       "      <td>0</td>\n",
       "      <td>0</td>\n",
       "      <td>0</td>\n",
       "      <td>0</td>\n",
       "      <td>0</td>\n",
       "      <td>0</td>\n",
       "      <td>0</td>\n",
       "      <td>0</td>\n",
       "      <td>0</td>\n",
       "    </tr>\n",
       "    <tr>\n",
       "      <th>95670</th>\n",
       "      <td>191344</td>\n",
       "      <td>0</td>\n",
       "      <td>0</td>\n",
       "      <td>0</td>\n",
       "      <td>0</td>\n",
       "      <td>0</td>\n",
       "      <td>0</td>\n",
       "      <td>0</td>\n",
       "      <td>0</td>\n",
       "      <td>0</td>\n",
       "      <td>...</td>\n",
       "      <td>0</td>\n",
       "      <td>0</td>\n",
       "      <td>0</td>\n",
       "      <td>0</td>\n",
       "      <td>0</td>\n",
       "      <td>0</td>\n",
       "      <td>0</td>\n",
       "      <td>0</td>\n",
       "      <td>0</td>\n",
       "      <td>0</td>\n",
       "    </tr>\n",
       "    <tr>\n",
       "      <th>95671</th>\n",
       "      <td>191345</td>\n",
       "      <td>0</td>\n",
       "      <td>0</td>\n",
       "      <td>0</td>\n",
       "      <td>0</td>\n",
       "      <td>0</td>\n",
       "      <td>0</td>\n",
       "      <td>0</td>\n",
       "      <td>0</td>\n",
       "      <td>0</td>\n",
       "      <td>...</td>\n",
       "      <td>0</td>\n",
       "      <td>0</td>\n",
       "      <td>0</td>\n",
       "      <td>0</td>\n",
       "      <td>0</td>\n",
       "      <td>0</td>\n",
       "      <td>0</td>\n",
       "      <td>0</td>\n",
       "      <td>0</td>\n",
       "      <td>0</td>\n",
       "    </tr>\n",
       "    <tr>\n",
       "      <th>95672</th>\n",
       "      <td>191346</td>\n",
       "      <td>0</td>\n",
       "      <td>0</td>\n",
       "      <td>0</td>\n",
       "      <td>0</td>\n",
       "      <td>0</td>\n",
       "      <td>0</td>\n",
       "      <td>0</td>\n",
       "      <td>0</td>\n",
       "      <td>0</td>\n",
       "      <td>...</td>\n",
       "      <td>0</td>\n",
       "      <td>0</td>\n",
       "      <td>0</td>\n",
       "      <td>0</td>\n",
       "      <td>0</td>\n",
       "      <td>0</td>\n",
       "      <td>0</td>\n",
       "      <td>0</td>\n",
       "      <td>0</td>\n",
       "      <td>0</td>\n",
       "    </tr>\n",
       "    <tr>\n",
       "      <th>95673</th>\n",
       "      <td>191347</td>\n",
       "      <td>0</td>\n",
       "      <td>0</td>\n",
       "      <td>0</td>\n",
       "      <td>0</td>\n",
       "      <td>0</td>\n",
       "      <td>0</td>\n",
       "      <td>0</td>\n",
       "      <td>0</td>\n",
       "      <td>0</td>\n",
       "      <td>...</td>\n",
       "      <td>0</td>\n",
       "      <td>0</td>\n",
       "      <td>0</td>\n",
       "      <td>0</td>\n",
       "      <td>0</td>\n",
       "      <td>0</td>\n",
       "      <td>0</td>\n",
       "      <td>0</td>\n",
       "      <td>0</td>\n",
       "      <td>0</td>\n",
       "    </tr>\n",
       "  </tbody>\n",
       "</table>\n",
       "<p>5 rows × 5196 columns</p>\n",
       "</div>"
      ],
      "text/plain": [
       "       VisitNumber  0.0  1.0  2.0  3.0  4.0  5.0  6.0  7.0  8.0   ...    \\\n",
       "95669       191343    0    0    0    0    0    0    0    0    0   ...     \n",
       "95670       191344    0    0    0    0    0    0    0    0    0   ...     \n",
       "95671       191345    0    0    0    0    0    0    0    0    0   ...     \n",
       "95672       191346    0    0    0    0    0    0    0    0    0   ...     \n",
       "95673       191347    0    0    0    0    0    0    0    0    0   ...     \n",
       "\n",
       "       9964.0  9966.0  9967.0  9970.0  9971.0  9974.0  9975.0  9991.0  9997.0  \\\n",
       "95669       0       0       0       0       0       0       0       0       0   \n",
       "95670       0       0       0       0       0       0       0       0       0   \n",
       "95671       0       0       0       0       0       0       0       0       0   \n",
       "95672       0       0       0       0       0       0       0       0       0   \n",
       "95673       0       0       0       0       0       0       0       0       0   \n",
       "\n",
       "       9998.0  \n",
       "95669       0  \n",
       "95670       0  \n",
       "95671       0  \n",
       "95672       0  \n",
       "95673       0  \n",
       "\n",
       "[5 rows x 5196 columns]"
      ]
     },
     "execution_count": 39,
     "metadata": {},
     "output_type": "execute_result"
    }
   ],
   "source": [
    "train_FL = train_FL.groupby(\"VisitNumber\", as_index=False).sum()\n",
    "test_FL = test_FL.groupby(\"VisitNumber\", as_index=False).sum()\n",
    "train_FL.tail()"
   ]
  },
  {
   "cell_type": "markdown",
   "metadata": {
    "slideshow": {
     "slide_type": "slide"
    }
   },
   "source": [
    "# 3-7. Department Description과 관련한 특징을 만든다."
   ]
  },
  {
   "cell_type": "code",
   "execution_count": 40,
   "metadata": {
    "scrolled": true,
    "slideshow": {
     "slide_type": "fragment"
    }
   },
   "outputs": [],
   "source": [
    "ttls = train[\"TripType\"].unique().tolist()"
   ]
  },
  {
   "cell_type": "code",
   "execution_count": 41,
   "metadata": {
    "slideshow": {
     "slide_type": "fragment"
    }
   },
   "outputs": [],
   "source": [
    "train_38 = train[train['TripType'] == 38]\n",
    "train_38_groupby = train_38.groupby('DepartmentDescription', as_index=False)[\n",
    "    'ScanCount'].count()\n",
    "train_38_groupby = train_38_groupby.sort_values('ScanCount', ascending=False)\n",
    "train_39 = train[train['TripType'] == 39]\n",
    "train_39_groupby = train_39.groupby('DepartmentDescription', as_index=False)[\n",
    "    'ScanCount'].count()\n",
    "train_39_groupby = train_39_groupby.sort_values('ScanCount', ascending=False)"
   ]
  },
  {
   "cell_type": "code",
   "execution_count": 42,
   "metadata": {
    "slideshow": {
     "slide_type": "slide"
    }
   },
   "outputs": [
    {
     "data": {
      "text/plain": [
       "Text(0.5,1,'Distribution of DD at TripType = 38')"
      ]
     },
     "execution_count": 42,
     "metadata": {},
     "output_type": "execute_result"
    },
    {
     "data": {
      "image/png": "[encoded data removed]",
      "text/plain": [
       "<Figure size 432x288 with 1 Axes>"
      ]
     },
     "metadata": {},
     "output_type": "display_data"
    }
   ],
   "source": [
    "plt.barh((train_38_groupby['DepartmentDescription']\n",
    "          [:5]), (train_38_groupby['ScanCount'][:5]))\n",
    "plt.title('Distribution of DD at TripType = 38')"
   ]
  },
  {
   "cell_type": "code",
   "execution_count": 43,
   "metadata": {
    "slideshow": {
     "slide_type": "fragment"
    }
   },
   "outputs": [
    {
     "data": {
      "text/plain": [
       "Text(0.5,1,'Distribution of DD at TripType = 39')"
      ]
     },
     "execution_count": 43,
     "metadata": {},
     "output_type": "execute_result"
    },
    {
     "data": {
      "image/png": "[encoded data removed]",
      "text/plain": [
       "<Figure size 432x288 with 1 Axes>"
      ]
     },
     "metadata": {},
     "output_type": "display_data"
    }
   ],
   "source": [
    "plt.barh((train_39_groupby['DepartmentDescription']\n",
    "          [:5]), (train_39_groupby['ScanCount'][:5]))\n",
    "plt.title('Distribution of DD at TripType = 39')"
   ]
  },
  {
   "cell_type": "code",
   "execution_count": 44,
   "metadata": {
    "slideshow": {
     "slide_type": "slide"
    }
   },
   "outputs": [
    {
     "data": {
      "text/html": [
       "<div>\n",
       "<style scoped>\n",
       "    .dataframe tbody tr th:only-of-type {\n",
       "        vertical-align: middle;\n",
       "    }\n",
       "\n",
       "    .dataframe tbody tr th {\n",
       "        vertical-align: top;\n",
       "    }\n",
       "\n",
       "    .dataframe thead th {\n",
       "        text-align: right;\n",
       "    }\n",
       "</style>\n",
       "<table border=\"1\" class=\"dataframe\">\n",
       "  <thead>\n",
       "    <tr style=\"text-align: right;\">\n",
       "      <th></th>\n",
       "      <th>VisitNumber</th>\n",
       "      <th>1-HR PHOTO</th>\n",
       "      <th>ACCESSORIES</th>\n",
       "      <th>AUTOMOTIVE</th>\n",
       "      <th>BAKERY</th>\n",
       "      <th>BATH AND SHOWER</th>\n",
       "      <th>BEAUTY</th>\n",
       "      <th>BEDDING</th>\n",
       "      <th>BOOKS AND MAGAZINES</th>\n",
       "      <th>BOYS WEAR</th>\n",
       "      <th>...</th>\n",
       "      <th>SEAFOOD</th>\n",
       "      <th>SEASONAL</th>\n",
       "      <th>SERVICE DELI</th>\n",
       "      <th>SHEER HOSIERY</th>\n",
       "      <th>SHOES</th>\n",
       "      <th>SLEEPWEAR/FOUNDATIONS</th>\n",
       "      <th>SPORTING GOODS</th>\n",
       "      <th>SWIMWEAR/OUTERWEAR</th>\n",
       "      <th>TOYS</th>\n",
       "      <th>WIRELESS</th>\n",
       "    </tr>\n",
       "  </thead>\n",
       "  <tbody>\n",
       "    <tr>\n",
       "      <th>95669</th>\n",
       "      <td>191343</td>\n",
       "      <td>0</td>\n",
       "      <td>0</td>\n",
       "      <td>0</td>\n",
       "      <td>0</td>\n",
       "      <td>0</td>\n",
       "      <td>0</td>\n",
       "      <td>0</td>\n",
       "      <td>0</td>\n",
       "      <td>0</td>\n",
       "      <td>...</td>\n",
       "      <td>0</td>\n",
       "      <td>0</td>\n",
       "      <td>0</td>\n",
       "      <td>0</td>\n",
       "      <td>0</td>\n",
       "      <td>0</td>\n",
       "      <td>0</td>\n",
       "      <td>0</td>\n",
       "      <td>0</td>\n",
       "      <td>0</td>\n",
       "    </tr>\n",
       "    <tr>\n",
       "      <th>95670</th>\n",
       "      <td>191344</td>\n",
       "      <td>0</td>\n",
       "      <td>0</td>\n",
       "      <td>0</td>\n",
       "      <td>0</td>\n",
       "      <td>0</td>\n",
       "      <td>4</td>\n",
       "      <td>0</td>\n",
       "      <td>0</td>\n",
       "      <td>0</td>\n",
       "      <td>...</td>\n",
       "      <td>0</td>\n",
       "      <td>0</td>\n",
       "      <td>0</td>\n",
       "      <td>0</td>\n",
       "      <td>0</td>\n",
       "      <td>0</td>\n",
       "      <td>0</td>\n",
       "      <td>0</td>\n",
       "      <td>0</td>\n",
       "      <td>1</td>\n",
       "    </tr>\n",
       "    <tr>\n",
       "      <th>95671</th>\n",
       "      <td>191345</td>\n",
       "      <td>0</td>\n",
       "      <td>0</td>\n",
       "      <td>0</td>\n",
       "      <td>0</td>\n",
       "      <td>0</td>\n",
       "      <td>1</td>\n",
       "      <td>0</td>\n",
       "      <td>0</td>\n",
       "      <td>0</td>\n",
       "      <td>...</td>\n",
       "      <td>0</td>\n",
       "      <td>0</td>\n",
       "      <td>0</td>\n",
       "      <td>0</td>\n",
       "      <td>0</td>\n",
       "      <td>0</td>\n",
       "      <td>0</td>\n",
       "      <td>0</td>\n",
       "      <td>0</td>\n",
       "      <td>0</td>\n",
       "    </tr>\n",
       "    <tr>\n",
       "      <th>95672</th>\n",
       "      <td>191346</td>\n",
       "      <td>0</td>\n",
       "      <td>0</td>\n",
       "      <td>0</td>\n",
       "      <td>0</td>\n",
       "      <td>0</td>\n",
       "      <td>0</td>\n",
       "      <td>0</td>\n",
       "      <td>0</td>\n",
       "      <td>0</td>\n",
       "      <td>...</td>\n",
       "      <td>0</td>\n",
       "      <td>0</td>\n",
       "      <td>0</td>\n",
       "      <td>0</td>\n",
       "      <td>0</td>\n",
       "      <td>0</td>\n",
       "      <td>0</td>\n",
       "      <td>0</td>\n",
       "      <td>0</td>\n",
       "      <td>0</td>\n",
       "    </tr>\n",
       "    <tr>\n",
       "      <th>95673</th>\n",
       "      <td>191347</td>\n",
       "      <td>0</td>\n",
       "      <td>0</td>\n",
       "      <td>0</td>\n",
       "      <td>0</td>\n",
       "      <td>0</td>\n",
       "      <td>0</td>\n",
       "      <td>0</td>\n",
       "      <td>0</td>\n",
       "      <td>0</td>\n",
       "      <td>...</td>\n",
       "      <td>0</td>\n",
       "      <td>0</td>\n",
       "      <td>0</td>\n",
       "      <td>0</td>\n",
       "      <td>0</td>\n",
       "      <td>0</td>\n",
       "      <td>0</td>\n",
       "      <td>0</td>\n",
       "      <td>0</td>\n",
       "      <td>0</td>\n",
       "    </tr>\n",
       "  </tbody>\n",
       "</table>\n",
       "<p>5 rows × 68 columns</p>\n",
       "</div>"
      ],
      "text/plain": [
       "       VisitNumber  1-HR PHOTO  ACCESSORIES  AUTOMOTIVE  BAKERY  \\\n",
       "95669       191343           0            0           0       0   \n",
       "95670       191344           0            0           0       0   \n",
       "95671       191345           0            0           0       0   \n",
       "95672       191346           0            0           0       0   \n",
       "95673       191347           0            0           0       0   \n",
       "\n",
       "       BATH AND SHOWER  BEAUTY  BEDDING  BOOKS AND MAGAZINES  BOYS WEAR  \\\n",
       "95669                0       0        0                    0          0   \n",
       "95670                0       4        0                    0          0   \n",
       "95671                0       1        0                    0          0   \n",
       "95672                0       0        0                    0          0   \n",
       "95673                0       0        0                    0          0   \n",
       "\n",
       "         ...     SEAFOOD  SEASONAL  SERVICE DELI  SHEER HOSIERY  SHOES  \\\n",
       "95669    ...           0         0             0              0      0   \n",
       "95670    ...           0         0             0              0      0   \n",
       "95671    ...           0         0             0              0      0   \n",
       "95672    ...           0         0             0              0      0   \n",
       "95673    ...           0         0             0              0      0   \n",
       "\n",
       "       SLEEPWEAR/FOUNDATIONS  SPORTING GOODS  SWIMWEAR/OUTERWEAR  TOYS  \\\n",
       "95669                      0               0                   0     0   \n",
       "95670                      0               0                   0     0   \n",
       "95671                      0               0                   0     0   \n",
       "95672                      0               0                   0     0   \n",
       "95673                      0               0                   0     0   \n",
       "\n",
       "       WIRELESS  \n",
       "95669         0  \n",
       "95670         1  \n",
       "95671         0  \n",
       "95672         0  \n",
       "95673         0  \n",
       "\n",
       "[5 rows x 68 columns]"
      ]
     },
     "execution_count": 44,
     "metadata": {},
     "output_type": "execute_result"
    }
   ],
   "source": [
    "\n",
    "train_dd = pd.get_dummies(train[\"DepartmentDescription\"])\n",
    "test_dd = pd.get_dummies(test[\"DepartmentDescription\"])\n",
    "\n",
    "train_dd = pd.concat([train[[\"VisitNumber\"]], train_dd], axis=1)\n",
    "test_dd = pd.concat([test[[\"VisitNumber\"]], test_dd], axis=1)\n",
    "\n",
    "train_dd = train_dd.groupby(\"VisitNumber\", as_index=False).sum()  # sum을 함\n",
    "test_dd = test_dd.groupby(\"VisitNumber\", as_index=False).sum()\n",
    "train_dd.tail()"
   ]
  },
  {
   "cell_type": "code",
   "execution_count": 45,
   "metadata": {
    "slideshow": {
     "slide_type": "slide"
    }
   },
   "outputs": [
    {
     "data": {
      "text/plain": [
       "['SHOES',\n",
       " 'BOYS WEAR',\n",
       " 'MENS WEAR',\n",
       " 'LADIESWEAR',\n",
       " 'LADIES SOCKS',\n",
       " 'PLUS AND MATERNITY',\n",
       " 'GIRLS WEAR, 4-6X  AND 7-14',\n",
       " 'BRAS & SHAPEWEAR',\n",
       " 'SLEEPWEAR/FOUNDATIONS',\n",
       " 'SWIMWEAR/OUTERWEAR']"
      ]
     },
     "execution_count": 45,
     "metadata": {},
     "output_type": "execute_result"
    }
   ],
   "source": [
    "traincolumn = list(train[\"DepartmentDescription\"].unique())\n",
    "WEARls = [x for x in traincolumn if 'WEAR' in str(x) or 'SOCKS' in str(x) or 'SHOES' in str(x)\n",
    "          or 'MATERNITY' in str(x)]\n",
    "FOODls = [x for x in traincolumn if 'FOOD' in str(x) or 'MEAT' in str(x) or 'DAIRY' in str(x) or 'GROCERY' in str(x)\n",
    "          or 'PRODUCE' in str(x) or \"BREAD\" in str(x) or 'BAKERY' in str(x) or 'WINE' in str(x) or \"DELI\" in str(x)\n",
    "          or 'COOKIE' in str(x) or 'COOK' in str(x)]\n",
    "ACCls = [x for x in traincolumn if 'SUNGLASS' in str(x) or 'OPTICAL' in str(x)]\n",
    "ELECls = [x for x in traincolumn if 'ELECTRONICS' in str(x) or 'CAMERAS' in str(x) or 'MEDIA' in str(x)\n",
    "          or 'WIRELESS' in str(x) or 'HARDWARE' in str(x)]\n",
    "COSls = [x for x in traincolumn if 'PERSONAL' in str(x) or 'BEAUTY' in str(x) or 'PHARMACY' in str(x)\n",
    "         or 'BATH' in str(x)]\n",
    "HOUSEls = [x for x in traincolumn if 'PAPER' in str(x) or 'HOME' in str(x) or \"BEDDING\" in str(x)\n",
    "           or 'HOUSE' in str(x) or 'CELE' in str(x) or 'OFFICE' in str(x)]\n",
    "GARDENls = [x for x in traincolumn if 'GARDEN' in str(x) or 'HORTI' in str(x)]\n",
    "INFANls = [x for x in traincolumn if 'INFANT' in str(x)]\n",
    "WEARls"
   ]
  },
  {
   "cell_type": "code",
   "execution_count": 46,
   "metadata": {
    "slideshow": {
     "slide_type": "subslide"
    }
   },
   "outputs": [],
   "source": [
    "traindf = train.copy()\n",
    "testdf = test.copy()\n",
    "traindf.loc[traindf['DepartmentDescription'].isin(INFANls), \"DD_big\"] = \"INFAN\"\n",
    "traindf.loc[traindf['DepartmentDescription'].isin(\n",
    "    GARDENls), \"DD_big\"] = \"GARDEN\"\n",
    "traindf.loc[traindf['DepartmentDescription'].isin(HOUSEls), \"DD_big\"] = \"HOUSE\"\n",
    "traindf.loc[traindf['DepartmentDescription'].isin(COSls), \"DD_big\"] = \"COS\"\n",
    "traindf.loc[traindf['DepartmentDescription'].isin(ELECls), \"DD_big\"] = \"ELEC\"\n",
    "traindf.loc[traindf['DepartmentDescription'].isin(ACCls), \"DD_big\"] = \"ACC\"\n",
    "traindf.loc[traindf['DepartmentDescription'].isin(FOODls), \"DD_big\"] = \"FOOD\"\n",
    "traindf.loc[traindf['DepartmentDescription'].isin(WEARls), \"DD_big\"] = \"WEAR\"\n",
    "\n",
    "testdf.loc[testdf['DepartmentDescription'].isin(INFANls), \"DD_big\"] = \"INFAN\"\n",
    "testdf.loc[testdf['DepartmentDescription'].isin(GARDENls), \"DD_big\"] = \"GARDEN\"\n",
    "testdf.loc[testdf['DepartmentDescription'].isin(HOUSEls), \"DD_big\"] = \"HOUSE\"\n",
    "testdf.loc[testdf['DepartmentDescription'].isin(COSls), \"DD_big\"] = \"COS\"\n",
    "testdf.loc[testdf['DepartmentDescription'].isin(ELECls), \"DD_big\"] = \"ELEC\"\n",
    "testdf.loc[testdf['DepartmentDescription'].isin(ACCls), \"DD_big\"] = \"ACC\"\n",
    "testdf.loc[testdf['DepartmentDescription'].isin(FOODls), \"DD_big\"] = \"FOOD\"\n",
    "testdf.loc[testdf['DepartmentDescription'].isin(WEARls), \"DD_big\"] = \"WEAR\""
   ]
  },
  {
   "cell_type": "code",
   "execution_count": 47,
   "metadata": {
    "slideshow": {
     "slide_type": "fragment"
    }
   },
   "outputs": [
    {
     "data": {
      "text/html": [
       "<div>\n",
       "<style scoped>\n",
       "    .dataframe tbody tr th:only-of-type {\n",
       "        vertical-align: middle;\n",
       "    }\n",
       "\n",
       "    .dataframe tbody tr th {\n",
       "        vertical-align: top;\n",
       "    }\n",
       "\n",
       "    .dataframe thead th {\n",
       "        text-align: right;\n",
       "    }\n",
       "</style>\n",
       "<table border=\"1\" class=\"dataframe\">\n",
       "  <thead>\n",
       "    <tr style=\"text-align: right;\">\n",
       "      <th></th>\n",
       "      <th>VisitNumber</th>\n",
       "      <th>ACC</th>\n",
       "      <th>COS</th>\n",
       "      <th>ELEC</th>\n",
       "      <th>FOOD</th>\n",
       "      <th>GARDEN</th>\n",
       "      <th>HOUSE</th>\n",
       "      <th>INFAN</th>\n",
       "      <th>WEAR</th>\n",
       "    </tr>\n",
       "  </thead>\n",
       "  <tbody>\n",
       "    <tr>\n",
       "      <th>95669</th>\n",
       "      <td>191338</td>\n",
       "      <td>0</td>\n",
       "      <td>0</td>\n",
       "      <td>0</td>\n",
       "      <td>3</td>\n",
       "      <td>0</td>\n",
       "      <td>4</td>\n",
       "      <td>0</td>\n",
       "      <td>0</td>\n",
       "    </tr>\n",
       "    <tr>\n",
       "      <th>95670</th>\n",
       "      <td>191339</td>\n",
       "      <td>0</td>\n",
       "      <td>0</td>\n",
       "      <td>0</td>\n",
       "      <td>0</td>\n",
       "      <td>0</td>\n",
       "      <td>0</td>\n",
       "      <td>0</td>\n",
       "      <td>0</td>\n",
       "    </tr>\n",
       "    <tr>\n",
       "      <th>95671</th>\n",
       "      <td>191340</td>\n",
       "      <td>0</td>\n",
       "      <td>0</td>\n",
       "      <td>0</td>\n",
       "      <td>0</td>\n",
       "      <td>0</td>\n",
       "      <td>0</td>\n",
       "      <td>0</td>\n",
       "      <td>0</td>\n",
       "    </tr>\n",
       "    <tr>\n",
       "      <th>95672</th>\n",
       "      <td>191341</td>\n",
       "      <td>0</td>\n",
       "      <td>0</td>\n",
       "      <td>0</td>\n",
       "      <td>0</td>\n",
       "      <td>0</td>\n",
       "      <td>4</td>\n",
       "      <td>6</td>\n",
       "      <td>0</td>\n",
       "    </tr>\n",
       "    <tr>\n",
       "      <th>95673</th>\n",
       "      <td>191348</td>\n",
       "      <td>0</td>\n",
       "      <td>2</td>\n",
       "      <td>0</td>\n",
       "      <td>0</td>\n",
       "      <td>0</td>\n",
       "      <td>0</td>\n",
       "      <td>0</td>\n",
       "      <td>5</td>\n",
       "    </tr>\n",
       "  </tbody>\n",
       "</table>\n",
       "</div>"
      ],
      "text/plain": [
       "       VisitNumber  ACC  COS  ELEC  FOOD  GARDEN  HOUSE  INFAN  WEAR\n",
       "95669       191338    0    0     0     3       0      4      0     0\n",
       "95670       191339    0    0     0     0       0      0      0     0\n",
       "95671       191340    0    0     0     0       0      0      0     0\n",
       "95672       191341    0    0     0     0       0      4      6     0\n",
       "95673       191348    0    2     0     0       0      0      0     5"
      ]
     },
     "execution_count": 47,
     "metadata": {},
     "output_type": "execute_result"
    }
   ],
   "source": [
    "train_dd_big = pd.get_dummies(traindf[\"DD_big\"])\n",
    "test_dd_big = pd.get_dummies(testdf[\"DD_big\"])\n",
    "\n",
    "train_dd_big = pd.concat([traindf[[\"VisitNumber\"]], train_dd_big], axis=1)\n",
    "test_dd_big = pd.concat([testdf[[\"VisitNumber\"]], test_dd_big], axis=1)\n",
    "\n",
    "train_dd_big = train_dd_big.groupby(\"VisitNumber\", as_index=False).sum()\n",
    "test_dd_big = test_dd_big.groupby(\"VisitNumber\", as_index=False).sum()\n",
    "test_dd_big.tail()"
   ]
  },
  {
   "cell_type": "markdown",
   "metadata": {
    "slideshow": {
     "slide_type": "slide"
    }
   },
   "source": [
    "# 3-8. 요일과 관련된 더미변수를 만든다."
   ]
  },
  {
   "cell_type": "markdown",
   "metadata": {
    "slideshow": {
     "slide_type": "fragment"
    }
   },
   "source": [
    "## TripType 14와 같이 요일이 큰 영향을 주는 경우가 있습니다."
   ]
  },
  {
   "cell_type": "code",
   "execution_count": 48,
   "metadata": {
    "slideshow": {
     "slide_type": "skip"
    }
   },
   "outputs": [],
   "source": [
    "weekday = {\"Monday\": 0,\n",
    "           \"Tuesday\": 1,\n",
    "           \"Wednesday\": 2,\n",
    "           \"Thursday\": 3,\n",
    "           \"Friday\": 4,\n",
    "           \"Saturday\": 5,\n",
    "           \"Sunday\": 6}\n",
    "train_weekday = train[[\"Weekday\", \"VisitNumber\", \"TripType\"]]\n",
    "train_weekday[\"Weekday\"] = train_weekday[\"Weekday\"].apply(lambda x: weekday[x])"
   ]
  },
  {
   "cell_type": "code",
   "execution_count": 49,
   "metadata": {
    "slideshow": {
     "slide_type": "fragment"
    }
   },
   "outputs": [
    {
     "data": {
      "image/png": "[encoded data removed]",
      "text/plain": [
       "<Figure size 864x216 with 2 Axes>"
      ]
     },
     "metadata": {},
     "output_type": "display_data"
    }
   ],
   "source": [
    "plt.figure(figsize=(12, 3))\n",
    "sns.heatmap(data=pd.crosstab(train_weekday[\"Weekday\"],\n",
    "                             train_weekday[\"TripType\"],\n",
    "                             values=train_weekday[\"VisitNumber\"],\n",
    "                             aggfunc='count',\n",
    "                             normalize=\"columns\"), cmap=\"cool\")\n",
    "plt.yticks(range(0, 7), list(weekday.keys()), rotation=\"horizontal\")\n",
    "plt.title(\"요일별 Triptype 분포\", fontsize=13)\n",
    "plt.show()"
   ]
  },
  {
   "cell_type": "code",
   "execution_count": 50,
   "metadata": {
    "slideshow": {
     "slide_type": "slide"
    }
   },
   "outputs": [
    {
     "data": {
      "text/html": [
       "<div>\n",
       "<style scoped>\n",
       "    .dataframe tbody tr th:only-of-type {\n",
       "        vertical-align: middle;\n",
       "    }\n",
       "\n",
       "    .dataframe tbody tr th {\n",
       "        vertical-align: top;\n",
       "    }\n",
       "\n",
       "    .dataframe thead th {\n",
       "        text-align: right;\n",
       "    }\n",
       "</style>\n",
       "<table border=\"1\" class=\"dataframe\">\n",
       "  <thead>\n",
       "    <tr style=\"text-align: right;\">\n",
       "      <th></th>\n",
       "      <th>VisitNumber</th>\n",
       "      <th>Friday</th>\n",
       "      <th>Monday</th>\n",
       "      <th>Saturday</th>\n",
       "      <th>Sunday</th>\n",
       "      <th>Thursday</th>\n",
       "      <th>Tuesday</th>\n",
       "      <th>Wednesday</th>\n",
       "    </tr>\n",
       "  </thead>\n",
       "  <tbody>\n",
       "    <tr>\n",
       "      <th>95669</th>\n",
       "      <td>191343</td>\n",
       "      <td>0</td>\n",
       "      <td>0</td>\n",
       "      <td>0</td>\n",
       "      <td>7</td>\n",
       "      <td>0</td>\n",
       "      <td>0</td>\n",
       "      <td>0</td>\n",
       "    </tr>\n",
       "    <tr>\n",
       "      <th>95670</th>\n",
       "      <td>191344</td>\n",
       "      <td>0</td>\n",
       "      <td>0</td>\n",
       "      <td>0</td>\n",
       "      <td>5</td>\n",
       "      <td>0</td>\n",
       "      <td>0</td>\n",
       "      <td>0</td>\n",
       "    </tr>\n",
       "    <tr>\n",
       "      <th>95671</th>\n",
       "      <td>191345</td>\n",
       "      <td>0</td>\n",
       "      <td>0</td>\n",
       "      <td>0</td>\n",
       "      <td>13</td>\n",
       "      <td>0</td>\n",
       "      <td>0</td>\n",
       "      <td>0</td>\n",
       "    </tr>\n",
       "    <tr>\n",
       "      <th>95672</th>\n",
       "      <td>191346</td>\n",
       "      <td>0</td>\n",
       "      <td>0</td>\n",
       "      <td>0</td>\n",
       "      <td>17</td>\n",
       "      <td>0</td>\n",
       "      <td>0</td>\n",
       "      <td>0</td>\n",
       "    </tr>\n",
       "    <tr>\n",
       "      <th>95673</th>\n",
       "      <td>191347</td>\n",
       "      <td>0</td>\n",
       "      <td>0</td>\n",
       "      <td>0</td>\n",
       "      <td>2</td>\n",
       "      <td>0</td>\n",
       "      <td>0</td>\n",
       "      <td>0</td>\n",
       "    </tr>\n",
       "  </tbody>\n",
       "</table>\n",
       "</div>"
      ],
      "text/plain": [
       "       VisitNumber  Friday  Monday  Saturday  Sunday  Thursday  Tuesday  \\\n",
       "95669       191343       0       0         0       7         0        0   \n",
       "95670       191344       0       0         0       5         0        0   \n",
       "95671       191345       0       0         0      13         0        0   \n",
       "95672       191346       0       0         0      17         0        0   \n",
       "95673       191347       0       0         0       2         0        0   \n",
       "\n",
       "       Wednesday  \n",
       "95669          0  \n",
       "95670          0  \n",
       "95671          0  \n",
       "95672          0  \n",
       "95673          0  "
      ]
     },
     "execution_count": 50,
     "metadata": {},
     "output_type": "execute_result"
    }
   ],
   "source": [
    "train_weekday = pd.get_dummies(train[\"Weekday\"])\n",
    "test_weekday = pd.get_dummies(testdf[\"Weekday\"])\n",
    "\n",
    "train_weekday = pd.concat([train[[\"VisitNumber\"]], train_weekday], axis=1)\n",
    "test_weekday = pd.concat([test[[\"VisitNumber\"]], test_weekday], axis=1)\n",
    "\n",
    "train_weekday = train_weekday.groupby(\"VisitNumber\", as_index=False).sum()\n",
    "test_weekday = test_weekday.groupby(\"VisitNumber\", as_index=False).sum()\n",
    "train_weekday.tail()"
   ]
  },
  {
   "cell_type": "markdown",
   "metadata": {
    "slideshow": {
     "slide_type": "slide"
    }
   },
   "source": [
    "# 3-7. 만들어준 데이터 프레임을 합쳐준다."
   ]
  },
  {
   "cell_type": "code",
   "execution_count": 51,
   "metadata": {
    "slideshow": {
     "slide_type": "fragment"
    }
   },
   "outputs": [],
   "source": [
    "train_by_sum = train[[\"VisitNumber\", \"ScanCount\", \"Pos_Sum\", \"Neg_Sum\"]]\n",
    "test_by_sum = test[[\"VisitNumber\", \"ScanCount\", \"Pos_Sum\", \"Neg_Sum\"]]\n",
    "\n",
    "train_by_sum = train_by_sum.groupby(\"VisitNumber\", as_index=False).sum()\n",
    "test_by_sum = test_by_sum.groupby(\"VisitNumber\", as_index=False).sum()\n",
    "\n",
    "train = train_by_sum.merge(train_dd, on=[\"VisitNumber\"])\n",
    "train = train.merge(train_UPC, on=[\"VisitNumber\"])\n",
    "train = train.merge(train_dd_big, on=[\"VisitNumber\"])\n",
    "train = train.merge(train_FL, on=[\"VisitNumber\"])\n",
    "train = train.merge(train_weekday, on=[\"VisitNumber\"])\n",
    "\n",
    "test = test_by_sum.merge(test_dd, on=[\"VisitNumber\"])\n",
    "test = test.merge(test_UPC, on=[\"VisitNumber\"])\n",
    "test = test.merge(test_dd_big, on=[\"VisitNumber\"])\n",
    "test = test.merge(test_FL, on=[\"VisitNumber\"])\n",
    "test = test.merge(test_weekday, on=[\"VisitNumber\"])"
   ]
  },
  {
   "cell_type": "code",
   "execution_count": 52,
   "metadata": {},
   "outputs": [],
   "source": [
    "train = pd.merge(train, train_company, on='VisitNumber')\n",
    "test = pd.merge(test, test_company, on='VisitNumber')"
   ]
  },
  {
   "cell_type": "code",
   "execution_count": 53,
   "metadata": {
    "scrolled": true,
    "slideshow": {
     "slide_type": "skip"
    }
   },
   "outputs": [],
   "source": [
    "y = traindf[[\"TripType\", 'VisitNumber']]\n",
    "y.drop_duplicates(inplace=True)\n",
    "y = y[\"TripType\"]"
   ]
  },
  {
   "cell_type": "markdown",
   "metadata": {
    "slideshow": {
     "slide_type": "slide"
    }
   },
   "source": [
    "# 3-8. test와 train 데이터의 shape을 맞춰준다."
   ]
  },
  {
   "cell_type": "code",
   "execution_count": 54,
   "metadata": {
    "slideshow": {
     "slide_type": "fragment"
    }
   },
   "outputs": [],
   "source": [
    "not_in_train = [i for i in test.columns if i not in train.columns]\n",
    "not_in_test = [i for i in train.columns if i not in test.columns]"
   ]
  },
  {
   "cell_type": "code",
   "execution_count": 55,
   "metadata": {
    "slideshow": {
     "slide_type": "fragment"
    }
   },
   "outputs": [],
   "source": [
    "total_train = train.drop(columns=not_in_test)"
   ]
  },
  {
   "cell_type": "code",
   "execution_count": 56,
   "metadata": {
    "slideshow": {
     "slide_type": "fragment"
    }
   },
   "outputs": [],
   "source": [
    "total_test = test.drop(columns=not_in_train)"
   ]
  },
  {
   "cell_type": "markdown",
   "metadata": {
    "slideshow": {
     "slide_type": "slide"
    }
   },
   "source": [
    "# <center>4. lightgbm을 사용한 분류</center>"
   ]
  },
  {
   "cell_type": "code",
   "execution_count": 57,
   "metadata": {
    "scrolled": true,
    "slideshow": {
     "slide_type": "fragment"
    }
   },
   "outputs": [],
   "source": [
    "label_enc = LabelEncoder()\n",
    "y_labeled = label_enc.fit_transform(y)"
   ]
  },
  {
   "cell_type": "code",
   "execution_count": 58,
   "metadata": {
    "slideshow": {
     "slide_type": "fragment"
    }
   },
   "outputs": [],
   "source": [
    "X_train, X_test, y_train, y_test = train_test_split(\n",
    "    total_train, y_labeled, random_state=0)"
   ]
  },
  {
   "cell_type": "code",
   "execution_count": 59,
   "metadata": {
    "scrolled": true,
    "slideshow": {
     "slide_type": "fragment"
    }
   },
   "outputs": [],
   "source": [
    "dtrain = lightgbm.Dataset(X_train, label=y_train)"
   ]
  },
  {
   "cell_type": "code",
   "execution_count": 60,
   "metadata": {
    "slideshow": {
     "slide_type": "fragment"
    }
   },
   "outputs": [],
   "source": [
    "dtest = lightgbm.Dataset(X_test, label=y_test)"
   ]
  },
  {
   "cell_type": "code",
   "execution_count": 61,
   "metadata": {
    "slideshow": {
     "slide_type": "fragment"
    }
   },
   "outputs": [],
   "source": [
    "num_boost_round = 1500\n",
    "learning_rate = 0.02\n",
    "\n",
    "params = {'objective': 'multiclass',\n",
    "          'boosting_type': 'gbdt',\n",
    "          'max_depth': -1,\n",
    "          'nthread': 4,\n",
    "          'metric': 'multi_logloss',\n",
    "          'num_class': 38,\n",
    "          'learning_rate': learning_rate,\n",
    "          }"
   ]
  },
  {
   "cell_type": "code",
   "execution_count": 62,
   "metadata": {
    "scrolled": true,
    "slideshow": {
     "slide_type": "slide"
    }
   },
   "outputs": [
    {
     "name": "stdout",
     "output_type": "stream",
     "text": [
      "[1]\ttraining's multi_logloss: 2.91313\tvalid_1's multi_logloss: 2.92193\n",
      "Training until validation scores don't improve for 10 rounds.\n",
      "[2]\ttraining's multi_logloss: 2.80417\tvalid_1's multi_logloss: 2.8188\n",
      "[3]\ttraining's multi_logloss: 2.71437\tvalid_1's multi_logloss: 2.73311\n",
      "[4]\ttraining's multi_logloss: 2.63589\tvalid_1's multi_logloss: 2.65837\n",
      "[5]\ttraining's multi_logloss: 2.56564\tvalid_1's multi_logloss: 2.59125\n",
      "[6]\ttraining's multi_logloss: 2.50164\tvalid_1's multi_logloss: 2.52993\n",
      "[7]\ttraining's multi_logloss: 2.4429\tvalid_1's multi_logloss: 2.47358\n",
      "[8]\ttraining's multi_logloss: 2.38858\tvalid_1's multi_logloss: 2.42155\n",
      "[9]\ttraining's multi_logloss: 2.33781\tvalid_1's multi_logloss: 2.37293\n",
      "[10]\ttraining's multi_logloss: 2.29029\tvalid_1's multi_logloss: 2.32752\n",
      "[11]\ttraining's multi_logloss: 2.24551\tvalid_1's multi_logloss: 2.28469\n",
      "[12]\ttraining's multi_logloss: 2.20318\tvalid_1's multi_logloss: 2.24416\n",
      "[13]\ttraining's multi_logloss: 2.16306\tvalid_1's multi_logloss: 2.20586\n",
      "[14]\ttraining's multi_logloss: 2.1249\tvalid_1's multi_logloss: 2.1695\n",
      "[15]\ttraining's multi_logloss: 2.08855\tvalid_1's multi_logloss: 2.13479\n",
      "[16]\ttraining's multi_logloss: 2.05394\tvalid_1's multi_logloss: 2.10179\n",
      "[17]\ttraining's multi_logloss: 2.02082\tvalid_1's multi_logloss: 2.07012\n",
      "[18]\ttraining's multi_logloss: 1.98912\tvalid_1's multi_logloss: 2.03984\n",
      "[19]\ttraining's multi_logloss: 1.9587\tvalid_1's multi_logloss: 2.01082\n",
      "[20]\ttraining's multi_logloss: 1.92949\tvalid_1's multi_logloss: 1.98302\n",
      "[21]\ttraining's multi_logloss: 1.90121\tvalid_1's multi_logloss: 1.95609\n",
      "[22]\ttraining's multi_logloss: 1.87393\tvalid_1's multi_logloss: 1.93004\n",
      "[23]\ttraining's multi_logloss: 1.8476\tvalid_1's multi_logloss: 1.90495\n",
      "[24]\ttraining's multi_logloss: 1.82214\tvalid_1's multi_logloss: 1.88075\n",
      "[25]\ttraining's multi_logloss: 1.79754\tvalid_1's multi_logloss: 1.8574\n",
      "[26]\ttraining's multi_logloss: 1.77375\tvalid_1's multi_logloss: 1.83475\n",
      "[27]\ttraining's multi_logloss: 1.75077\tvalid_1's multi_logloss: 1.81286\n",
      "[28]\ttraining's multi_logloss: 1.72845\tvalid_1's multi_logloss: 1.7916\n",
      "[29]\ttraining's multi_logloss: 1.70674\tvalid_1's multi_logloss: 1.77092\n",
      "[30]\ttraining's multi_logloss: 1.68572\tvalid_1's multi_logloss: 1.75105\n",
      "[31]\ttraining's multi_logloss: 1.66532\tvalid_1's multi_logloss: 1.73172\n",
      "[32]\ttraining's multi_logloss: 1.64551\tvalid_1's multi_logloss: 1.71293\n",
      "[33]\ttraining's multi_logloss: 1.62626\tvalid_1's multi_logloss: 1.69467\n",
      "[34]\ttraining's multi_logloss: 1.6075\tvalid_1's multi_logloss: 1.67679\n",
      "[35]\ttraining's multi_logloss: 1.5892\tvalid_1's multi_logloss: 1.6595\n",
      "[36]\ttraining's multi_logloss: 1.57141\tvalid_1's multi_logloss: 1.6427\n",
      "[37]\ttraining's multi_logloss: 1.55416\tvalid_1's multi_logloss: 1.62636\n",
      "[38]\ttraining's multi_logloss: 1.53728\tvalid_1's multi_logloss: 1.61053\n",
      "[39]\ttraining's multi_logloss: 1.52085\tvalid_1's multi_logloss: 1.59499\n",
      "[40]\ttraining's multi_logloss: 1.50488\tvalid_1's multi_logloss: 1.57987\n",
      "[41]\ttraining's multi_logloss: 1.48932\tvalid_1's multi_logloss: 1.56511\n",
      "[42]\ttraining's multi_logloss: 1.47404\tvalid_1's multi_logloss: 1.55073\n",
      "[43]\ttraining's multi_logloss: 1.45917\tvalid_1's multi_logloss: 1.53667\n",
      "[44]\ttraining's multi_logloss: 1.44464\tvalid_1's multi_logloss: 1.52292\n",
      "[45]\ttraining's multi_logloss: 1.43051\tvalid_1's multi_logloss: 1.5096\n",
      "[46]\ttraining's multi_logloss: 1.41666\tvalid_1's multi_logloss: 1.49657\n",
      "[47]\ttraining's multi_logloss: 1.40312\tvalid_1's multi_logloss: 1.4839\n",
      "[48]\ttraining's multi_logloss: 1.38995\tvalid_1's multi_logloss: 1.4715\n",
      "[49]\ttraining's multi_logloss: 1.37705\tvalid_1's multi_logloss: 1.45945\n",
      "[50]\ttraining's multi_logloss: 1.3644\tvalid_1's multi_logloss: 1.44763\n",
      "[51]\ttraining's multi_logloss: 1.352\tvalid_1's multi_logloss: 1.43602\n",
      "[52]\ttraining's multi_logloss: 1.33992\tvalid_1's multi_logloss: 1.4247\n",
      "[53]\ttraining's multi_logloss: 1.3281\tvalid_1's multi_logloss: 1.4136\n",
      "[54]\ttraining's multi_logloss: 1.31653\tvalid_1's multi_logloss: 1.40282\n",
      "[55]\ttraining's multi_logloss: 1.30524\tvalid_1's multi_logloss: 1.39227\n",
      "[56]\ttraining's multi_logloss: 1.29412\tvalid_1's multi_logloss: 1.38186\n",
      "[57]\ttraining's multi_logloss: 1.28324\tvalid_1's multi_logloss: 1.37174\n",
      "[58]\ttraining's multi_logloss: 1.27258\tvalid_1's multi_logloss: 1.36186\n",
      "[59]\ttraining's multi_logloss: 1.26212\tvalid_1's multi_logloss: 1.3521\n",
      "[60]\ttraining's multi_logloss: 1.25186\tvalid_1's multi_logloss: 1.34257\n",
      "[61]\ttraining's multi_logloss: 1.24184\tvalid_1's multi_logloss: 1.33329\n",
      "[62]\ttraining's multi_logloss: 1.23199\tvalid_1's multi_logloss: 1.32411\n",
      "[63]\ttraining's multi_logloss: 1.22231\tvalid_1's multi_logloss: 1.31515\n",
      "[64]\ttraining's multi_logloss: 1.21282\tvalid_1's multi_logloss: 1.30633\n",
      "[65]\ttraining's multi_logloss: 1.20352\tvalid_1's multi_logloss: 1.2977\n",
      "[66]\ttraining's multi_logloss: 1.19435\tvalid_1's multi_logloss: 1.28923\n",
      "[67]\ttraining's multi_logloss: 1.1854\tvalid_1's multi_logloss: 1.28091\n",
      "[68]\ttraining's multi_logloss: 1.17657\tvalid_1's multi_logloss: 1.27273\n",
      "[69]\ttraining's multi_logloss: 1.16794\tvalid_1's multi_logloss: 1.26479\n",
      "[70]\ttraining's multi_logloss: 1.15944\tvalid_1's multi_logloss: 1.25688\n",
      "[71]\ttraining's multi_logloss: 1.15104\tvalid_1's multi_logloss: 1.24919\n",
      "[72]\ttraining's multi_logloss: 1.14285\tvalid_1's multi_logloss: 1.24165\n",
      "[73]\ttraining's multi_logloss: 1.13477\tvalid_1's multi_logloss: 1.23418\n",
      "[74]\ttraining's multi_logloss: 1.12685\tvalid_1's multi_logloss: 1.22691\n",
      "[75]\ttraining's multi_logloss: 1.11903\tvalid_1's multi_logloss: 1.21973\n",
      "[76]\ttraining's multi_logloss: 1.11132\tvalid_1's multi_logloss: 1.21259\n",
      "[77]\ttraining's multi_logloss: 1.10378\tvalid_1's multi_logloss: 1.20568\n",
      "[78]\ttraining's multi_logloss: 1.09633\tvalid_1's multi_logloss: 1.19883\n",
      "[79]\ttraining's multi_logloss: 1.08902\tvalid_1's multi_logloss: 1.19218\n",
      "[80]\ttraining's multi_logloss: 1.0818\tvalid_1's multi_logloss: 1.18562\n",
      "[81]\ttraining's multi_logloss: 1.07474\tvalid_1's multi_logloss: 1.17919\n",
      "[82]\ttraining's multi_logloss: 1.06773\tvalid_1's multi_logloss: 1.17278\n",
      "[83]\ttraining's multi_logloss: 1.06085\tvalid_1's multi_logloss: 1.16649\n",
      "[84]\ttraining's multi_logloss: 1.05407\tvalid_1's multi_logloss: 1.16031\n",
      "[85]\ttraining's multi_logloss: 1.04744\tvalid_1's multi_logloss: 1.15432\n",
      "[86]\ttraining's multi_logloss: 1.04093\tvalid_1's multi_logloss: 1.14839\n",
      "[87]\ttraining's multi_logloss: 1.03447\tvalid_1's multi_logloss: 1.14254\n",
      "[88]\ttraining's multi_logloss: 1.02815\tvalid_1's multi_logloss: 1.13684\n",
      "[89]\ttraining's multi_logloss: 1.02191\tvalid_1's multi_logloss: 1.13118\n",
      "[90]\ttraining's multi_logloss: 1.01571\tvalid_1's multi_logloss: 1.12558\n",
      "[91]\ttraining's multi_logloss: 1.00968\tvalid_1's multi_logloss: 1.12018\n",
      "[92]\ttraining's multi_logloss: 1.00372\tvalid_1's multi_logloss: 1.11478\n",
      "[93]\ttraining's multi_logloss: 0.99784\tvalid_1's multi_logloss: 1.10948\n",
      "[94]\ttraining's multi_logloss: 0.992039\tvalid_1's multi_logloss: 1.10427\n",
      "[95]\ttraining's multi_logloss: 0.986327\tvalid_1's multi_logloss: 1.09912\n",
      "[96]\ttraining's multi_logloss: 0.980709\tvalid_1's multi_logloss: 1.09409\n",
      "[97]\ttraining's multi_logloss: 0.975191\tvalid_1's multi_logloss: 1.08916\n",
      "[98]\ttraining's multi_logloss: 0.969752\tvalid_1's multi_logloss: 1.0843\n",
      "[99]\ttraining's multi_logloss: 0.964406\tvalid_1's multi_logloss: 1.07956\n",
      "[100]\ttraining's multi_logloss: 0.959157\tvalid_1's multi_logloss: 1.07491\n",
      "[101]\ttraining's multi_logloss: 0.953952\tvalid_1's multi_logloss: 1.07029\n",
      "[102]\ttraining's multi_logloss: 0.948779\tvalid_1's multi_logloss: 1.06568\n",
      "[103]\ttraining's multi_logloss: 0.943749\tvalid_1's multi_logloss: 1.06126\n",
      "[104]\ttraining's multi_logloss: 0.938781\tvalid_1's multi_logloss: 1.05688\n",
      "[105]\ttraining's multi_logloss: 0.933854\tvalid_1's multi_logloss: 1.0525\n",
      "[106]\ttraining's multi_logloss: 0.929046\tvalid_1's multi_logloss: 1.04828\n",
      "[107]\ttraining's multi_logloss: 0.924291\tvalid_1's multi_logloss: 1.04407\n",
      "[108]\ttraining's multi_logloss: 0.919642\tvalid_1's multi_logloss: 1.04002\n",
      "[109]\ttraining's multi_logloss: 0.915041\tvalid_1's multi_logloss: 1.03597\n",
      "[110]\ttraining's multi_logloss: 0.910541\tvalid_1's multi_logloss: 1.03203\n",
      "[111]\ttraining's multi_logloss: 0.906033\tvalid_1's multi_logloss: 1.02806\n",
      "[112]\ttraining's multi_logloss: 0.901622\tvalid_1's multi_logloss: 1.02416\n",
      "[113]\ttraining's multi_logloss: 0.897291\tvalid_1's multi_logloss: 1.02038\n"
     ]
    },
    {
     "name": "stdout",
     "output_type": "stream",
     "text": [
      "[114]\ttraining's multi_logloss: 0.893\tvalid_1's multi_logloss: 1.01662\n",
      "[115]\ttraining's multi_logloss: 0.888765\tvalid_1's multi_logloss: 1.01291\n",
      "[116]\ttraining's multi_logloss: 0.884577\tvalid_1's multi_logloss: 1.00922\n",
      "[117]\ttraining's multi_logloss: 0.880458\tvalid_1's multi_logloss: 1.00563\n",
      "[118]\ttraining's multi_logloss: 0.876344\tvalid_1's multi_logloss: 1.00202\n",
      "[119]\ttraining's multi_logloss: 0.872288\tvalid_1's multi_logloss: 0.998505\n",
      "[120]\ttraining's multi_logloss: 0.868343\tvalid_1's multi_logloss: 0.995061\n",
      "[121]\ttraining's multi_logloss: 0.864431\tvalid_1's multi_logloss: 0.991729\n",
      "[122]\ttraining's multi_logloss: 0.860541\tvalid_1's multi_logloss: 0.988362\n",
      "[123]\ttraining's multi_logloss: 0.856707\tvalid_1's multi_logloss: 0.98505\n",
      "[124]\ttraining's multi_logloss: 0.852914\tvalid_1's multi_logloss: 0.981764\n",
      "[125]\ttraining's multi_logloss: 0.849132\tvalid_1's multi_logloss: 0.978507\n",
      "[126]\ttraining's multi_logloss: 0.845433\tvalid_1's multi_logloss: 0.975384\n",
      "[127]\ttraining's multi_logloss: 0.841789\tvalid_1's multi_logloss: 0.972304\n",
      "[128]\ttraining's multi_logloss: 0.83819\tvalid_1's multi_logloss: 0.969246\n",
      "[129]\ttraining's multi_logloss: 0.834622\tvalid_1's multi_logloss: 0.966168\n",
      "[130]\ttraining's multi_logloss: 0.831096\tvalid_1's multi_logloss: 0.963177\n",
      "[131]\ttraining's multi_logloss: 0.827619\tvalid_1's multi_logloss: 0.960203\n",
      "[132]\ttraining's multi_logloss: 0.824167\tvalid_1's multi_logloss: 0.957258\n",
      "[133]\ttraining's multi_logloss: 0.820778\tvalid_1's multi_logloss: 0.954382\n",
      "[134]\ttraining's multi_logloss: 0.817433\tvalid_1's multi_logloss: 0.951548\n",
      "[135]\ttraining's multi_logloss: 0.814119\tvalid_1's multi_logloss: 0.948757\n",
      "[136]\ttraining's multi_logloss: 0.810839\tvalid_1's multi_logloss: 0.945993\n",
      "[137]\ttraining's multi_logloss: 0.807619\tvalid_1's multi_logloss: 0.943253\n",
      "[138]\ttraining's multi_logloss: 0.804437\tvalid_1's multi_logloss: 0.940608\n",
      "[139]\ttraining's multi_logloss: 0.801304\tvalid_1's multi_logloss: 0.93798\n",
      "[140]\ttraining's multi_logloss: 0.79818\tvalid_1's multi_logloss: 0.935355\n",
      "[141]\ttraining's multi_logloss: 0.795122\tvalid_1's multi_logloss: 0.932834\n",
      "[142]\ttraining's multi_logloss: 0.792093\tvalid_1's multi_logloss: 0.930315\n",
      "[143]\ttraining's multi_logloss: 0.789058\tvalid_1's multi_logloss: 0.927759\n",
      "[144]\ttraining's multi_logloss: 0.786096\tvalid_1's multi_logloss: 0.92528\n",
      "[145]\ttraining's multi_logloss: 0.783184\tvalid_1's multi_logloss: 0.922869\n",
      "[146]\ttraining's multi_logloss: 0.780272\tvalid_1's multi_logloss: 0.920432\n",
      "[147]\ttraining's multi_logloss: 0.777425\tvalid_1's multi_logloss: 0.91806\n",
      "[148]\ttraining's multi_logloss: 0.774564\tvalid_1's multi_logloss: 0.915684\n",
      "[149]\ttraining's multi_logloss: 0.771747\tvalid_1's multi_logloss: 0.913349\n",
      "[150]\ttraining's multi_logloss: 0.768949\tvalid_1's multi_logloss: 0.911042\n",
      "[151]\ttraining's multi_logloss: 0.766191\tvalid_1's multi_logloss: 0.908798\n",
      "[152]\ttraining's multi_logloss: 0.763417\tvalid_1's multi_logloss: 0.906488\n",
      "[153]\ttraining's multi_logloss: 0.760701\tvalid_1's multi_logloss: 0.904216\n",
      "[154]\ttraining's multi_logloss: 0.758034\tvalid_1's multi_logloss: 0.902035\n",
      "[155]\ttraining's multi_logloss: 0.755356\tvalid_1's multi_logloss: 0.899818\n",
      "[156]\ttraining's multi_logloss: 0.752722\tvalid_1's multi_logloss: 0.897673\n",
      "[157]\ttraining's multi_logloss: 0.750147\tvalid_1's multi_logloss: 0.895615\n",
      "[158]\ttraining's multi_logloss: 0.747609\tvalid_1's multi_logloss: 0.893548\n",
      "[159]\ttraining's multi_logloss: 0.745057\tvalid_1's multi_logloss: 0.891467\n",
      "[160]\ttraining's multi_logloss: 0.742524\tvalid_1's multi_logloss: 0.889403\n",
      "[161]\ttraining's multi_logloss: 0.740077\tvalid_1's multi_logloss: 0.887442\n",
      "[162]\ttraining's multi_logloss: 0.737635\tvalid_1's multi_logloss: 0.885482\n",
      "[163]\ttraining's multi_logloss: 0.735191\tvalid_1's multi_logloss: 0.883478\n",
      "[164]\ttraining's multi_logloss: 0.732768\tvalid_1's multi_logloss: 0.881509\n",
      "[165]\ttraining's multi_logloss: 0.730362\tvalid_1's multi_logloss: 0.879596\n",
      "[166]\ttraining's multi_logloss: 0.728022\tvalid_1's multi_logloss: 0.877733\n",
      "[167]\ttraining's multi_logloss: 0.725665\tvalid_1's multi_logloss: 0.875841\n",
      "[168]\ttraining's multi_logloss: 0.723357\tvalid_1's multi_logloss: 0.873997\n",
      "[169]\ttraining's multi_logloss: 0.721063\tvalid_1's multi_logloss: 0.872216\n",
      "[170]\ttraining's multi_logloss: 0.718777\tvalid_1's multi_logloss: 0.870433\n",
      "[171]\ttraining's multi_logloss: 0.716559\tvalid_1's multi_logloss: 0.868679\n",
      "[172]\ttraining's multi_logloss: 0.714341\tvalid_1's multi_logloss: 0.866905\n",
      "[173]\ttraining's multi_logloss: 0.712111\tvalid_1's multi_logloss: 0.865175\n",
      "[174]\ttraining's multi_logloss: 0.709925\tvalid_1's multi_logloss: 0.863482\n",
      "[175]\ttraining's multi_logloss: 0.707811\tvalid_1's multi_logloss: 0.861845\n",
      "[176]\ttraining's multi_logloss: 0.705657\tvalid_1's multi_logloss: 0.860177\n",
      "[177]\ttraining's multi_logloss: 0.703548\tvalid_1's multi_logloss: 0.858543\n",
      "[178]\ttraining's multi_logloss: 0.701478\tvalid_1's multi_logloss: 0.856951\n",
      "[179]\ttraining's multi_logloss: 0.699383\tvalid_1's multi_logloss: 0.855314\n",
      "[180]\ttraining's multi_logloss: 0.697314\tvalid_1's multi_logloss: 0.853767\n",
      "[181]\ttraining's multi_logloss: 0.695238\tvalid_1's multi_logloss: 0.852114\n",
      "[182]\ttraining's multi_logloss: 0.69323\tvalid_1's multi_logloss: 0.850564\n",
      "[183]\ttraining's multi_logloss: 0.691239\tvalid_1's multi_logloss: 0.849019\n",
      "[184]\ttraining's multi_logloss: 0.689267\tvalid_1's multi_logloss: 0.847515\n",
      "[185]\ttraining's multi_logloss: 0.687287\tvalid_1's multi_logloss: 0.845972\n",
      "[186]\ttraining's multi_logloss: 0.685353\tvalid_1's multi_logloss: 0.844517\n",
      "[187]\ttraining's multi_logloss: 0.683423\tvalid_1's multi_logloss: 0.843011\n",
      "[188]\ttraining's multi_logloss: 0.681512\tvalid_1's multi_logloss: 0.841555\n",
      "[189]\ttraining's multi_logloss: 0.679616\tvalid_1's multi_logloss: 0.840064\n",
      "[190]\ttraining's multi_logloss: 0.677717\tvalid_1's multi_logloss: 0.838627\n",
      "[191]\ttraining's multi_logloss: 0.675859\tvalid_1's multi_logloss: 0.8372\n",
      "[192]\ttraining's multi_logloss: 0.674018\tvalid_1's multi_logloss: 0.835809\n",
      "[193]\ttraining's multi_logloss: 0.672175\tvalid_1's multi_logloss: 0.834402\n",
      "[194]\ttraining's multi_logloss: 0.670339\tvalid_1's multi_logloss: 0.833008\n",
      "[195]\ttraining's multi_logloss: 0.668508\tvalid_1's multi_logloss: 0.831656\n",
      "[196]\ttraining's multi_logloss: 0.666691\tvalid_1's multi_logloss: 0.830281\n",
      "[197]\ttraining's multi_logloss: 0.664865\tvalid_1's multi_logloss: 0.828959\n",
      "[198]\ttraining's multi_logloss: 0.663096\tvalid_1's multi_logloss: 0.82769\n",
      "[199]\ttraining's multi_logloss: 0.661262\tvalid_1's multi_logloss: 0.826302\n",
      "[200]\ttraining's multi_logloss: 0.659535\tvalid_1's multi_logloss: 0.825076\n",
      "[201]\ttraining's multi_logloss: 0.657785\tvalid_1's multi_logloss: 0.823769\n",
      "[202]\ttraining's multi_logloss: 0.656054\tvalid_1's multi_logloss: 0.822489\n",
      "[203]\ttraining's multi_logloss: 0.654271\tvalid_1's multi_logloss: 0.821157\n",
      "[204]\ttraining's multi_logloss: 0.652582\tvalid_1's multi_logloss: 0.819911\n",
      "[205]\ttraining's multi_logloss: 0.650882\tvalid_1's multi_logloss: 0.818715\n",
      "[206]\ttraining's multi_logloss: 0.649179\tvalid_1's multi_logloss: 0.817433\n",
      "[207]\ttraining's multi_logloss: 0.647518\tvalid_1's multi_logloss: 0.816251\n",
      "[208]\ttraining's multi_logloss: 0.645878\tvalid_1's multi_logloss: 0.815044\n",
      "[209]\ttraining's multi_logloss: 0.644216\tvalid_1's multi_logloss: 0.813832\n",
      "[210]\ttraining's multi_logloss: 0.642614\tvalid_1's multi_logloss: 0.812718\n",
      "[211]\ttraining's multi_logloss: 0.641008\tvalid_1's multi_logloss: 0.811577\n",
      "[212]\ttraining's multi_logloss: 0.639391\tvalid_1's multi_logloss: 0.81041\n",
      "[213]\ttraining's multi_logloss: 0.637805\tvalid_1's multi_logloss: 0.809273\n",
      "[214]\ttraining's multi_logloss: 0.636273\tvalid_1's multi_logloss: 0.808216\n",
      "[215]\ttraining's multi_logloss: 0.634709\tvalid_1's multi_logloss: 0.807096\n",
      "[216]\ttraining's multi_logloss: 0.633156\tvalid_1's multi_logloss: 0.806028\n",
      "[217]\ttraining's multi_logloss: 0.631602\tvalid_1's multi_logloss: 0.804927\n",
      "[218]\ttraining's multi_logloss: 0.63007\tvalid_1's multi_logloss: 0.803891\n",
      "[219]\ttraining's multi_logloss: 0.62856\tvalid_1's multi_logloss: 0.80285\n",
      "[220]\ttraining's multi_logloss: 0.627076\tvalid_1's multi_logloss: 0.801805\n",
      "[221]\ttraining's multi_logloss: 0.625585\tvalid_1's multi_logloss: 0.800782\n",
      "[222]\ttraining's multi_logloss: 0.624118\tvalid_1's multi_logloss: 0.799783\n",
      "[223]\ttraining's multi_logloss: 0.622636\tvalid_1's multi_logloss: 0.798759\n"
     ]
    },
    {
     "name": "stdout",
     "output_type": "stream",
     "text": [
      "[224]\ttraining's multi_logloss: 0.621161\tvalid_1's multi_logloss: 0.797761\n",
      "[225]\ttraining's multi_logloss: 0.619701\tvalid_1's multi_logloss: 0.796797\n",
      "[226]\ttraining's multi_logloss: 0.618227\tvalid_1's multi_logloss: 0.795757\n",
      "[227]\ttraining's multi_logloss: 0.616763\tvalid_1's multi_logloss: 0.794788\n",
      "[228]\ttraining's multi_logloss: 0.615338\tvalid_1's multi_logloss: 0.79382\n",
      "[229]\ttraining's multi_logloss: 0.613935\tvalid_1's multi_logloss: 0.79288\n",
      "[230]\ttraining's multi_logloss: 0.612539\tvalid_1's multi_logloss: 0.79197\n",
      "[231]\ttraining's multi_logloss: 0.611122\tvalid_1's multi_logloss: 0.790965\n",
      "[232]\ttraining's multi_logloss: 0.609737\tvalid_1's multi_logloss: 0.790038\n",
      "[233]\ttraining's multi_logloss: 0.608362\tvalid_1's multi_logloss: 0.789115\n",
      "[234]\ttraining's multi_logloss: 0.606999\tvalid_1's multi_logloss: 0.78822\n",
      "[235]\ttraining's multi_logloss: 0.605655\tvalid_1's multi_logloss: 0.787369\n",
      "[236]\ttraining's multi_logloss: 0.60431\tvalid_1's multi_logloss: 0.78648\n",
      "[237]\ttraining's multi_logloss: 0.602952\tvalid_1's multi_logloss: 0.785542\n",
      "[238]\ttraining's multi_logloss: 0.601614\tvalid_1's multi_logloss: 0.784657\n",
      "[239]\ttraining's multi_logloss: 0.600277\tvalid_1's multi_logloss: 0.783737\n",
      "[240]\ttraining's multi_logloss: 0.59894\tvalid_1's multi_logloss: 0.78286\n",
      "[241]\ttraining's multi_logloss: 0.597616\tvalid_1's multi_logloss: 0.78197\n",
      "[242]\ttraining's multi_logloss: 0.596319\tvalid_1's multi_logloss: 0.781135\n",
      "[243]\ttraining's multi_logloss: 0.595008\tvalid_1's multi_logloss: 0.780261\n",
      "[244]\ttraining's multi_logloss: 0.593755\tvalid_1's multi_logloss: 0.779443\n",
      "[245]\ttraining's multi_logloss: 0.592482\tvalid_1's multi_logloss: 0.778618\n",
      "[246]\ttraining's multi_logloss: 0.591231\tvalid_1's multi_logloss: 0.777808\n",
      "[247]\ttraining's multi_logloss: 0.589986\tvalid_1's multi_logloss: 0.776999\n",
      "[248]\ttraining's multi_logloss: 0.588726\tvalid_1's multi_logloss: 0.776186\n",
      "[249]\ttraining's multi_logloss: 0.587483\tvalid_1's multi_logloss: 0.775395\n",
      "[250]\ttraining's multi_logloss: 0.586238\tvalid_1's multi_logloss: 0.774582\n",
      "[251]\ttraining's multi_logloss: 0.585001\tvalid_1's multi_logloss: 0.773805\n",
      "[252]\ttraining's multi_logloss: 0.583764\tvalid_1's multi_logloss: 0.772985\n",
      "[253]\ttraining's multi_logloss: 0.582542\tvalid_1's multi_logloss: 0.772219\n",
      "[254]\ttraining's multi_logloss: 0.581288\tvalid_1's multi_logloss: 0.77139\n",
      "[255]\ttraining's multi_logloss: 0.580025\tvalid_1's multi_logloss: 0.770553\n",
      "[256]\ttraining's multi_logloss: 0.57882\tvalid_1's multi_logloss: 0.7698\n",
      "[257]\ttraining's multi_logloss: 0.577626\tvalid_1's multi_logloss: 0.769048\n",
      "[258]\ttraining's multi_logloss: 0.576449\tvalid_1's multi_logloss: 0.768284\n",
      "[259]\ttraining's multi_logloss: 0.575283\tvalid_1's multi_logloss: 0.767574\n",
      "[260]\ttraining's multi_logloss: 0.574127\tvalid_1's multi_logloss: 0.766826\n",
      "[261]\ttraining's multi_logloss: 0.572957\tvalid_1's multi_logloss: 0.766101\n",
      "[262]\ttraining's multi_logloss: 0.571819\tvalid_1's multi_logloss: 0.765375\n",
      "[263]\ttraining's multi_logloss: 0.570693\tvalid_1's multi_logloss: 0.764659\n",
      "[264]\ttraining's multi_logloss: 0.56956\tvalid_1's multi_logloss: 0.763941\n",
      "[265]\ttraining's multi_logloss: 0.56842\tvalid_1's multi_logloss: 0.763249\n",
      "[266]\ttraining's multi_logloss: 0.567291\tvalid_1's multi_logloss: 0.762562\n",
      "[267]\ttraining's multi_logloss: 0.566165\tvalid_1's multi_logloss: 0.761875\n",
      "[268]\ttraining's multi_logloss: 0.565072\tvalid_1's multi_logloss: 0.761197\n",
      "[269]\ttraining's multi_logloss: 0.563939\tvalid_1's multi_logloss: 0.760479\n",
      "[270]\ttraining's multi_logloss: 0.562873\tvalid_1's multi_logloss: 0.759867\n",
      "[271]\ttraining's multi_logloss: 0.561759\tvalid_1's multi_logloss: 0.759199\n",
      "[272]\ttraining's multi_logloss: 0.560661\tvalid_1's multi_logloss: 0.758567\n",
      "[273]\ttraining's multi_logloss: 0.559606\tvalid_1's multi_logloss: 0.757979\n",
      "[274]\ttraining's multi_logloss: 0.558495\tvalid_1's multi_logloss: 0.757296\n",
      "[275]\ttraining's multi_logloss: 0.557416\tvalid_1's multi_logloss: 0.75666\n",
      "[276]\ttraining's multi_logloss: 0.556357\tvalid_1's multi_logloss: 0.756044\n",
      "[277]\ttraining's multi_logloss: 0.555307\tvalid_1's multi_logloss: 0.755376\n",
      "[278]\ttraining's multi_logloss: 0.554252\tvalid_1's multi_logloss: 0.754741\n",
      "[279]\ttraining's multi_logloss: 0.553221\tvalid_1's multi_logloss: 0.754191\n",
      "[280]\ttraining's multi_logloss: 0.55215\tvalid_1's multi_logloss: 0.753525\n",
      "[281]\ttraining's multi_logloss: 0.551106\tvalid_1's multi_logloss: 0.752922\n",
      "[282]\ttraining's multi_logloss: 0.550062\tvalid_1's multi_logloss: 0.752327\n",
      "[283]\ttraining's multi_logloss: 0.549015\tvalid_1's multi_logloss: 0.751708\n",
      "[284]\ttraining's multi_logloss: 0.547969\tvalid_1's multi_logloss: 0.75109\n",
      "[285]\ttraining's multi_logloss: 0.546945\tvalid_1's multi_logloss: 0.75053\n",
      "[286]\ttraining's multi_logloss: 0.545963\tvalid_1's multi_logloss: 0.749999\n",
      "[287]\ttraining's multi_logloss: 0.544921\tvalid_1's multi_logloss: 0.749389\n",
      "[288]\ttraining's multi_logloss: 0.543918\tvalid_1's multi_logloss: 0.74881\n",
      "[289]\ttraining's multi_logloss: 0.542898\tvalid_1's multi_logloss: 0.748233\n",
      "[290]\ttraining's multi_logloss: 0.541895\tvalid_1's multi_logloss: 0.747688\n",
      "[291]\ttraining's multi_logloss: 0.540906\tvalid_1's multi_logloss: 0.747137\n",
      "[292]\ttraining's multi_logloss: 0.539942\tvalid_1's multi_logloss: 0.746601\n",
      "[293]\ttraining's multi_logloss: 0.538944\tvalid_1's multi_logloss: 0.746042\n",
      "[294]\ttraining's multi_logloss: 0.537985\tvalid_1's multi_logloss: 0.745526\n",
      "[295]\ttraining's multi_logloss: 0.537028\tvalid_1's multi_logloss: 0.745011\n",
      "[296]\ttraining's multi_logloss: 0.536083\tvalid_1's multi_logloss: 0.74447\n",
      "[297]\ttraining's multi_logloss: 0.535108\tvalid_1's multi_logloss: 0.743921\n",
      "[298]\ttraining's multi_logloss: 0.534145\tvalid_1's multi_logloss: 0.743418\n",
      "[299]\ttraining's multi_logloss: 0.533187\tvalid_1's multi_logloss: 0.74286\n",
      "[300]\ttraining's multi_logloss: 0.532242\tvalid_1's multi_logloss: 0.742377\n",
      "[301]\ttraining's multi_logloss: 0.531333\tvalid_1's multi_logloss: 0.741901\n",
      "[302]\ttraining's multi_logloss: 0.530391\tvalid_1's multi_logloss: 0.741384\n",
      "[303]\ttraining's multi_logloss: 0.529487\tvalid_1's multi_logloss: 0.740902\n",
      "[304]\ttraining's multi_logloss: 0.528519\tvalid_1's multi_logloss: 0.740356\n",
      "[305]\ttraining's multi_logloss: 0.527605\tvalid_1's multi_logloss: 0.739899\n",
      "[306]\ttraining's multi_logloss: 0.526702\tvalid_1's multi_logloss: 0.739421\n",
      "[307]\ttraining's multi_logloss: 0.525773\tvalid_1's multi_logloss: 0.738863\n",
      "[308]\ttraining's multi_logloss: 0.524837\tvalid_1's multi_logloss: 0.738346\n",
      "[309]\ttraining's multi_logloss: 0.523951\tvalid_1's multi_logloss: 0.737887\n",
      "[310]\ttraining's multi_logloss: 0.523045\tvalid_1's multi_logloss: 0.737392\n",
      "[311]\ttraining's multi_logloss: 0.522152\tvalid_1's multi_logloss: 0.736887\n",
      "[312]\ttraining's multi_logloss: 0.521254\tvalid_1's multi_logloss: 0.736396\n",
      "[313]\ttraining's multi_logloss: 0.520383\tvalid_1's multi_logloss: 0.735966\n",
      "[314]\ttraining's multi_logloss: 0.519472\tvalid_1's multi_logloss: 0.735428\n",
      "[315]\ttraining's multi_logloss: 0.518594\tvalid_1's multi_logloss: 0.734934\n",
      "[316]\ttraining's multi_logloss: 0.517719\tvalid_1's multi_logloss: 0.734457\n",
      "[317]\ttraining's multi_logloss: 0.516864\tvalid_1's multi_logloss: 0.733998\n",
      "[318]\ttraining's multi_logloss: 0.516003\tvalid_1's multi_logloss: 0.733546\n",
      "[319]\ttraining's multi_logloss: 0.515125\tvalid_1's multi_logloss: 0.733035\n",
      "[320]\ttraining's multi_logloss: 0.514276\tvalid_1's multi_logloss: 0.73262\n",
      "[321]\ttraining's multi_logloss: 0.513441\tvalid_1's multi_logloss: 0.73216\n",
      "[322]\ttraining's multi_logloss: 0.512586\tvalid_1's multi_logloss: 0.731734\n",
      "[323]\ttraining's multi_logloss: 0.511731\tvalid_1's multi_logloss: 0.731318\n",
      "[324]\ttraining's multi_logloss: 0.510888\tvalid_1's multi_logloss: 0.730845\n",
      "[325]\ttraining's multi_logloss: 0.510041\tvalid_1's multi_logloss: 0.730406\n",
      "[326]\ttraining's multi_logloss: 0.509189\tvalid_1's multi_logloss: 0.730001\n",
      "[327]\ttraining's multi_logloss: 0.50835\tvalid_1's multi_logloss: 0.729543\n",
      "[328]\ttraining's multi_logloss: 0.507516\tvalid_1's multi_logloss: 0.729145\n",
      "[329]\ttraining's multi_logloss: 0.506692\tvalid_1's multi_logloss: 0.728728\n",
      "[330]\ttraining's multi_logloss: 0.505864\tvalid_1's multi_logloss: 0.728366\n",
      "[331]\ttraining's multi_logloss: 0.505044\tvalid_1's multi_logloss: 0.727948\n",
      "[332]\ttraining's multi_logloss: 0.504231\tvalid_1's multi_logloss: 0.72749\n",
      "[333]\ttraining's multi_logloss: 0.503433\tvalid_1's multi_logloss: 0.727086\n"
     ]
    },
    {
     "name": "stdout",
     "output_type": "stream",
     "text": [
      "[334]\ttraining's multi_logloss: 0.50261\tvalid_1's multi_logloss: 0.726674\n",
      "[335]\ttraining's multi_logloss: 0.501803\tvalid_1's multi_logloss: 0.72627\n",
      "[336]\ttraining's multi_logloss: 0.500997\tvalid_1's multi_logloss: 0.725863\n",
      "[337]\ttraining's multi_logloss: 0.500179\tvalid_1's multi_logloss: 0.725433\n",
      "[338]\ttraining's multi_logloss: 0.499376\tvalid_1's multi_logloss: 0.725019\n",
      "[339]\ttraining's multi_logloss: 0.498586\tvalid_1's multi_logloss: 0.724623\n",
      "[340]\ttraining's multi_logloss: 0.497797\tvalid_1's multi_logloss: 0.724246\n",
      "[341]\ttraining's multi_logloss: 0.497013\tvalid_1's multi_logloss: 0.723855\n",
      "[342]\ttraining's multi_logloss: 0.496213\tvalid_1's multi_logloss: 0.723445\n",
      "[343]\ttraining's multi_logloss: 0.495392\tvalid_1's multi_logloss: 0.722978\n",
      "[344]\ttraining's multi_logloss: 0.49461\tvalid_1's multi_logloss: 0.722558\n",
      "[345]\ttraining's multi_logloss: 0.493835\tvalid_1's multi_logloss: 0.722184\n",
      "[346]\ttraining's multi_logloss: 0.493073\tvalid_1's multi_logloss: 0.721831\n",
      "[347]\ttraining's multi_logloss: 0.492314\tvalid_1's multi_logloss: 0.721473\n",
      "[348]\ttraining's multi_logloss: 0.491547\tvalid_1's multi_logloss: 0.721119\n",
      "[349]\ttraining's multi_logloss: 0.490774\tvalid_1's multi_logloss: 0.720712\n",
      "[350]\ttraining's multi_logloss: 0.489997\tvalid_1's multi_logloss: 0.72033\n",
      "[351]\ttraining's multi_logloss: 0.489235\tvalid_1's multi_logloss: 0.719978\n",
      "[352]\ttraining's multi_logloss: 0.488495\tvalid_1's multi_logloss: 0.719618\n",
      "[353]\ttraining's multi_logloss: 0.487747\tvalid_1's multi_logloss: 0.719227\n",
      "[354]\ttraining's multi_logloss: 0.486994\tvalid_1's multi_logloss: 0.718872\n",
      "[355]\ttraining's multi_logloss: 0.486255\tvalid_1's multi_logloss: 0.71853\n",
      "[356]\ttraining's multi_logloss: 0.485507\tvalid_1's multi_logloss: 0.718163\n",
      "[357]\ttraining's multi_logloss: 0.484782\tvalid_1's multi_logloss: 0.717798\n",
      "[358]\ttraining's multi_logloss: 0.484036\tvalid_1's multi_logloss: 0.717438\n",
      "[359]\ttraining's multi_logloss: 0.48328\tvalid_1's multi_logloss: 0.717058\n",
      "[360]\ttraining's multi_logloss: 0.482527\tvalid_1's multi_logloss: 0.716722\n",
      "[361]\ttraining's multi_logloss: 0.481795\tvalid_1's multi_logloss: 0.716371\n",
      "[362]\ttraining's multi_logloss: 0.481069\tvalid_1's multi_logloss: 0.716006\n",
      "[363]\ttraining's multi_logloss: 0.480341\tvalid_1's multi_logloss: 0.71566\n",
      "[364]\ttraining's multi_logloss: 0.479623\tvalid_1's multi_logloss: 0.715348\n",
      "[365]\ttraining's multi_logloss: 0.478912\tvalid_1's multi_logloss: 0.715032\n",
      "[366]\ttraining's multi_logloss: 0.478205\tvalid_1's multi_logloss: 0.71473\n",
      "[367]\ttraining's multi_logloss: 0.477474\tvalid_1's multi_logloss: 0.714382\n",
      "[368]\ttraining's multi_logloss: 0.476751\tvalid_1's multi_logloss: 0.714048\n",
      "[369]\ttraining's multi_logloss: 0.476053\tvalid_1's multi_logloss: 0.713726\n",
      "[370]\ttraining's multi_logloss: 0.475343\tvalid_1's multi_logloss: 0.713432\n",
      "[371]\ttraining's multi_logloss: 0.474627\tvalid_1's multi_logloss: 0.713117\n",
      "[372]\ttraining's multi_logloss: 0.47392\tvalid_1's multi_logloss: 0.712828\n",
      "[373]\ttraining's multi_logloss: 0.473237\tvalid_1's multi_logloss: 0.712532\n",
      "[374]\ttraining's multi_logloss: 0.472541\tvalid_1's multi_logloss: 0.712216\n",
      "[375]\ttraining's multi_logloss: 0.471835\tvalid_1's multi_logloss: 0.711897\n",
      "[376]\ttraining's multi_logloss: 0.471156\tvalid_1's multi_logloss: 0.711594\n",
      "[377]\ttraining's multi_logloss: 0.470459\tvalid_1's multi_logloss: 0.711284\n",
      "[378]\ttraining's multi_logloss: 0.469787\tvalid_1's multi_logloss: 0.710992\n",
      "[379]\ttraining's multi_logloss: 0.469107\tvalid_1's multi_logloss: 0.710684\n",
      "[380]\ttraining's multi_logloss: 0.468407\tvalid_1's multi_logloss: 0.710372\n",
      "[381]\ttraining's multi_logloss: 0.467745\tvalid_1's multi_logloss: 0.710061\n",
      "[382]\ttraining's multi_logloss: 0.467075\tvalid_1's multi_logloss: 0.70977\n",
      "[383]\ttraining's multi_logloss: 0.466394\tvalid_1's multi_logloss: 0.709458\n",
      "[384]\ttraining's multi_logloss: 0.465751\tvalid_1's multi_logloss: 0.70918\n",
      "[385]\ttraining's multi_logloss: 0.465083\tvalid_1's multi_logloss: 0.708884\n",
      "[386]\ttraining's multi_logloss: 0.464416\tvalid_1's multi_logloss: 0.708594\n",
      "[387]\ttraining's multi_logloss: 0.463757\tvalid_1's multi_logloss: 0.708302\n",
      "[388]\ttraining's multi_logloss: 0.4631\tvalid_1's multi_logloss: 0.708039\n",
      "[389]\ttraining's multi_logloss: 0.462436\tvalid_1's multi_logloss: 0.707734\n",
      "[390]\ttraining's multi_logloss: 0.461788\tvalid_1's multi_logloss: 0.70741\n",
      "[391]\ttraining's multi_logloss: 0.46112\tvalid_1's multi_logloss: 0.707128\n",
      "[392]\ttraining's multi_logloss: 0.460461\tvalid_1's multi_logloss: 0.706874\n",
      "[393]\ttraining's multi_logloss: 0.459806\tvalid_1's multi_logloss: 0.706582\n",
      "[394]\ttraining's multi_logloss: 0.459156\tvalid_1's multi_logloss: 0.706299\n",
      "[395]\ttraining's multi_logloss: 0.458526\tvalid_1's multi_logloss: 0.706043\n",
      "[396]\ttraining's multi_logloss: 0.45788\tvalid_1's multi_logloss: 0.705794\n",
      "[397]\ttraining's multi_logloss: 0.457251\tvalid_1's multi_logloss: 0.705573\n",
      "[398]\ttraining's multi_logloss: 0.456614\tvalid_1's multi_logloss: 0.705314\n",
      "[399]\ttraining's multi_logloss: 0.455961\tvalid_1's multi_logloss: 0.705013\n",
      "[400]\ttraining's multi_logloss: 0.455328\tvalid_1's multi_logloss: 0.70477\n",
      "[401]\ttraining's multi_logloss: 0.454692\tvalid_1's multi_logloss: 0.704505\n",
      "[402]\ttraining's multi_logloss: 0.454065\tvalid_1's multi_logloss: 0.704271\n",
      "[403]\ttraining's multi_logloss: 0.453427\tvalid_1's multi_logloss: 0.704026\n",
      "[404]\ttraining's multi_logloss: 0.452809\tvalid_1's multi_logloss: 0.703785\n",
      "[405]\ttraining's multi_logloss: 0.452196\tvalid_1's multi_logloss: 0.70354\n",
      "[406]\ttraining's multi_logloss: 0.451566\tvalid_1's multi_logloss: 0.703282\n",
      "[407]\ttraining's multi_logloss: 0.450955\tvalid_1's multi_logloss: 0.703047\n",
      "[408]\ttraining's multi_logloss: 0.45035\tvalid_1's multi_logloss: 0.702796\n",
      "[409]\ttraining's multi_logloss: 0.44972\tvalid_1's multi_logloss: 0.702539\n",
      "[410]\ttraining's multi_logloss: 0.449112\tvalid_1's multi_logloss: 0.702279\n",
      "[411]\ttraining's multi_logloss: 0.448496\tvalid_1's multi_logloss: 0.702022\n",
      "[412]\ttraining's multi_logloss: 0.447879\tvalid_1's multi_logloss: 0.70179\n",
      "[413]\ttraining's multi_logloss: 0.447266\tvalid_1's multi_logloss: 0.701551\n",
      "[414]\ttraining's multi_logloss: 0.446656\tvalid_1's multi_logloss: 0.701277\n",
      "[415]\ttraining's multi_logloss: 0.446043\tvalid_1's multi_logloss: 0.70103\n",
      "[416]\ttraining's multi_logloss: 0.445437\tvalid_1's multi_logloss: 0.700784\n",
      "[417]\ttraining's multi_logloss: 0.444847\tvalid_1's multi_logloss: 0.700525\n",
      "[418]\ttraining's multi_logloss: 0.444252\tvalid_1's multi_logloss: 0.700293\n",
      "[419]\ttraining's multi_logloss: 0.443661\tvalid_1's multi_logloss: 0.700074\n",
      "[420]\ttraining's multi_logloss: 0.443076\tvalid_1's multi_logloss: 0.699863\n",
      "[421]\ttraining's multi_logloss: 0.44247\tvalid_1's multi_logloss: 0.699623\n",
      "[422]\ttraining's multi_logloss: 0.441865\tvalid_1's multi_logloss: 0.699361\n",
      "[423]\ttraining's multi_logloss: 0.441281\tvalid_1's multi_logloss: 0.699125\n",
      "[424]\ttraining's multi_logloss: 0.440694\tvalid_1's multi_logloss: 0.698867\n",
      "[425]\ttraining's multi_logloss: 0.440104\tvalid_1's multi_logloss: 0.698609\n",
      "[426]\ttraining's multi_logloss: 0.439514\tvalid_1's multi_logloss: 0.698392\n",
      "[427]\ttraining's multi_logloss: 0.43893\tvalid_1's multi_logloss: 0.698193\n",
      "[428]\ttraining's multi_logloss: 0.438351\tvalid_1's multi_logloss: 0.697997\n",
      "[429]\ttraining's multi_logloss: 0.437784\tvalid_1's multi_logloss: 0.697776\n",
      "[430]\ttraining's multi_logloss: 0.437211\tvalid_1's multi_logloss: 0.697548\n",
      "[431]\ttraining's multi_logloss: 0.436632\tvalid_1's multi_logloss: 0.69734\n",
      "[432]\ttraining's multi_logloss: 0.436055\tvalid_1's multi_logloss: 0.697114\n",
      "[433]\ttraining's multi_logloss: 0.435486\tvalid_1's multi_logloss: 0.696913\n",
      "[434]\ttraining's multi_logloss: 0.434917\tvalid_1's multi_logloss: 0.696727\n",
      "[435]\ttraining's multi_logloss: 0.434339\tvalid_1's multi_logloss: 0.696503\n",
      "[436]\ttraining's multi_logloss: 0.433781\tvalid_1's multi_logloss: 0.696294\n",
      "[437]\ttraining's multi_logloss: 0.433214\tvalid_1's multi_logloss: 0.696047\n",
      "[438]\ttraining's multi_logloss: 0.432651\tvalid_1's multi_logloss: 0.695832\n",
      "[439]\ttraining's multi_logloss: 0.432088\tvalid_1's multi_logloss: 0.695591\n",
      "[440]\ttraining's multi_logloss: 0.431537\tvalid_1's multi_logloss: 0.695379\n",
      "[441]\ttraining's multi_logloss: 0.430988\tvalid_1's multi_logloss: 0.695175\n",
      "[442]\ttraining's multi_logloss: 0.430432\tvalid_1's multi_logloss: 0.694949\n",
      "[443]\ttraining's multi_logloss: 0.429867\tvalid_1's multi_logloss: 0.694743\n"
     ]
    },
    {
     "name": "stdout",
     "output_type": "stream",
     "text": [
      "[444]\ttraining's multi_logloss: 0.429326\tvalid_1's multi_logloss: 0.694543\n",
      "[445]\ttraining's multi_logloss: 0.428776\tvalid_1's multi_logloss: 0.694339\n",
      "[446]\ttraining's multi_logloss: 0.428234\tvalid_1's multi_logloss: 0.694127\n",
      "[447]\ttraining's multi_logloss: 0.42768\tvalid_1's multi_logloss: 0.693945\n",
      "[448]\ttraining's multi_logloss: 0.427128\tvalid_1's multi_logloss: 0.693713\n",
      "[449]\ttraining's multi_logloss: 0.426591\tvalid_1's multi_logloss: 0.693528\n",
      "[450]\ttraining's multi_logloss: 0.426048\tvalid_1's multi_logloss: 0.693341\n",
      "[451]\ttraining's multi_logloss: 0.425495\tvalid_1's multi_logloss: 0.693139\n",
      "[452]\ttraining's multi_logloss: 0.424955\tvalid_1's multi_logloss: 0.692937\n",
      "[453]\ttraining's multi_logloss: 0.424412\tvalid_1's multi_logloss: 0.692694\n",
      "[454]\ttraining's multi_logloss: 0.423877\tvalid_1's multi_logloss: 0.692522\n",
      "[455]\ttraining's multi_logloss: 0.423326\tvalid_1's multi_logloss: 0.692348\n",
      "[456]\ttraining's multi_logloss: 0.422789\tvalid_1's multi_logloss: 0.692205\n",
      "[457]\ttraining's multi_logloss: 0.422236\tvalid_1's multi_logloss: 0.69198\n",
      "[458]\ttraining's multi_logloss: 0.421707\tvalid_1's multi_logloss: 0.691745\n",
      "[459]\ttraining's multi_logloss: 0.421178\tvalid_1's multi_logloss: 0.691564\n",
      "[460]\ttraining's multi_logloss: 0.420634\tvalid_1's multi_logloss: 0.691357\n",
      "[461]\ttraining's multi_logloss: 0.420109\tvalid_1's multi_logloss: 0.691156\n",
      "[462]\ttraining's multi_logloss: 0.419585\tvalid_1's multi_logloss: 0.690959\n",
      "[463]\ttraining's multi_logloss: 0.419065\tvalid_1's multi_logloss: 0.690779\n",
      "[464]\ttraining's multi_logloss: 0.418547\tvalid_1's multi_logloss: 0.690578\n",
      "[465]\ttraining's multi_logloss: 0.41804\tvalid_1's multi_logloss: 0.690436\n",
      "[466]\ttraining's multi_logloss: 0.417519\tvalid_1's multi_logloss: 0.690269\n",
      "[467]\ttraining's multi_logloss: 0.416985\tvalid_1's multi_logloss: 0.690071\n",
      "[468]\ttraining's multi_logloss: 0.416452\tvalid_1's multi_logloss: 0.68992\n",
      "[469]\ttraining's multi_logloss: 0.415923\tvalid_1's multi_logloss: 0.689751\n",
      "[470]\ttraining's multi_logloss: 0.415404\tvalid_1's multi_logloss: 0.689543\n",
      "[471]\ttraining's multi_logloss: 0.41488\tvalid_1's multi_logloss: 0.689324\n",
      "[472]\ttraining's multi_logloss: 0.414376\tvalid_1's multi_logloss: 0.689138\n",
      "[473]\ttraining's multi_logloss: 0.413883\tvalid_1's multi_logloss: 0.688984\n",
      "[474]\ttraining's multi_logloss: 0.413377\tvalid_1's multi_logloss: 0.688835\n",
      "[475]\ttraining's multi_logloss: 0.412874\tvalid_1's multi_logloss: 0.688661\n",
      "[476]\ttraining's multi_logloss: 0.412371\tvalid_1's multi_logloss: 0.688497\n",
      "[477]\ttraining's multi_logloss: 0.411851\tvalid_1's multi_logloss: 0.688319\n",
      "[478]\ttraining's multi_logloss: 0.411359\tvalid_1's multi_logloss: 0.688162\n",
      "[479]\ttraining's multi_logloss: 0.410854\tvalid_1's multi_logloss: 0.687956\n",
      "[480]\ttraining's multi_logloss: 0.410338\tvalid_1's multi_logloss: 0.687753\n",
      "[481]\ttraining's multi_logloss: 0.409821\tvalid_1's multi_logloss: 0.68758\n",
      "[482]\ttraining's multi_logloss: 0.409315\tvalid_1's multi_logloss: 0.687414\n",
      "[483]\ttraining's multi_logloss: 0.408824\tvalid_1's multi_logloss: 0.687259\n",
      "[484]\ttraining's multi_logloss: 0.408306\tvalid_1's multi_logloss: 0.687084\n",
      "[485]\ttraining's multi_logloss: 0.407821\tvalid_1's multi_logloss: 0.686917\n",
      "[486]\ttraining's multi_logloss: 0.407316\tvalid_1's multi_logloss: 0.686782\n",
      "[487]\ttraining's multi_logloss: 0.406812\tvalid_1's multi_logloss: 0.686618\n",
      "[488]\ttraining's multi_logloss: 0.40632\tvalid_1's multi_logloss: 0.686464\n",
      "[489]\ttraining's multi_logloss: 0.405814\tvalid_1's multi_logloss: 0.686284\n",
      "[490]\ttraining's multi_logloss: 0.405331\tvalid_1's multi_logloss: 0.686107\n",
      "[491]\ttraining's multi_logloss: 0.404833\tvalid_1's multi_logloss: 0.685919\n",
      "[492]\ttraining's multi_logloss: 0.40436\tvalid_1's multi_logloss: 0.685801\n",
      "[493]\ttraining's multi_logloss: 0.403868\tvalid_1's multi_logloss: 0.685626\n",
      "[494]\ttraining's multi_logloss: 0.403377\tvalid_1's multi_logloss: 0.685465\n",
      "[495]\ttraining's multi_logloss: 0.402879\tvalid_1's multi_logloss: 0.685315\n",
      "[496]\ttraining's multi_logloss: 0.4024\tvalid_1's multi_logloss: 0.685156\n",
      "[497]\ttraining's multi_logloss: 0.401915\tvalid_1's multi_logloss: 0.685005\n",
      "[498]\ttraining's multi_logloss: 0.401443\tvalid_1's multi_logloss: 0.68484\n",
      "[499]\ttraining's multi_logloss: 0.400965\tvalid_1's multi_logloss: 0.684694\n",
      "[500]\ttraining's multi_logloss: 0.4005\tvalid_1's multi_logloss: 0.68454\n",
      "[501]\ttraining's multi_logloss: 0.40001\tvalid_1's multi_logloss: 0.68438\n",
      "[502]\ttraining's multi_logloss: 0.399552\tvalid_1's multi_logloss: 0.684211\n",
      "[503]\ttraining's multi_logloss: 0.399072\tvalid_1's multi_logloss: 0.684045\n",
      "[504]\ttraining's multi_logloss: 0.398596\tvalid_1's multi_logloss: 0.683871\n",
      "[505]\ttraining's multi_logloss: 0.398123\tvalid_1's multi_logloss: 0.683741\n",
      "[506]\ttraining's multi_logloss: 0.397657\tvalid_1's multi_logloss: 0.683607\n",
      "[507]\ttraining's multi_logloss: 0.397192\tvalid_1's multi_logloss: 0.683419\n",
      "[508]\ttraining's multi_logloss: 0.396709\tvalid_1's multi_logloss: 0.68327\n",
      "[509]\ttraining's multi_logloss: 0.396236\tvalid_1's multi_logloss: 0.683125\n",
      "[510]\ttraining's multi_logloss: 0.395774\tvalid_1's multi_logloss: 0.682993\n",
      "[511]\ttraining's multi_logloss: 0.3953\tvalid_1's multi_logloss: 0.682846\n",
      "[512]\ttraining's multi_logloss: 0.39485\tvalid_1's multi_logloss: 0.682683\n",
      "[513]\ttraining's multi_logloss: 0.394392\tvalid_1's multi_logloss: 0.682518\n",
      "[514]\ttraining's multi_logloss: 0.393942\tvalid_1's multi_logloss: 0.682381\n",
      "[515]\ttraining's multi_logloss: 0.393475\tvalid_1's multi_logloss: 0.682267\n",
      "[516]\ttraining's multi_logloss: 0.393024\tvalid_1's multi_logloss: 0.682132\n",
      "[517]\ttraining's multi_logloss: 0.392571\tvalid_1's multi_logloss: 0.681988\n",
      "[518]\ttraining's multi_logloss: 0.392125\tvalid_1's multi_logloss: 0.681831\n",
      "[519]\ttraining's multi_logloss: 0.391668\tvalid_1's multi_logloss: 0.681688\n",
      "[520]\ttraining's multi_logloss: 0.391203\tvalid_1's multi_logloss: 0.681533\n",
      "[521]\ttraining's multi_logloss: 0.390756\tvalid_1's multi_logloss: 0.68139\n",
      "[522]\ttraining's multi_logloss: 0.390307\tvalid_1's multi_logloss: 0.681226\n",
      "[523]\ttraining's multi_logloss: 0.389857\tvalid_1's multi_logloss: 0.681079\n",
      "[524]\ttraining's multi_logloss: 0.389406\tvalid_1's multi_logloss: 0.680953\n",
      "[525]\ttraining's multi_logloss: 0.388963\tvalid_1's multi_logloss: 0.680818\n",
      "[526]\ttraining's multi_logloss: 0.388504\tvalid_1's multi_logloss: 0.680688\n",
      "[527]\ttraining's multi_logloss: 0.38806\tvalid_1's multi_logloss: 0.680571\n",
      "[528]\ttraining's multi_logloss: 0.387616\tvalid_1's multi_logloss: 0.680445\n",
      "[529]\ttraining's multi_logloss: 0.387187\tvalid_1's multi_logloss: 0.680328\n",
      "[530]\ttraining's multi_logloss: 0.386744\tvalid_1's multi_logloss: 0.680202\n",
      "[531]\ttraining's multi_logloss: 0.38631\tvalid_1's multi_logloss: 0.680062\n",
      "[532]\ttraining's multi_logloss: 0.38586\tvalid_1's multi_logloss: 0.679932\n",
      "[533]\ttraining's multi_logloss: 0.385422\tvalid_1's multi_logloss: 0.67983\n",
      "[534]\ttraining's multi_logloss: 0.384981\tvalid_1's multi_logloss: 0.679681\n",
      "[535]\ttraining's multi_logloss: 0.384521\tvalid_1's multi_logloss: 0.679553\n",
      "[536]\ttraining's multi_logloss: 0.384084\tvalid_1's multi_logloss: 0.679434\n",
      "[537]\ttraining's multi_logloss: 0.383648\tvalid_1's multi_logloss: 0.679299\n",
      "[538]\ttraining's multi_logloss: 0.383222\tvalid_1's multi_logloss: 0.679213\n",
      "[539]\ttraining's multi_logloss: 0.382799\tvalid_1's multi_logloss: 0.679061\n",
      "[540]\ttraining's multi_logloss: 0.382357\tvalid_1's multi_logloss: 0.678926\n",
      "[541]\ttraining's multi_logloss: 0.381926\tvalid_1's multi_logloss: 0.678834\n",
      "[542]\ttraining's multi_logloss: 0.381478\tvalid_1's multi_logloss: 0.678702\n",
      "[543]\ttraining's multi_logloss: 0.38106\tvalid_1's multi_logloss: 0.678586\n",
      "[544]\ttraining's multi_logloss: 0.380635\tvalid_1's multi_logloss: 0.678464\n",
      "[545]\ttraining's multi_logloss: 0.380205\tvalid_1's multi_logloss: 0.678371\n",
      "[546]\ttraining's multi_logloss: 0.379779\tvalid_1's multi_logloss: 0.678219\n",
      "[547]\ttraining's multi_logloss: 0.379346\tvalid_1's multi_logloss: 0.678092\n",
      "[548]\ttraining's multi_logloss: 0.378917\tvalid_1's multi_logloss: 0.677976\n",
      "[549]\ttraining's multi_logloss: 0.378496\tvalid_1's multi_logloss: 0.677842\n",
      "[550]\ttraining's multi_logloss: 0.378072\tvalid_1's multi_logloss: 0.67774\n",
      "[551]\ttraining's multi_logloss: 0.377641\tvalid_1's multi_logloss: 0.677601\n",
      "[552]\ttraining's multi_logloss: 0.377206\tvalid_1's multi_logloss: 0.677477\n",
      "[553]\ttraining's multi_logloss: 0.376784\tvalid_1's multi_logloss: 0.677384\n"
     ]
    },
    {
     "name": "stdout",
     "output_type": "stream",
     "text": [
      "[554]\ttraining's multi_logloss: 0.376362\tvalid_1's multi_logloss: 0.677276\n",
      "[555]\ttraining's multi_logloss: 0.375941\tvalid_1's multi_logloss: 0.677161\n",
      "[556]\ttraining's multi_logloss: 0.375519\tvalid_1's multi_logloss: 0.677046\n",
      "[557]\ttraining's multi_logloss: 0.375091\tvalid_1's multi_logloss: 0.676919\n",
      "[558]\ttraining's multi_logloss: 0.37467\tvalid_1's multi_logloss: 0.676828\n",
      "[559]\ttraining's multi_logloss: 0.37425\tvalid_1's multi_logloss: 0.67671\n",
      "[560]\ttraining's multi_logloss: 0.373851\tvalid_1's multi_logloss: 0.676583\n",
      "[561]\ttraining's multi_logloss: 0.373445\tvalid_1's multi_logloss: 0.676454\n",
      "[562]\ttraining's multi_logloss: 0.373027\tvalid_1's multi_logloss: 0.676326\n",
      "[563]\ttraining's multi_logloss: 0.37262\tvalid_1's multi_logloss: 0.676197\n",
      "[564]\ttraining's multi_logloss: 0.372204\tvalid_1's multi_logloss: 0.676103\n",
      "[565]\ttraining's multi_logloss: 0.371785\tvalid_1's multi_logloss: 0.676012\n",
      "[566]\ttraining's multi_logloss: 0.371381\tvalid_1's multi_logloss: 0.675904\n",
      "[567]\ttraining's multi_logloss: 0.370978\tvalid_1's multi_logloss: 0.675804\n",
      "[568]\ttraining's multi_logloss: 0.370576\tvalid_1's multi_logloss: 0.675714\n",
      "[569]\ttraining's multi_logloss: 0.370173\tvalid_1's multi_logloss: 0.67562\n",
      "[570]\ttraining's multi_logloss: 0.369774\tvalid_1's multi_logloss: 0.675531\n",
      "[571]\ttraining's multi_logloss: 0.369371\tvalid_1's multi_logloss: 0.675423\n",
      "[572]\ttraining's multi_logloss: 0.368963\tvalid_1's multi_logloss: 0.675303\n",
      "[573]\ttraining's multi_logloss: 0.36855\tvalid_1's multi_logloss: 0.675186\n",
      "[574]\ttraining's multi_logloss: 0.368145\tvalid_1's multi_logloss: 0.675077\n",
      "[575]\ttraining's multi_logloss: 0.367761\tvalid_1's multi_logloss: 0.674996\n",
      "[576]\ttraining's multi_logloss: 0.367359\tvalid_1's multi_logloss: 0.674894\n",
      "[577]\ttraining's multi_logloss: 0.366967\tvalid_1's multi_logloss: 0.674772\n",
      "[578]\ttraining's multi_logloss: 0.36656\tvalid_1's multi_logloss: 0.674668\n",
      "[579]\ttraining's multi_logloss: 0.366148\tvalid_1's multi_logloss: 0.674578\n",
      "[580]\ttraining's multi_logloss: 0.365754\tvalid_1's multi_logloss: 0.674461\n",
      "[581]\ttraining's multi_logloss: 0.36536\tvalid_1's multi_logloss: 0.674381\n",
      "[582]\ttraining's multi_logloss: 0.36495\tvalid_1's multi_logloss: 0.67427\n",
      "[583]\ttraining's multi_logloss: 0.364561\tvalid_1's multi_logloss: 0.674166\n",
      "[584]\ttraining's multi_logloss: 0.364169\tvalid_1's multi_logloss: 0.6741\n",
      "[585]\ttraining's multi_logloss: 0.363772\tvalid_1's multi_logloss: 0.673988\n",
      "[586]\ttraining's multi_logloss: 0.363383\tvalid_1's multi_logloss: 0.673908\n",
      "[587]\ttraining's multi_logloss: 0.363001\tvalid_1's multi_logloss: 0.673847\n",
      "[588]\ttraining's multi_logloss: 0.362608\tvalid_1's multi_logloss: 0.673755\n",
      "[589]\ttraining's multi_logloss: 0.362222\tvalid_1's multi_logloss: 0.673669\n",
      "[590]\ttraining's multi_logloss: 0.361846\tvalid_1's multi_logloss: 0.67358\n",
      "[591]\ttraining's multi_logloss: 0.361461\tvalid_1's multi_logloss: 0.673448\n",
      "[592]\ttraining's multi_logloss: 0.361059\tvalid_1's multi_logloss: 0.673343\n",
      "[593]\ttraining's multi_logloss: 0.360662\tvalid_1's multi_logloss: 0.673245\n",
      "[594]\ttraining's multi_logloss: 0.360264\tvalid_1's multi_logloss: 0.673143\n",
      "[595]\ttraining's multi_logloss: 0.35988\tvalid_1's multi_logloss: 0.673068\n",
      "[596]\ttraining's multi_logloss: 0.359491\tvalid_1's multi_logloss: 0.672948\n",
      "[597]\ttraining's multi_logloss: 0.359116\tvalid_1's multi_logloss: 0.672855\n",
      "[598]\ttraining's multi_logloss: 0.358726\tvalid_1's multi_logloss: 0.672757\n",
      "[599]\ttraining's multi_logloss: 0.358355\tvalid_1's multi_logloss: 0.672662\n",
      "[600]\ttraining's multi_logloss: 0.35797\tvalid_1's multi_logloss: 0.672586\n",
      "[601]\ttraining's multi_logloss: 0.357597\tvalid_1's multi_logloss: 0.672492\n",
      "[602]\ttraining's multi_logloss: 0.357221\tvalid_1's multi_logloss: 0.672401\n",
      "[603]\ttraining's multi_logloss: 0.356837\tvalid_1's multi_logloss: 0.672288\n",
      "[604]\ttraining's multi_logloss: 0.356455\tvalid_1's multi_logloss: 0.6722\n",
      "[605]\ttraining's multi_logloss: 0.356075\tvalid_1's multi_logloss: 0.672105\n",
      "[606]\ttraining's multi_logloss: 0.355707\tvalid_1's multi_logloss: 0.672024\n",
      "[607]\ttraining's multi_logloss: 0.355323\tvalid_1's multi_logloss: 0.671938\n",
      "[608]\ttraining's multi_logloss: 0.354944\tvalid_1's multi_logloss: 0.671838\n",
      "[609]\ttraining's multi_logloss: 0.354557\tvalid_1's multi_logloss: 0.671743\n",
      "[610]\ttraining's multi_logloss: 0.354183\tvalid_1's multi_logloss: 0.671631\n",
      "[611]\ttraining's multi_logloss: 0.353783\tvalid_1's multi_logloss: 0.671516\n",
      "[612]\ttraining's multi_logloss: 0.353409\tvalid_1's multi_logloss: 0.671442\n",
      "[613]\ttraining's multi_logloss: 0.353037\tvalid_1's multi_logloss: 0.671339\n",
      "[614]\ttraining's multi_logloss: 0.352669\tvalid_1's multi_logloss: 0.671233\n",
      "[615]\ttraining's multi_logloss: 0.352295\tvalid_1's multi_logloss: 0.671125\n",
      "[616]\ttraining's multi_logloss: 0.351918\tvalid_1's multi_logloss: 0.671035\n",
      "[617]\ttraining's multi_logloss: 0.351553\tvalid_1's multi_logloss: 0.670954\n",
      "[618]\ttraining's multi_logloss: 0.351173\tvalid_1's multi_logloss: 0.670872\n",
      "[619]\ttraining's multi_logloss: 0.350799\tvalid_1's multi_logloss: 0.670784\n",
      "[620]\ttraining's multi_logloss: 0.350428\tvalid_1's multi_logloss: 0.670707\n",
      "[621]\ttraining's multi_logloss: 0.350062\tvalid_1's multi_logloss: 0.670613\n",
      "[622]\ttraining's multi_logloss: 0.349703\tvalid_1's multi_logloss: 0.670514\n",
      "[623]\ttraining's multi_logloss: 0.349333\tvalid_1's multi_logloss: 0.670431\n",
      "[624]\ttraining's multi_logloss: 0.348975\tvalid_1's multi_logloss: 0.670346\n",
      "[625]\ttraining's multi_logloss: 0.348614\tvalid_1's multi_logloss: 0.670269\n",
      "[626]\ttraining's multi_logloss: 0.348249\tvalid_1's multi_logloss: 0.670189\n",
      "[627]\ttraining's multi_logloss: 0.347903\tvalid_1's multi_logloss: 0.670118\n",
      "[628]\ttraining's multi_logloss: 0.347548\tvalid_1's multi_logloss: 0.670032\n",
      "[629]\ttraining's multi_logloss: 0.347192\tvalid_1's multi_logloss: 0.669969\n",
      "[630]\ttraining's multi_logloss: 0.346841\tvalid_1's multi_logloss: 0.669879\n",
      "[631]\ttraining's multi_logloss: 0.346472\tvalid_1's multi_logloss: 0.669795\n",
      "[632]\ttraining's multi_logloss: 0.346109\tvalid_1's multi_logloss: 0.669703\n",
      "[633]\ttraining's multi_logloss: 0.345765\tvalid_1's multi_logloss: 0.669631\n",
      "[634]\ttraining's multi_logloss: 0.34539\tvalid_1's multi_logloss: 0.669519\n",
      "[635]\ttraining's multi_logloss: 0.345041\tvalid_1's multi_logloss: 0.669442\n",
      "[636]\ttraining's multi_logloss: 0.344683\tvalid_1's multi_logloss: 0.669359\n",
      "[637]\ttraining's multi_logloss: 0.344329\tvalid_1's multi_logloss: 0.669289\n",
      "[638]\ttraining's multi_logloss: 0.343978\tvalid_1's multi_logloss: 0.669215\n",
      "[639]\ttraining's multi_logloss: 0.343641\tvalid_1's multi_logloss: 0.669133\n",
      "[640]\ttraining's multi_logloss: 0.343297\tvalid_1's multi_logloss: 0.669067\n",
      "[641]\ttraining's multi_logloss: 0.34294\tvalid_1's multi_logloss: 0.668975\n",
      "[642]\ttraining's multi_logloss: 0.3426\tvalid_1's multi_logloss: 0.66891\n",
      "[643]\ttraining's multi_logloss: 0.342236\tvalid_1's multi_logloss: 0.668819\n",
      "[644]\ttraining's multi_logloss: 0.341874\tvalid_1's multi_logloss: 0.668734\n",
      "[645]\ttraining's multi_logloss: 0.341517\tvalid_1's multi_logloss: 0.668672\n",
      "[646]\ttraining's multi_logloss: 0.341167\tvalid_1's multi_logloss: 0.66858\n",
      "[647]\ttraining's multi_logloss: 0.340829\tvalid_1's multi_logloss: 0.668507\n",
      "[648]\ttraining's multi_logloss: 0.340479\tvalid_1's multi_logloss: 0.668458\n",
      "[649]\ttraining's multi_logloss: 0.340133\tvalid_1's multi_logloss: 0.668396\n",
      "[650]\ttraining's multi_logloss: 0.339794\tvalid_1's multi_logloss: 0.668325\n",
      "[651]\ttraining's multi_logloss: 0.339442\tvalid_1's multi_logloss: 0.668232\n",
      "[652]\ttraining's multi_logloss: 0.339096\tvalid_1's multi_logloss: 0.668191\n",
      "[653]\ttraining's multi_logloss: 0.33875\tvalid_1's multi_logloss: 0.668077\n",
      "[654]\ttraining's multi_logloss: 0.338408\tvalid_1's multi_logloss: 0.668022\n",
      "[655]\ttraining's multi_logloss: 0.338069\tvalid_1's multi_logloss: 0.667931\n",
      "[656]\ttraining's multi_logloss: 0.337722\tvalid_1's multi_logloss: 0.667834\n",
      "[657]\ttraining's multi_logloss: 0.337379\tvalid_1's multi_logloss: 0.667744\n",
      "[658]\ttraining's multi_logloss: 0.337025\tvalid_1's multi_logloss: 0.667673\n",
      "[659]\ttraining's multi_logloss: 0.336681\tvalid_1's multi_logloss: 0.66757\n",
      "[660]\ttraining's multi_logloss: 0.336344\tvalid_1's multi_logloss: 0.667469\n",
      "[661]\ttraining's multi_logloss: 0.336001\tvalid_1's multi_logloss: 0.667418\n",
      "[662]\ttraining's multi_logloss: 0.335666\tvalid_1's multi_logloss: 0.667362\n",
      "[663]\ttraining's multi_logloss: 0.335324\tvalid_1's multi_logloss: 0.667285\n"
     ]
    },
    {
     "name": "stdout",
     "output_type": "stream",
     "text": [
      "[664]\ttraining's multi_logloss: 0.334978\tvalid_1's multi_logloss: 0.667212\n",
      "[665]\ttraining's multi_logloss: 0.334654\tvalid_1's multi_logloss: 0.667152\n",
      "[666]\ttraining's multi_logloss: 0.334322\tvalid_1's multi_logloss: 0.667101\n",
      "[667]\ttraining's multi_logloss: 0.333987\tvalid_1's multi_logloss: 0.66702\n",
      "[668]\ttraining's multi_logloss: 0.333652\tvalid_1's multi_logloss: 0.666955\n",
      "[669]\ttraining's multi_logloss: 0.333329\tvalid_1's multi_logloss: 0.666898\n",
      "[670]\ttraining's multi_logloss: 0.332998\tvalid_1's multi_logloss: 0.666819\n",
      "[671]\ttraining's multi_logloss: 0.332665\tvalid_1's multi_logloss: 0.666743\n",
      "[672]\ttraining's multi_logloss: 0.332334\tvalid_1's multi_logloss: 0.66668\n",
      "[673]\ttraining's multi_logloss: 0.331997\tvalid_1's multi_logloss: 0.666611\n",
      "[674]\ttraining's multi_logloss: 0.331676\tvalid_1's multi_logloss: 0.666544\n",
      "[675]\ttraining's multi_logloss: 0.331344\tvalid_1's multi_logloss: 0.666465\n",
      "[676]\ttraining's multi_logloss: 0.331006\tvalid_1's multi_logloss: 0.666406\n",
      "[677]\ttraining's multi_logloss: 0.33068\tvalid_1's multi_logloss: 0.666351\n",
      "[678]\ttraining's multi_logloss: 0.330341\tvalid_1's multi_logloss: 0.666282\n",
      "[679]\ttraining's multi_logloss: 0.330009\tvalid_1's multi_logloss: 0.666202\n",
      "[680]\ttraining's multi_logloss: 0.329677\tvalid_1's multi_logloss: 0.666142\n",
      "[681]\ttraining's multi_logloss: 0.329353\tvalid_1's multi_logloss: 0.666063\n",
      "[682]\ttraining's multi_logloss: 0.32904\tvalid_1's multi_logloss: 0.666015\n",
      "[683]\ttraining's multi_logloss: 0.328726\tvalid_1's multi_logloss: 0.665939\n",
      "[684]\ttraining's multi_logloss: 0.328396\tvalid_1's multi_logloss: 0.665857\n",
      "[685]\ttraining's multi_logloss: 0.328069\tvalid_1's multi_logloss: 0.665794\n",
      "[686]\ttraining's multi_logloss: 0.327755\tvalid_1's multi_logloss: 0.66574\n",
      "[687]\ttraining's multi_logloss: 0.327429\tvalid_1's multi_logloss: 0.665677\n",
      "[688]\ttraining's multi_logloss: 0.327108\tvalid_1's multi_logloss: 0.665611\n",
      "[689]\ttraining's multi_logloss: 0.326788\tvalid_1's multi_logloss: 0.665554\n",
      "[690]\ttraining's multi_logloss: 0.326453\tvalid_1's multi_logloss: 0.665499\n",
      "[691]\ttraining's multi_logloss: 0.326129\tvalid_1's multi_logloss: 0.665415\n",
      "[692]\ttraining's multi_logloss: 0.325816\tvalid_1's multi_logloss: 0.665334\n",
      "[693]\ttraining's multi_logloss: 0.325502\tvalid_1's multi_logloss: 0.665273\n",
      "[694]\ttraining's multi_logloss: 0.325194\tvalid_1's multi_logloss: 0.665216\n",
      "[695]\ttraining's multi_logloss: 0.324875\tvalid_1's multi_logloss: 0.665144\n",
      "[696]\ttraining's multi_logloss: 0.324553\tvalid_1's multi_logloss: 0.665065\n",
      "[697]\ttraining's multi_logloss: 0.324226\tvalid_1's multi_logloss: 0.665015\n",
      "[698]\ttraining's multi_logloss: 0.323907\tvalid_1's multi_logloss: 0.66496\n",
      "[699]\ttraining's multi_logloss: 0.32358\tvalid_1's multi_logloss: 0.664905\n",
      "[700]\ttraining's multi_logloss: 0.32326\tvalid_1's multi_logloss: 0.664864\n",
      "[701]\ttraining's multi_logloss: 0.322952\tvalid_1's multi_logloss: 0.664799\n",
      "[702]\ttraining's multi_logloss: 0.32262\tvalid_1's multi_logloss: 0.664739\n",
      "[703]\ttraining's multi_logloss: 0.32232\tvalid_1's multi_logloss: 0.664678\n",
      "[704]\ttraining's multi_logloss: 0.322014\tvalid_1's multi_logloss: 0.6646\n",
      "[705]\ttraining's multi_logloss: 0.321701\tvalid_1's multi_logloss: 0.664545\n",
      "[706]\ttraining's multi_logloss: 0.321387\tvalid_1's multi_logloss: 0.664485\n",
      "[707]\ttraining's multi_logloss: 0.321075\tvalid_1's multi_logloss: 0.664402\n",
      "[708]\ttraining's multi_logloss: 0.320773\tvalid_1's multi_logloss: 0.66434\n",
      "[709]\ttraining's multi_logloss: 0.320463\tvalid_1's multi_logloss: 0.664266\n",
      "[710]\ttraining's multi_logloss: 0.320148\tvalid_1's multi_logloss: 0.664214\n",
      "[711]\ttraining's multi_logloss: 0.319842\tvalid_1's multi_logloss: 0.664144\n",
      "[712]\ttraining's multi_logloss: 0.319527\tvalid_1's multi_logloss: 0.66408\n",
      "[713]\ttraining's multi_logloss: 0.31922\tvalid_1's multi_logloss: 0.66402\n",
      "[714]\ttraining's multi_logloss: 0.318911\tvalid_1's multi_logloss: 0.663994\n",
      "[715]\ttraining's multi_logloss: 0.318611\tvalid_1's multi_logloss: 0.663938\n",
      "[716]\ttraining's multi_logloss: 0.318303\tvalid_1's multi_logloss: 0.66387\n",
      "[717]\ttraining's multi_logloss: 0.318006\tvalid_1's multi_logloss: 0.663806\n",
      "[718]\ttraining's multi_logloss: 0.317698\tvalid_1's multi_logloss: 0.663737\n",
      "[719]\ttraining's multi_logloss: 0.317402\tvalid_1's multi_logloss: 0.663688\n",
      "[720]\ttraining's multi_logloss: 0.317104\tvalid_1's multi_logloss: 0.663604\n",
      "[721]\ttraining's multi_logloss: 0.316798\tvalid_1's multi_logloss: 0.663535\n",
      "[722]\ttraining's multi_logloss: 0.3165\tvalid_1's multi_logloss: 0.663462\n",
      "[723]\ttraining's multi_logloss: 0.316193\tvalid_1's multi_logloss: 0.663415\n",
      "[724]\ttraining's multi_logloss: 0.315888\tvalid_1's multi_logloss: 0.663366\n",
      "[725]\ttraining's multi_logloss: 0.315592\tvalid_1's multi_logloss: 0.663338\n",
      "[726]\ttraining's multi_logloss: 0.315297\tvalid_1's multi_logloss: 0.663272\n",
      "[727]\ttraining's multi_logloss: 0.314993\tvalid_1's multi_logloss: 0.663219\n",
      "[728]\ttraining's multi_logloss: 0.314695\tvalid_1's multi_logloss: 0.663165\n",
      "[729]\ttraining's multi_logloss: 0.314387\tvalid_1's multi_logloss: 0.663089\n",
      "[730]\ttraining's multi_logloss: 0.314088\tvalid_1's multi_logloss: 0.663027\n",
      "[731]\ttraining's multi_logloss: 0.313792\tvalid_1's multi_logloss: 0.662959\n",
      "[732]\ttraining's multi_logloss: 0.313494\tvalid_1's multi_logloss: 0.662914\n",
      "[733]\ttraining's multi_logloss: 0.313203\tvalid_1's multi_logloss: 0.662867\n",
      "[734]\ttraining's multi_logloss: 0.3129\tvalid_1's multi_logloss: 0.662817\n",
      "[735]\ttraining's multi_logloss: 0.312597\tvalid_1's multi_logloss: 0.662772\n",
      "[736]\ttraining's multi_logloss: 0.312297\tvalid_1's multi_logloss: 0.662724\n",
      "[737]\ttraining's multi_logloss: 0.311995\tvalid_1's multi_logloss: 0.662691\n",
      "[738]\ttraining's multi_logloss: 0.311702\tvalid_1's multi_logloss: 0.662646\n",
      "[739]\ttraining's multi_logloss: 0.311406\tvalid_1's multi_logloss: 0.662591\n",
      "[740]\ttraining's multi_logloss: 0.311117\tvalid_1's multi_logloss: 0.662516\n",
      "[741]\ttraining's multi_logloss: 0.310816\tvalid_1's multi_logloss: 0.662444\n",
      "[742]\ttraining's multi_logloss: 0.310513\tvalid_1's multi_logloss: 0.662389\n",
      "[743]\ttraining's multi_logloss: 0.310229\tvalid_1's multi_logloss: 0.662329\n",
      "[744]\ttraining's multi_logloss: 0.309932\tvalid_1's multi_logloss: 0.662282\n",
      "[745]\ttraining's multi_logloss: 0.30964\tvalid_1's multi_logloss: 0.662226\n",
      "[746]\ttraining's multi_logloss: 0.309346\tvalid_1's multi_logloss: 0.662176\n",
      "[747]\ttraining's multi_logloss: 0.309051\tvalid_1's multi_logloss: 0.662127\n",
      "[748]\ttraining's multi_logloss: 0.308761\tvalid_1's multi_logloss: 0.662096\n",
      "[749]\ttraining's multi_logloss: 0.308472\tvalid_1's multi_logloss: 0.662035\n",
      "[750]\ttraining's multi_logloss: 0.308192\tvalid_1's multi_logloss: 0.661984\n",
      "[751]\ttraining's multi_logloss: 0.307903\tvalid_1's multi_logloss: 0.661946\n",
      "[752]\ttraining's multi_logloss: 0.307621\tvalid_1's multi_logloss: 0.661888\n",
      "[753]\ttraining's multi_logloss: 0.307331\tvalid_1's multi_logloss: 0.661823\n",
      "[754]\ttraining's multi_logloss: 0.307041\tvalid_1's multi_logloss: 0.661753\n",
      "[755]\ttraining's multi_logloss: 0.30676\tvalid_1's multi_logloss: 0.661699\n",
      "[756]\ttraining's multi_logloss: 0.306476\tvalid_1's multi_logloss: 0.661659\n",
      "[757]\ttraining's multi_logloss: 0.30619\tvalid_1's multi_logloss: 0.661618\n",
      "[758]\ttraining's multi_logloss: 0.305908\tvalid_1's multi_logloss: 0.661559\n",
      "[759]\ttraining's multi_logloss: 0.305625\tvalid_1's multi_logloss: 0.661505\n",
      "[760]\ttraining's multi_logloss: 0.305346\tvalid_1's multi_logloss: 0.661437\n",
      "[761]\ttraining's multi_logloss: 0.305065\tvalid_1's multi_logloss: 0.661374\n",
      "[762]\ttraining's multi_logloss: 0.304779\tvalid_1's multi_logloss: 0.661335\n",
      "[763]\ttraining's multi_logloss: 0.304504\tvalid_1's multi_logloss: 0.66128\n",
      "[764]\ttraining's multi_logloss: 0.304232\tvalid_1's multi_logloss: 0.661235\n",
      "[765]\ttraining's multi_logloss: 0.303923\tvalid_1's multi_logloss: 0.661172\n",
      "[766]\ttraining's multi_logloss: 0.303649\tvalid_1's multi_logloss: 0.661127\n",
      "[767]\ttraining's multi_logloss: 0.303361\tvalid_1's multi_logloss: 0.661079\n",
      "[768]\ttraining's multi_logloss: 0.303088\tvalid_1's multi_logloss: 0.661032\n",
      "[769]\ttraining's multi_logloss: 0.302815\tvalid_1's multi_logloss: 0.660974\n",
      "[770]\ttraining's multi_logloss: 0.302539\tvalid_1's multi_logloss: 0.660938\n",
      "[771]\ttraining's multi_logloss: 0.302258\tvalid_1's multi_logloss: 0.660906\n",
      "[772]\ttraining's multi_logloss: 0.301985\tvalid_1's multi_logloss: 0.660878\n",
      "[773]\ttraining's multi_logloss: 0.301707\tvalid_1's multi_logloss: 0.660846\n"
     ]
    },
    {
     "name": "stdout",
     "output_type": "stream",
     "text": [
      "[774]\ttraining's multi_logloss: 0.301435\tvalid_1's multi_logloss: 0.660823\n",
      "[775]\ttraining's multi_logloss: 0.301162\tvalid_1's multi_logloss: 0.660796\n",
      "[776]\ttraining's multi_logloss: 0.300876\tvalid_1's multi_logloss: 0.66077\n",
      "[777]\ttraining's multi_logloss: 0.300605\tvalid_1's multi_logloss: 0.660724\n",
      "[778]\ttraining's multi_logloss: 0.300324\tvalid_1's multi_logloss: 0.6607\n",
      "[779]\ttraining's multi_logloss: 0.300062\tvalid_1's multi_logloss: 0.660666\n",
      "[780]\ttraining's multi_logloss: 0.299777\tvalid_1's multi_logloss: 0.660628\n",
      "[781]\ttraining's multi_logloss: 0.299501\tvalid_1's multi_logloss: 0.66058\n",
      "[782]\ttraining's multi_logloss: 0.299225\tvalid_1's multi_logloss: 0.66053\n",
      "[783]\ttraining's multi_logloss: 0.298953\tvalid_1's multi_logloss: 0.660468\n",
      "[784]\ttraining's multi_logloss: 0.298685\tvalid_1's multi_logloss: 0.660437\n",
      "[785]\ttraining's multi_logloss: 0.298411\tvalid_1's multi_logloss: 0.66038\n",
      "[786]\ttraining's multi_logloss: 0.298147\tvalid_1's multi_logloss: 0.660331\n",
      "[787]\ttraining's multi_logloss: 0.297877\tvalid_1's multi_logloss: 0.660282\n",
      "[788]\ttraining's multi_logloss: 0.297612\tvalid_1's multi_logloss: 0.660257\n",
      "[789]\ttraining's multi_logloss: 0.297341\tvalid_1's multi_logloss: 0.660211\n",
      "[790]\ttraining's multi_logloss: 0.297062\tvalid_1's multi_logloss: 0.66015\n",
      "[791]\ttraining's multi_logloss: 0.296783\tvalid_1's multi_logloss: 0.660114\n",
      "[792]\ttraining's multi_logloss: 0.296507\tvalid_1's multi_logloss: 0.66009\n",
      "[793]\ttraining's multi_logloss: 0.296242\tvalid_1's multi_logloss: 0.660073\n",
      "[794]\ttraining's multi_logloss: 0.295982\tvalid_1's multi_logloss: 0.660029\n",
      "[795]\ttraining's multi_logloss: 0.295714\tvalid_1's multi_logloss: 0.659995\n",
      "[796]\ttraining's multi_logloss: 0.29545\tvalid_1's multi_logloss: 0.659964\n",
      "[797]\ttraining's multi_logloss: 0.295187\tvalid_1's multi_logloss: 0.659922\n",
      "[798]\ttraining's multi_logloss: 0.294925\tvalid_1's multi_logloss: 0.659895\n",
      "[799]\ttraining's multi_logloss: 0.294648\tvalid_1's multi_logloss: 0.659855\n",
      "[800]\ttraining's multi_logloss: 0.294387\tvalid_1's multi_logloss: 0.659804\n",
      "[801]\ttraining's multi_logloss: 0.294123\tvalid_1's multi_logloss: 0.659765\n",
      "[802]\ttraining's multi_logloss: 0.293857\tvalid_1's multi_logloss: 0.659716\n",
      "[803]\ttraining's multi_logloss: 0.293595\tvalid_1's multi_logloss: 0.659698\n",
      "[804]\ttraining's multi_logloss: 0.293315\tvalid_1's multi_logloss: 0.659649\n",
      "[805]\ttraining's multi_logloss: 0.293058\tvalid_1's multi_logloss: 0.659587\n",
      "[806]\ttraining's multi_logloss: 0.292796\tvalid_1's multi_logloss: 0.659539\n",
      "[807]\ttraining's multi_logloss: 0.292536\tvalid_1's multi_logloss: 0.659514\n",
      "[808]\ttraining's multi_logloss: 0.292267\tvalid_1's multi_logloss: 0.659466\n",
      "[809]\ttraining's multi_logloss: 0.292002\tvalid_1's multi_logloss: 0.659434\n",
      "[810]\ttraining's multi_logloss: 0.291732\tvalid_1's multi_logloss: 0.659372\n",
      "[811]\ttraining's multi_logloss: 0.291465\tvalid_1's multi_logloss: 0.659327\n",
      "[812]\ttraining's multi_logloss: 0.291202\tvalid_1's multi_logloss: 0.659275\n",
      "[813]\ttraining's multi_logloss: 0.290954\tvalid_1's multi_logloss: 0.659256\n",
      "[814]\ttraining's multi_logloss: 0.290705\tvalid_1's multi_logloss: 0.659224\n",
      "[815]\ttraining's multi_logloss: 0.290449\tvalid_1's multi_logloss: 0.659185\n",
      "[816]\ttraining's multi_logloss: 0.290188\tvalid_1's multi_logloss: 0.659144\n",
      "[817]\ttraining's multi_logloss: 0.289929\tvalid_1's multi_logloss: 0.659124\n",
      "[818]\ttraining's multi_logloss: 0.289677\tvalid_1's multi_logloss: 0.659097\n",
      "[819]\ttraining's multi_logloss: 0.289421\tvalid_1's multi_logloss: 0.659052\n",
      "[820]\ttraining's multi_logloss: 0.28917\tvalid_1's multi_logloss: 0.659023\n",
      "[821]\ttraining's multi_logloss: 0.288921\tvalid_1's multi_logloss: 0.658996\n",
      "[822]\ttraining's multi_logloss: 0.288665\tvalid_1's multi_logloss: 0.658973\n",
      "[823]\ttraining's multi_logloss: 0.288405\tvalid_1's multi_logloss: 0.658933\n",
      "[824]\ttraining's multi_logloss: 0.288146\tvalid_1's multi_logloss: 0.658894\n",
      "[825]\ttraining's multi_logloss: 0.287893\tvalid_1's multi_logloss: 0.658878\n",
      "[826]\ttraining's multi_logloss: 0.287639\tvalid_1's multi_logloss: 0.658853\n",
      "[827]\ttraining's multi_logloss: 0.287391\tvalid_1's multi_logloss: 0.658804\n",
      "[828]\ttraining's multi_logloss: 0.287138\tvalid_1's multi_logloss: 0.658766\n",
      "[829]\ttraining's multi_logloss: 0.286878\tvalid_1's multi_logloss: 0.658727\n",
      "[830]\ttraining's multi_logloss: 0.28663\tvalid_1's multi_logloss: 0.6587\n",
      "[831]\ttraining's multi_logloss: 0.286369\tvalid_1's multi_logloss: 0.658659\n",
      "[832]\ttraining's multi_logloss: 0.286111\tvalid_1's multi_logloss: 0.658648\n",
      "[833]\ttraining's multi_logloss: 0.285857\tvalid_1's multi_logloss: 0.6586\n",
      "[834]\ttraining's multi_logloss: 0.285609\tvalid_1's multi_logloss: 0.65858\n",
      "[835]\ttraining's multi_logloss: 0.285357\tvalid_1's multi_logloss: 0.658536\n",
      "[836]\ttraining's multi_logloss: 0.285103\tvalid_1's multi_logloss: 0.658507\n",
      "[837]\ttraining's multi_logloss: 0.284852\tvalid_1's multi_logloss: 0.658481\n",
      "[838]\ttraining's multi_logloss: 0.284597\tvalid_1's multi_logloss: 0.658448\n",
      "[839]\ttraining's multi_logloss: 0.284345\tvalid_1's multi_logloss: 0.658397\n",
      "[840]\ttraining's multi_logloss: 0.284104\tvalid_1's multi_logloss: 0.658373\n",
      "[841]\ttraining's multi_logloss: 0.283866\tvalid_1's multi_logloss: 0.658362\n",
      "[842]\ttraining's multi_logloss: 0.283618\tvalid_1's multi_logloss: 0.658318\n",
      "[843]\ttraining's multi_logloss: 0.283363\tvalid_1's multi_logloss: 0.658268\n",
      "[844]\ttraining's multi_logloss: 0.283114\tvalid_1's multi_logloss: 0.658224\n",
      "[845]\ttraining's multi_logloss: 0.282874\tvalid_1's multi_logloss: 0.658197\n",
      "[846]\ttraining's multi_logloss: 0.282613\tvalid_1's multi_logloss: 0.658175\n",
      "[847]\ttraining's multi_logloss: 0.282358\tvalid_1's multi_logloss: 0.658139\n",
      "[848]\ttraining's multi_logloss: 0.282111\tvalid_1's multi_logloss: 0.658073\n",
      "[849]\ttraining's multi_logloss: 0.281873\tvalid_1's multi_logloss: 0.658068\n",
      "[850]\ttraining's multi_logloss: 0.281632\tvalid_1's multi_logloss: 0.658069\n",
      "[851]\ttraining's multi_logloss: 0.281386\tvalid_1's multi_logloss: 0.658029\n",
      "[852]\ttraining's multi_logloss: 0.28114\tvalid_1's multi_logloss: 0.657974\n",
      "[853]\ttraining's multi_logloss: 0.280893\tvalid_1's multi_logloss: 0.65794\n",
      "[854]\ttraining's multi_logloss: 0.28065\tvalid_1's multi_logloss: 0.657915\n",
      "[855]\ttraining's multi_logloss: 0.280402\tvalid_1's multi_logloss: 0.657905\n",
      "[856]\ttraining's multi_logloss: 0.280156\tvalid_1's multi_logloss: 0.657892\n",
      "[857]\ttraining's multi_logloss: 0.279916\tvalid_1's multi_logloss: 0.657857\n",
      "[858]\ttraining's multi_logloss: 0.279669\tvalid_1's multi_logloss: 0.657846\n",
      "[859]\ttraining's multi_logloss: 0.279432\tvalid_1's multi_logloss: 0.657818\n",
      "[860]\ttraining's multi_logloss: 0.279195\tvalid_1's multi_logloss: 0.657787\n",
      "[861]\ttraining's multi_logloss: 0.278956\tvalid_1's multi_logloss: 0.657757\n",
      "[862]\ttraining's multi_logloss: 0.278712\tvalid_1's multi_logloss: 0.657734\n",
      "[863]\ttraining's multi_logloss: 0.278474\tvalid_1's multi_logloss: 0.657707\n",
      "[864]\ttraining's multi_logloss: 0.278236\tvalid_1's multi_logloss: 0.657687\n",
      "[865]\ttraining's multi_logloss: 0.278\tvalid_1's multi_logloss: 0.657658\n",
      "[866]\ttraining's multi_logloss: 0.277742\tvalid_1's multi_logloss: 0.657618\n",
      "[867]\ttraining's multi_logloss: 0.277507\tvalid_1's multi_logloss: 0.657576\n",
      "[868]\ttraining's multi_logloss: 0.277269\tvalid_1's multi_logloss: 0.657556\n",
      "[869]\ttraining's multi_logloss: 0.277028\tvalid_1's multi_logloss: 0.657527\n",
      "[870]\ttraining's multi_logloss: 0.276785\tvalid_1's multi_logloss: 0.657504\n",
      "[871]\ttraining's multi_logloss: 0.276545\tvalid_1's multi_logloss: 0.657475\n",
      "[872]\ttraining's multi_logloss: 0.276309\tvalid_1's multi_logloss: 0.657463\n",
      "[873]\ttraining's multi_logloss: 0.27607\tvalid_1's multi_logloss: 0.657432\n",
      "[874]\ttraining's multi_logloss: 0.275827\tvalid_1's multi_logloss: 0.6574\n",
      "[875]\ttraining's multi_logloss: 0.275594\tvalid_1's multi_logloss: 0.657364\n",
      "[876]\ttraining's multi_logloss: 0.275357\tvalid_1's multi_logloss: 0.657348\n",
      "[877]\ttraining's multi_logloss: 0.275113\tvalid_1's multi_logloss: 0.657327\n",
      "[878]\ttraining's multi_logloss: 0.274875\tvalid_1's multi_logloss: 0.657304\n",
      "[879]\ttraining's multi_logloss: 0.274647\tvalid_1's multi_logloss: 0.657287\n",
      "[880]\ttraining's multi_logloss: 0.274418\tvalid_1's multi_logloss: 0.657265\n",
      "[881]\ttraining's multi_logloss: 0.274186\tvalid_1's multi_logloss: 0.657228\n",
      "[882]\ttraining's multi_logloss: 0.273953\tvalid_1's multi_logloss: 0.657226\n",
      "[883]\ttraining's multi_logloss: 0.273707\tvalid_1's multi_logloss: 0.657191\n"
     ]
    },
    {
     "name": "stdout",
     "output_type": "stream",
     "text": [
      "[884]\ttraining's multi_logloss: 0.273467\tvalid_1's multi_logloss: 0.657168\n",
      "[885]\ttraining's multi_logloss: 0.273228\tvalid_1's multi_logloss: 0.657154\n",
      "[886]\ttraining's multi_logloss: 0.272995\tvalid_1's multi_logloss: 0.657124\n",
      "[887]\ttraining's multi_logloss: 0.272761\tvalid_1's multi_logloss: 0.657112\n",
      "[888]\ttraining's multi_logloss: 0.272519\tvalid_1's multi_logloss: 0.657076\n",
      "[889]\ttraining's multi_logloss: 0.27229\tvalid_1's multi_logloss: 0.657041\n",
      "[890]\ttraining's multi_logloss: 0.272048\tvalid_1's multi_logloss: 0.657009\n",
      "[891]\ttraining's multi_logloss: 0.271814\tvalid_1's multi_logloss: 0.656984\n",
      "[892]\ttraining's multi_logloss: 0.271584\tvalid_1's multi_logloss: 0.656965\n",
      "[893]\ttraining's multi_logloss: 0.271347\tvalid_1's multi_logloss: 0.656932\n",
      "[894]\ttraining's multi_logloss: 0.271097\tvalid_1's multi_logloss: 0.6569\n",
      "[895]\ttraining's multi_logloss: 0.270867\tvalid_1's multi_logloss: 0.656875\n",
      "[896]\ttraining's multi_logloss: 0.270636\tvalid_1's multi_logloss: 0.656855\n",
      "[897]\ttraining's multi_logloss: 0.270408\tvalid_1's multi_logloss: 0.656839\n",
      "[898]\ttraining's multi_logloss: 0.270185\tvalid_1's multi_logloss: 0.656805\n",
      "[899]\ttraining's multi_logloss: 0.269967\tvalid_1's multi_logloss: 0.656798\n",
      "[900]\ttraining's multi_logloss: 0.269738\tvalid_1's multi_logloss: 0.656794\n",
      "[901]\ttraining's multi_logloss: 0.269511\tvalid_1's multi_logloss: 0.65678\n",
      "[902]\ttraining's multi_logloss: 0.269285\tvalid_1's multi_logloss: 0.656761\n",
      "[903]\ttraining's multi_logloss: 0.269062\tvalid_1's multi_logloss: 0.656734\n",
      "[904]\ttraining's multi_logloss: 0.268843\tvalid_1's multi_logloss: 0.656687\n",
      "[905]\ttraining's multi_logloss: 0.268614\tvalid_1's multi_logloss: 0.656679\n",
      "[906]\ttraining's multi_logloss: 0.26839\tvalid_1's multi_logloss: 0.656677\n",
      "[907]\ttraining's multi_logloss: 0.268163\tvalid_1's multi_logloss: 0.656639\n",
      "[908]\ttraining's multi_logloss: 0.267935\tvalid_1's multi_logloss: 0.65663\n",
      "[909]\ttraining's multi_logloss: 0.267715\tvalid_1's multi_logloss: 0.656627\n",
      "[910]\ttraining's multi_logloss: 0.267487\tvalid_1's multi_logloss: 0.65659\n",
      "[911]\ttraining's multi_logloss: 0.267258\tvalid_1's multi_logloss: 0.656561\n",
      "[912]\ttraining's multi_logloss: 0.267042\tvalid_1's multi_logloss: 0.656558\n",
      "[913]\ttraining's multi_logloss: 0.266814\tvalid_1's multi_logloss: 0.656536\n",
      "[914]\ttraining's multi_logloss: 0.266584\tvalid_1's multi_logloss: 0.656517\n",
      "[915]\ttraining's multi_logloss: 0.26636\tvalid_1's multi_logloss: 0.65651\n",
      "[916]\ttraining's multi_logloss: 0.266142\tvalid_1's multi_logloss: 0.65649\n",
      "[917]\ttraining's multi_logloss: 0.26591\tvalid_1's multi_logloss: 0.65646\n",
      "[918]\ttraining's multi_logloss: 0.26568\tvalid_1's multi_logloss: 0.656457\n",
      "[919]\ttraining's multi_logloss: 0.265459\tvalid_1's multi_logloss: 0.656433\n",
      "[920]\ttraining's multi_logloss: 0.265236\tvalid_1's multi_logloss: 0.65639\n",
      "[921]\ttraining's multi_logloss: 0.265007\tvalid_1's multi_logloss: 0.656363\n",
      "[922]\ttraining's multi_logloss: 0.264784\tvalid_1's multi_logloss: 0.656353\n",
      "[923]\ttraining's multi_logloss: 0.264559\tvalid_1's multi_logloss: 0.656333\n",
      "[924]\ttraining's multi_logloss: 0.264336\tvalid_1's multi_logloss: 0.656317\n",
      "[925]\ttraining's multi_logloss: 0.264118\tvalid_1's multi_logloss: 0.656309\n",
      "[926]\ttraining's multi_logloss: 0.263899\tvalid_1's multi_logloss: 0.656295\n",
      "[927]\ttraining's multi_logloss: 0.263684\tvalid_1's multi_logloss: 0.656274\n",
      "[928]\ttraining's multi_logloss: 0.263464\tvalid_1's multi_logloss: 0.656274\n",
      "[929]\ttraining's multi_logloss: 0.263244\tvalid_1's multi_logloss: 0.656238\n",
      "[930]\ttraining's multi_logloss: 0.263022\tvalid_1's multi_logloss: 0.656221\n",
      "[931]\ttraining's multi_logloss: 0.2628\tvalid_1's multi_logloss: 0.656226\n",
      "[932]\ttraining's multi_logloss: 0.262585\tvalid_1's multi_logloss: 0.656208\n",
      "[933]\ttraining's multi_logloss: 0.262369\tvalid_1's multi_logloss: 0.656197\n",
      "[934]\ttraining's multi_logloss: 0.262157\tvalid_1's multi_logloss: 0.656166\n",
      "[935]\ttraining's multi_logloss: 0.261938\tvalid_1's multi_logloss: 0.656122\n",
      "[936]\ttraining's multi_logloss: 0.261717\tvalid_1's multi_logloss: 0.656113\n",
      "[937]\ttraining's multi_logloss: 0.261499\tvalid_1's multi_logloss: 0.656106\n",
      "[938]\ttraining's multi_logloss: 0.261285\tvalid_1's multi_logloss: 0.656086\n",
      "[939]\ttraining's multi_logloss: 0.261063\tvalid_1's multi_logloss: 0.656052\n",
      "[940]\ttraining's multi_logloss: 0.260851\tvalid_1's multi_logloss: 0.656049\n",
      "[941]\ttraining's multi_logloss: 0.260626\tvalid_1's multi_logloss: 0.656027\n",
      "[942]\ttraining's multi_logloss: 0.260406\tvalid_1's multi_logloss: 0.655991\n",
      "[943]\ttraining's multi_logloss: 0.26019\tvalid_1's multi_logloss: 0.655995\n",
      "[944]\ttraining's multi_logloss: 0.259986\tvalid_1's multi_logloss: 0.655983\n",
      "[945]\ttraining's multi_logloss: 0.259762\tvalid_1's multi_logloss: 0.65595\n",
      "[946]\ttraining's multi_logloss: 0.259548\tvalid_1's multi_logloss: 0.655934\n",
      "[947]\ttraining's multi_logloss: 0.259331\tvalid_1's multi_logloss: 0.655906\n",
      "[948]\ttraining's multi_logloss: 0.259116\tvalid_1's multi_logloss: 0.655907\n",
      "[949]\ttraining's multi_logloss: 0.258904\tvalid_1's multi_logloss: 0.655911\n",
      "[950]\ttraining's multi_logloss: 0.258681\tvalid_1's multi_logloss: 0.655907\n",
      "[951]\ttraining's multi_logloss: 0.25847\tvalid_1's multi_logloss: 0.655887\n",
      "[952]\ttraining's multi_logloss: 0.258252\tvalid_1's multi_logloss: 0.655867\n",
      "[953]\ttraining's multi_logloss: 0.258038\tvalid_1's multi_logloss: 0.655863\n",
      "[954]\ttraining's multi_logloss: 0.257832\tvalid_1's multi_logloss: 0.65585\n",
      "[955]\ttraining's multi_logloss: 0.257624\tvalid_1's multi_logloss: 0.655824\n",
      "[956]\ttraining's multi_logloss: 0.257409\tvalid_1's multi_logloss: 0.655826\n",
      "[957]\ttraining's multi_logloss: 0.257194\tvalid_1's multi_logloss: 0.655782\n",
      "[958]\ttraining's multi_logloss: 0.256982\tvalid_1's multi_logloss: 0.655742\n",
      "[959]\ttraining's multi_logloss: 0.256767\tvalid_1's multi_logloss: 0.655736\n",
      "[960]\ttraining's multi_logloss: 0.256553\tvalid_1's multi_logloss: 0.655711\n",
      "[961]\ttraining's multi_logloss: 0.256346\tvalid_1's multi_logloss: 0.655696\n",
      "[962]\ttraining's multi_logloss: 0.256136\tvalid_1's multi_logloss: 0.655677\n",
      "[963]\ttraining's multi_logloss: 0.255927\tvalid_1's multi_logloss: 0.655671\n",
      "[964]\ttraining's multi_logloss: 0.255716\tvalid_1's multi_logloss: 0.655643\n",
      "[965]\ttraining's multi_logloss: 0.255485\tvalid_1's multi_logloss: 0.655596\n",
      "[966]\ttraining's multi_logloss: 0.255281\tvalid_1's multi_logloss: 0.6556\n",
      "[967]\ttraining's multi_logloss: 0.25507\tvalid_1's multi_logloss: 0.655589\n",
      "[968]\ttraining's multi_logloss: 0.254862\tvalid_1's multi_logloss: 0.655565\n",
      "[969]\ttraining's multi_logloss: 0.25465\tvalid_1's multi_logloss: 0.655542\n",
      "[970]\ttraining's multi_logloss: 0.254449\tvalid_1's multi_logloss: 0.655559\n",
      "[971]\ttraining's multi_logloss: 0.254239\tvalid_1's multi_logloss: 0.655549\n",
      "[972]\ttraining's multi_logloss: 0.254026\tvalid_1's multi_logloss: 0.655517\n",
      "[973]\ttraining's multi_logloss: 0.253824\tvalid_1's multi_logloss: 0.655511\n",
      "[974]\ttraining's multi_logloss: 0.253617\tvalid_1's multi_logloss: 0.655512\n",
      "[975]\ttraining's multi_logloss: 0.25341\tvalid_1's multi_logloss: 0.655497\n",
      "[976]\ttraining's multi_logloss: 0.253209\tvalid_1's multi_logloss: 0.655524\n",
      "[977]\ttraining's multi_logloss: 0.253001\tvalid_1's multi_logloss: 0.655497\n",
      "[978]\ttraining's multi_logloss: 0.252782\tvalid_1's multi_logloss: 0.655482\n",
      "[979]\ttraining's multi_logloss: 0.252579\tvalid_1's multi_logloss: 0.655443\n",
      "[980]\ttraining's multi_logloss: 0.252378\tvalid_1's multi_logloss: 0.655437\n",
      "[981]\ttraining's multi_logloss: 0.252179\tvalid_1's multi_logloss: 0.655447\n",
      "[982]\ttraining's multi_logloss: 0.251973\tvalid_1's multi_logloss: 0.655429\n",
      "[983]\ttraining's multi_logloss: 0.25176\tvalid_1's multi_logloss: 0.65542\n",
      "[984]\ttraining's multi_logloss: 0.251554\tvalid_1's multi_logloss: 0.655413\n",
      "[985]\ttraining's multi_logloss: 0.25135\tvalid_1's multi_logloss: 0.655384\n",
      "[986]\ttraining's multi_logloss: 0.251145\tvalid_1's multi_logloss: 0.655378\n",
      "[987]\ttraining's multi_logloss: 0.250933\tvalid_1's multi_logloss: 0.655353\n",
      "[988]\ttraining's multi_logloss: 0.250721\tvalid_1's multi_logloss: 0.655341\n",
      "[989]\ttraining's multi_logloss: 0.250524\tvalid_1's multi_logloss: 0.655327\n",
      "[990]\ttraining's multi_logloss: 0.250319\tvalid_1's multi_logloss: 0.655334\n",
      "[991]\ttraining's multi_logloss: 0.25012\tvalid_1's multi_logloss: 0.655345\n",
      "[992]\ttraining's multi_logloss: 0.249912\tvalid_1's multi_logloss: 0.655325\n",
      "[993]\ttraining's multi_logloss: 0.249713\tvalid_1's multi_logloss: 0.655334\n"
     ]
    },
    {
     "name": "stdout",
     "output_type": "stream",
     "text": [
      "[994]\ttraining's multi_logloss: 0.249501\tvalid_1's multi_logloss: 0.655323\n",
      "[995]\ttraining's multi_logloss: 0.249302\tvalid_1's multi_logloss: 0.655307\n",
      "[996]\ttraining's multi_logloss: 0.249103\tvalid_1's multi_logloss: 0.655309\n",
      "[997]\ttraining's multi_logloss: 0.248904\tvalid_1's multi_logloss: 0.655303\n",
      "[998]\ttraining's multi_logloss: 0.248708\tvalid_1's multi_logloss: 0.65529\n",
      "[999]\ttraining's multi_logloss: 0.248505\tvalid_1's multi_logloss: 0.655263\n",
      "[1000]\ttraining's multi_logloss: 0.248307\tvalid_1's multi_logloss: 0.655263\n",
      "[1001]\ttraining's multi_logloss: 0.248109\tvalid_1's multi_logloss: 0.655265\n",
      "[1002]\ttraining's multi_logloss: 0.247907\tvalid_1's multi_logloss: 0.65527\n",
      "[1003]\ttraining's multi_logloss: 0.247707\tvalid_1's multi_logloss: 0.655267\n",
      "[1004]\ttraining's multi_logloss: 0.247512\tvalid_1's multi_logloss: 0.655245\n",
      "[1005]\ttraining's multi_logloss: 0.247307\tvalid_1's multi_logloss: 0.655242\n",
      "[1006]\ttraining's multi_logloss: 0.247106\tvalid_1's multi_logloss: 0.655222\n",
      "[1007]\ttraining's multi_logloss: 0.246907\tvalid_1's multi_logloss: 0.655212\n",
      "[1008]\ttraining's multi_logloss: 0.2467\tvalid_1's multi_logloss: 0.655204\n",
      "[1009]\ttraining's multi_logloss: 0.246503\tvalid_1's multi_logloss: 0.655188\n",
      "[1010]\ttraining's multi_logloss: 0.246301\tvalid_1's multi_logloss: 0.655167\n",
      "[1011]\ttraining's multi_logloss: 0.246106\tvalid_1's multi_logloss: 0.65518\n",
      "[1012]\ttraining's multi_logloss: 0.245909\tvalid_1's multi_logloss: 0.655161\n",
      "[1013]\ttraining's multi_logloss: 0.245709\tvalid_1's multi_logloss: 0.655164\n",
      "[1014]\ttraining's multi_logloss: 0.245504\tvalid_1's multi_logloss: 0.655167\n",
      "[1015]\ttraining's multi_logloss: 0.245311\tvalid_1's multi_logloss: 0.655159\n",
      "[1016]\ttraining's multi_logloss: 0.245116\tvalid_1's multi_logloss: 0.655122\n",
      "[1017]\ttraining's multi_logloss: 0.244921\tvalid_1's multi_logloss: 0.655107\n",
      "[1018]\ttraining's multi_logloss: 0.244716\tvalid_1's multi_logloss: 0.655115\n",
      "[1019]\ttraining's multi_logloss: 0.244527\tvalid_1's multi_logloss: 0.655113\n",
      "[1020]\ttraining's multi_logloss: 0.244329\tvalid_1's multi_logloss: 0.655104\n",
      "[1021]\ttraining's multi_logloss: 0.244134\tvalid_1's multi_logloss: 0.655085\n",
      "[1022]\ttraining's multi_logloss: 0.243942\tvalid_1's multi_logloss: 0.655085\n",
      "[1023]\ttraining's multi_logloss: 0.243745\tvalid_1's multi_logloss: 0.655093\n",
      "[1024]\ttraining's multi_logloss: 0.243553\tvalid_1's multi_logloss: 0.655101\n",
      "[1025]\ttraining's multi_logloss: 0.243359\tvalid_1's multi_logloss: 0.655083\n",
      "[1026]\ttraining's multi_logloss: 0.243172\tvalid_1's multi_logloss: 0.655074\n",
      "[1027]\ttraining's multi_logloss: 0.242976\tvalid_1's multi_logloss: 0.655075\n",
      "[1028]\ttraining's multi_logloss: 0.242786\tvalid_1's multi_logloss: 0.65508\n",
      "[1029]\ttraining's multi_logloss: 0.242597\tvalid_1's multi_logloss: 0.655094\n",
      "[1030]\ttraining's multi_logloss: 0.2424\tvalid_1's multi_logloss: 0.655091\n",
      "[1031]\ttraining's multi_logloss: 0.2422\tvalid_1's multi_logloss: 0.655079\n",
      "[1032]\ttraining's multi_logloss: 0.242005\tvalid_1's multi_logloss: 0.655081\n",
      "[1033]\ttraining's multi_logloss: 0.241804\tvalid_1's multi_logloss: 0.655087\n",
      "[1034]\ttraining's multi_logloss: 0.241612\tvalid_1's multi_logloss: 0.655094\n",
      "[1035]\ttraining's multi_logloss: 0.241419\tvalid_1's multi_logloss: 0.65508\n",
      "[1036]\ttraining's multi_logloss: 0.241222\tvalid_1's multi_logloss: 0.655086\n",
      "Early stopping, best iteration is:\n",
      "[1026]\ttraining's multi_logloss: 0.243172\tvalid_1's multi_logloss: 0.655074\n"
     ]
    }
   ],
   "source": [
    "lightgbm_model = lightgbm.train(params=params,\n",
    "                                train_set=dtrain,\n",
    "                                valid_sets=[dtrain, dtest],\n",
    "                                num_boost_round=num_boost_round,\n",
    "                                early_stopping_rounds=10)"
   ]
  },
  {
   "cell_type": "code",
   "execution_count": 63,
   "metadata": {},
   "outputs": [],
   "source": [
    "y_pred_proba = lightgbm_model.predict(X_test)"
   ]
  },
  {
   "cell_type": "code",
   "execution_count": 64,
   "metadata": {
    "slideshow": {
     "slide_type": "fragment"
    }
   },
   "outputs": [],
   "source": [
    "y_pred = [np.argmax(line) for line in y_pred_proba]"
   ]
  },
  {
   "cell_type": "code",
   "execution_count": 65,
   "metadata": {
    "slideshow": {
     "slide_type": "fragment"
    }
   },
   "outputs": [
    {
     "name": "stdout",
     "output_type": "stream",
     "text": [
      "TripType Accuracy = 77.37%\n"
     ]
    }
   ],
   "source": [
    "accuracy = 100 * (1 - (sum(int(y_pred[i]) != y_test[i]\n",
    "                           for i in range(len(y_test))) / float(len(y_test))))\n",
    "print(\"TripType Accuracy = %.2f%%\" % accuracy)"
   ]
  },
  {
   "cell_type": "code",
   "execution_count": 66,
   "metadata": {
    "scrolled": false,
    "slideshow": {
     "slide_type": "slide"
    }
   },
   "outputs": [
    {
     "name": "stdout",
     "output_type": "stream",
     "text": [
      "              precision    recall  f1-score   support\n",
      "\n",
      "           3       0.94      0.98      0.96       931\n",
      "           4       0.81      0.67      0.73        87\n",
      "           5       0.85      0.87      0.86      1167\n",
      "           6       0.82      0.85      0.84       309\n",
      "           7       0.79      0.80      0.80      1494\n",
      "           8       0.88      0.90      0.89      3017\n",
      "           9       0.78      0.86      0.82      2307\n",
      "          12       0.64      0.37      0.47        62\n",
      "          14       0.00      0.00      0.00         2\n",
      "          15       0.63      0.59      0.61       237\n",
      "          18       0.59      0.50      0.54       131\n",
      "          19       0.73      0.64      0.68        80\n",
      "          20       0.76      0.63      0.69       173\n",
      "          21       0.72      0.66      0.69       158\n",
      "          22       0.67      0.70      0.68       207\n",
      "          23       0.75      0.63      0.68        43\n",
      "          24       0.71      0.70      0.71       652\n",
      "          25       0.74      0.82      0.78       945\n",
      "          26       0.72      0.49      0.58       144\n",
      "          27       0.67      0.67      0.67       193\n",
      "          28       0.77      0.65      0.70       135\n",
      "          29       0.76      0.55      0.64        98\n",
      "          30       0.65      0.58      0.61       265\n",
      "          31       0.84      0.82      0.83       153\n",
      "          32       0.76      0.82      0.79       485\n",
      "          33       0.69      0.59      0.64       318\n",
      "          34       0.72      0.61      0.66       188\n",
      "          35       0.72      0.65      0.68       510\n",
      "          36       0.72      0.68      0.70       758\n",
      "          37       0.74      0.64      0.69       714\n",
      "          38       0.71      0.59      0.65       730\n",
      "          39       0.62      0.74      0.67      2507\n",
      "          40       0.81      0.92      0.86      1534\n",
      "          41       0.31      0.08      0.13       144\n",
      "          42       0.46      0.40      0.43       458\n",
      "          43       0.18      0.05      0.08       188\n",
      "          44       0.46      0.25      0.32       295\n",
      "         999       0.96      0.88      0.92      2100\n",
      "\n",
      "   micro avg       0.77      0.77      0.77     23919\n",
      "   macro avg       0.69      0.63      0.65     23919\n",
      "weighted avg       0.77      0.77      0.77     23919\n",
      "\n"
     ]
    }
   ],
   "source": [
    "print(classification_report(label_enc.inverse_transform(y_test), label_enc.inverse_transform(y_pred)))"
   ]
  },
  {
   "cell_type": "code",
   "execution_count": 67,
   "metadata": {
    "scrolled": false,
    "slideshow": {
     "slide_type": "fragment"
    }
   },
   "outputs": [
    {
     "data": {
      "text/plain": [
       "defaultdict(dict,\n",
       "            {'training': {'multi_logloss': 0.24317159741533478},\n",
       "             'valid_1': {'multi_logloss': 0.6550737519929498}})"
      ]
     },
     "execution_count": 67,
     "metadata": {},
     "output_type": "execute_result"
    }
   ],
   "source": [
    "lightgbm_model.best_score"
   ]
  },
  {
   "cell_type": "code",
   "execution_count": 68,
   "metadata": {},
   "outputs": [],
   "source": [
    "import numpy as np\n",
    "np.set_printoptions(threshold=np.nan)"
   ]
  },
  {
   "cell_type": "code",
   "execution_count": 139,
   "metadata": {},
   "outputs": [],
   "source": [
    "# import seaborn as sn\n",
    "# import pandas as pd\n",
    "# import matplotlib.pyplot as plt\n",
    "# array = confusion_matrix(y_labeled, y_pred)\n",
    "# df_cm = pd.DataFrame(array, index = [i for i in range(38)],\n",
    "#                   columns = [i for i in range(38)])\n",
    "# plt.figure(figsize = (20,20))\n",
    "# sn.heatmap(df_cm, annot=True)"
   ]
  },
  {
   "cell_type": "code",
   "execution_count": 69,
   "metadata": {},
   "outputs": [
    {
     "data": {
      "image/png": "[encoded data removed]",
      "text/plain": [
       "<Figure size 1440x1440 with 1 Axes>"
      ]
     },
     "metadata": {},
     "output_type": "display_data"
    }
   ],
   "source": [
    "conf_mx = confusion_matrix(label_enc.inverse_transform(y_test), label_enc.inverse_transform(y_pred))\n",
    "row_sums = conf_mx.sum(axis=1, keepdims=True)\n",
    "norm_conf_mx = conf_mx / row_sums\n",
    "np.fill_diagonal(norm_conf_mx, 0)\n",
    "plt.figure(figsize = (20,20))\n",
    "plt.matshow(norm_conf_mx, cmap=plt.cm.gray, fignum=1)\n",
    "plt.grid(False)\n",
    "plt.show()\n"
   ]
  },
  {
   "cell_type": "markdown",
   "metadata": {
    "slideshow": {
     "slide_type": "fragment"
    }
   },
   "source": [
    "# TripType 41, 42, 43, 44를 잘 예측하지 못함을 알 수 있습니다."
   ]
  },
  {
   "cell_type": "markdown",
   "metadata": {
    "slideshow": {
     "slide_type": "slide"
    }
   },
   "source": [
    "# <center>5. kaggle 제출</center>"
   ]
  },
  {
   "cell_type": "code",
   "execution_count": 70,
   "metadata": {
    "slideshow": {
     "slide_type": "fragment"
    }
   },
   "outputs": [
    {
     "data": {
      "text/html": [
       "<div>\n",
       "<style scoped>\n",
       "    .dataframe tbody tr th:only-of-type {\n",
       "        vertical-align: middle;\n",
       "    }\n",
       "\n",
       "    .dataframe tbody tr th {\n",
       "        vertical-align: top;\n",
       "    }\n",
       "\n",
       "    .dataframe thead th {\n",
       "        text-align: right;\n",
       "    }\n",
       "</style>\n",
       "<table border=\"1\" class=\"dataframe\">\n",
       "  <thead>\n",
       "    <tr style=\"text-align: right;\">\n",
       "      <th></th>\n",
       "      <th>TripType_3</th>\n",
       "      <th>TripType_4</th>\n",
       "      <th>TripType_5</th>\n",
       "      <th>TripType_6</th>\n",
       "      <th>TripType_7</th>\n",
       "      <th>TripType_8</th>\n",
       "      <th>TripType_9</th>\n",
       "      <th>TripType_12</th>\n",
       "      <th>TripType_14</th>\n",
       "      <th>TripType_15</th>\n",
       "      <th>...</th>\n",
       "      <th>TripType_36</th>\n",
       "      <th>TripType_37</th>\n",
       "      <th>TripType_38</th>\n",
       "      <th>TripType_39</th>\n",
       "      <th>TripType_40</th>\n",
       "      <th>TripType_41</th>\n",
       "      <th>TripType_42</th>\n",
       "      <th>TripType_43</th>\n",
       "      <th>TripType_44</th>\n",
       "      <th>TripType_999</th>\n",
       "    </tr>\n",
       "    <tr>\n",
       "      <th>VisitNumber</th>\n",
       "      <th></th>\n",
       "      <th></th>\n",
       "      <th></th>\n",
       "      <th></th>\n",
       "      <th></th>\n",
       "      <th></th>\n",
       "      <th></th>\n",
       "      <th></th>\n",
       "      <th></th>\n",
       "      <th></th>\n",
       "      <th></th>\n",
       "      <th></th>\n",
       "      <th></th>\n",
       "      <th></th>\n",
       "      <th></th>\n",
       "      <th></th>\n",
       "      <th></th>\n",
       "      <th></th>\n",
       "      <th></th>\n",
       "      <th></th>\n",
       "      <th></th>\n",
       "    </tr>\n",
       "  </thead>\n",
       "  <tbody>\n",
       "    <tr>\n",
       "      <th>191338</th>\n",
       "      <td>2.450719e-06</td>\n",
       "      <td>1.327122e-06</td>\n",
       "      <td>0.000041</td>\n",
       "      <td>3.519697e-05</td>\n",
       "      <td>0.001819</td>\n",
       "      <td>0.000145</td>\n",
       "      <td>0.000056</td>\n",
       "      <td>0.000038</td>\n",
       "      <td>7.286607e-10</td>\n",
       "      <td>0.000270</td>\n",
       "      <td>...</td>\n",
       "      <td>0.000104</td>\n",
       "      <td>0.000282</td>\n",
       "      <td>0.003722</td>\n",
       "      <td>0.438481</td>\n",
       "      <td>0.001592</td>\n",
       "      <td>0.000078</td>\n",
       "      <td>0.000156</td>\n",
       "      <td>0.004475</td>\n",
       "      <td>0.000956</td>\n",
       "      <td>0.000352</td>\n",
       "    </tr>\n",
       "    <tr>\n",
       "      <th>191339</th>\n",
       "      <td>5.185814e-06</td>\n",
       "      <td>3.072185e-06</td>\n",
       "      <td>0.000055</td>\n",
       "      <td>1.692669e-04</td>\n",
       "      <td>0.000103</td>\n",
       "      <td>0.000933</td>\n",
       "      <td>0.001001</td>\n",
       "      <td>0.000028</td>\n",
       "      <td>9.933546e-10</td>\n",
       "      <td>0.000508</td>\n",
       "      <td>...</td>\n",
       "      <td>0.000141</td>\n",
       "      <td>0.000141</td>\n",
       "      <td>0.000262</td>\n",
       "      <td>0.006764</td>\n",
       "      <td>0.000105</td>\n",
       "      <td>0.006022</td>\n",
       "      <td>0.156682</td>\n",
       "      <td>0.010535</td>\n",
       "      <td>0.001723</td>\n",
       "      <td>0.001322</td>\n",
       "    </tr>\n",
       "    <tr>\n",
       "      <th>191340</th>\n",
       "      <td>7.479708e-06</td>\n",
       "      <td>4.614249e-06</td>\n",
       "      <td>0.000178</td>\n",
       "      <td>3.618827e-04</td>\n",
       "      <td>0.000231</td>\n",
       "      <td>0.704661</td>\n",
       "      <td>0.268340</td>\n",
       "      <td>0.000015</td>\n",
       "      <td>1.137685e-09</td>\n",
       "      <td>0.000669</td>\n",
       "      <td>...</td>\n",
       "      <td>0.000219</td>\n",
       "      <td>0.000121</td>\n",
       "      <td>0.000120</td>\n",
       "      <td>0.000561</td>\n",
       "      <td>0.000077</td>\n",
       "      <td>0.000043</td>\n",
       "      <td>0.000913</td>\n",
       "      <td>0.000051</td>\n",
       "      <td>0.000042</td>\n",
       "      <td>0.014382</td>\n",
       "    </tr>\n",
       "    <tr>\n",
       "      <th>191341</th>\n",
       "      <td>5.742425e-07</td>\n",
       "      <td>8.052773e-08</td>\n",
       "      <td>0.000003</td>\n",
       "      <td>4.433106e-07</td>\n",
       "      <td>0.000004</td>\n",
       "      <td>0.000023</td>\n",
       "      <td>0.000045</td>\n",
       "      <td>0.000012</td>\n",
       "      <td>6.501612e-11</td>\n",
       "      <td>0.000014</td>\n",
       "      <td>...</td>\n",
       "      <td>0.000044</td>\n",
       "      <td>0.000006</td>\n",
       "      <td>0.000004</td>\n",
       "      <td>0.003309</td>\n",
       "      <td>0.000088</td>\n",
       "      <td>0.000177</td>\n",
       "      <td>0.000700</td>\n",
       "      <td>0.002305</td>\n",
       "      <td>0.004575</td>\n",
       "      <td>0.000078</td>\n",
       "    </tr>\n",
       "    <tr>\n",
       "      <th>191348</th>\n",
       "      <td>6.951527e-07</td>\n",
       "      <td>1.339265e-07</td>\n",
       "      <td>0.000017</td>\n",
       "      <td>1.277131e-06</td>\n",
       "      <td>0.000007</td>\n",
       "      <td>0.000167</td>\n",
       "      <td>0.000047</td>\n",
       "      <td>0.000001</td>\n",
       "      <td>7.684832e-11</td>\n",
       "      <td>0.000008</td>\n",
       "      <td>...</td>\n",
       "      <td>0.000275</td>\n",
       "      <td>0.000016</td>\n",
       "      <td>0.000006</td>\n",
       "      <td>0.000195</td>\n",
       "      <td>0.000011</td>\n",
       "      <td>0.016145</td>\n",
       "      <td>0.004237</td>\n",
       "      <td>0.001042</td>\n",
       "      <td>0.000837</td>\n",
       "      <td>0.000427</td>\n",
       "    </tr>\n",
       "  </tbody>\n",
       "</table>\n",
       "<p>5 rows × 38 columns</p>\n",
       "</div>"
      ],
      "text/plain": [
       "               TripType_3    TripType_4  TripType_5    TripType_6  TripType_7  \\\n",
       "VisitNumber                                                                     \n",
       "191338       2.450719e-06  1.327122e-06    0.000041  3.519697e-05    0.001819   \n",
       "191339       5.185814e-06  3.072185e-06    0.000055  1.692669e-04    0.000103   \n",
       "191340       7.479708e-06  4.614249e-06    0.000178  3.618827e-04    0.000231   \n",
       "191341       5.742425e-07  8.052773e-08    0.000003  4.433106e-07    0.000004   \n",
       "191348       6.951527e-07  1.339265e-07    0.000017  1.277131e-06    0.000007   \n",
       "\n",
       "             TripType_8  TripType_9  TripType_12   TripType_14  TripType_15  \\\n",
       "VisitNumber                                                                   \n",
       "191338         0.000145    0.000056     0.000038  7.286607e-10     0.000270   \n",
       "191339         0.000933    0.001001     0.000028  9.933546e-10     0.000508   \n",
       "191340         0.704661    0.268340     0.000015  1.137685e-09     0.000669   \n",
       "191341         0.000023    0.000045     0.000012  6.501612e-11     0.000014   \n",
       "191348         0.000167    0.000047     0.000001  7.684832e-11     0.000008   \n",
       "\n",
       "                 ...       TripType_36  TripType_37  TripType_38  TripType_39  \\\n",
       "VisitNumber      ...                                                            \n",
       "191338           ...          0.000104     0.000282     0.003722     0.438481   \n",
       "191339           ...          0.000141     0.000141     0.000262     0.006764   \n",
       "191340           ...          0.000219     0.000121     0.000120     0.000561   \n",
       "191341           ...          0.000044     0.000006     0.000004     0.003309   \n",
       "191348           ...          0.000275     0.000016     0.000006     0.000195   \n",
       "\n",
       "             TripType_40  TripType_41  TripType_42  TripType_43  TripType_44  \\\n",
       "VisitNumber                                                                    \n",
       "191338          0.001592     0.000078     0.000156     0.004475     0.000956   \n",
       "191339          0.000105     0.006022     0.156682     0.010535     0.001723   \n",
       "191340          0.000077     0.000043     0.000913     0.000051     0.000042   \n",
       "191341          0.000088     0.000177     0.000700     0.002305     0.004575   \n",
       "191348          0.000011     0.016145     0.004237     0.001042     0.000837   \n",
       "\n",
       "             TripType_999  \n",
       "VisitNumber                \n",
       "191338           0.000352  \n",
       "191339           0.001322  \n",
       "191340           0.014382  \n",
       "191341           0.000078  \n",
       "191348           0.000427  \n",
       "\n",
       "[5 rows x 38 columns]"
      ]
     },
     "execution_count": 70,
     "metadata": {},
     "output_type": "execute_result"
    }
   ],
   "source": [
    "result = lightgbm_model.predict(total_test)\n",
    "samplesub = pd.read_csv('sample_submission.csv')\n",
    "subform_df_columns = samplesub.columns[1:]\n",
    "result_df = pd.DataFrame(result)\n",
    "result_df.columns = subform_df_columns\n",
    "subform_df = pd.concat([test.reset_index()['VisitNumber'], result_df], axis=1)\n",
    "subform_df.set_index('VisitNumber', inplace=True)\n",
    "subform_df.tail()"
   ]
  },
  {
   "cell_type": "code",
   "execution_count": 71,
   "metadata": {
    "slideshow": {
     "slide_type": "fragment"
    }
   },
   "outputs": [],
   "source": [
    "subform_df.to_csv('lightgbm_submission_11.csv')"
   ]
  },
  {
   "cell_type": "markdown",
   "metadata": {
    "slideshow": {
     "slide_type": "slide"
    }
   },
   "source": [
    "# 캐글 순위 182/1047"
   ]
  },
  {
   "cell_type": "markdown",
   "metadata": {},
   "source": [
    "# <center>6. 모델의 한계"
   ]
  },
  {
   "cell_type": "code",
   "execution_count": 116,
   "metadata": {},
   "outputs": [],
   "source": [
    "traindf = pd.read_csv(\"train.csv\")"
   ]
  },
  {
   "cell_type": "code",
   "execution_count": 117,
   "metadata": {
    "slideshow": {
     "slide_type": "skip"
    }
   },
   "outputs": [],
   "source": [
    "ttls = traindf[\"TripType\"].unique().tolist()"
   ]
  },
  {
   "cell_type": "code",
   "execution_count": 118,
   "metadata": {
    "slideshow": {
     "slide_type": "skip"
    }
   },
   "outputs": [],
   "source": [
    "train_41 = traindf[traindf['TripType'] == 41]\n",
    "train_41_groupby = train_41.groupby('DepartmentDescription', as_index=False)[\n",
    "    'ScanCount'].count()\n",
    "train_41_groupby = train_41_groupby.sort_values('ScanCount', ascending=False)\n",
    "\n",
    "\n",
    "train_42 = traindf[traindf['TripType'] == 42]\n",
    "train_42_groupby = train_42.groupby('DepartmentDescription', as_index=False)[\n",
    "    'ScanCount'].count()\n",
    "train_42_groupby = train_42_groupby.sort_values('ScanCount', ascending=False)\n",
    "\n",
    "\n",
    "train_43 = traindf[traindf['TripType'] == 43]\n",
    "train_43_groupby = train_43.groupby('DepartmentDescription', as_index=False)[\n",
    "    'ScanCount'].count()\n",
    "train_43_groupby = train_43_groupby.sort_values('ScanCount', ascending=False)\n",
    "\n",
    "\n",
    "train_44 = traindf[traindf['TripType'] == 44]\n",
    "train_44_groupby = train_44.groupby('DepartmentDescription', as_index=False)[\n",
    "    'ScanCount'].count()\n",
    "train_44_groupby = train_44_groupby.sort_values('ScanCount', ascending=False)"
   ]
  },
  {
   "cell_type": "code",
   "execution_count": 119,
   "metadata": {
    "slideshow": {
     "slide_type": "slide"
    }
   },
   "outputs": [
    {
     "data": {
      "text/plain": [
       "Text(0.5, 1.0, 'Distribution of DD at TripType = 41')"
      ]
     },
     "execution_count": 119,
     "metadata": {},
     "output_type": "execute_result"
    },
    {
     "data": {
      "image/png": "[encoded data removed]",
      "text/plain": [
       "<Figure size 432x288 with 1 Axes>"
      ]
     },
     "metadata": {
      "image/png": {
       "height": 266,
       "width": 488
      },
      "needs_background": "light"
     },
     "output_type": "display_data"
    }
   ],
   "source": [
    "plt.barh((train_41_groupby['DepartmentDescription']\n",
    "          [:5]), (train_41_groupby['ScanCount'][:5]))\n",
    "plt.title('Distribution of DD at TripType = 41')"
   ]
  },
  {
   "cell_type": "code",
   "execution_count": 120,
   "metadata": {
    "slideshow": {
     "slide_type": "fragment"
    }
   },
   "outputs": [
    {
     "data": {
      "text/plain": [
       "Text(0.5, 1.0, 'Distribution of DD at TripType = 42')"
      ]
     },
     "execution_count": 120,
     "metadata": {},
     "output_type": "execute_result"
    },
    {
     "data": {
      "image/png": "[encoded data removed]",
      "text/plain": [
       "<Figure size 432x288 with 1 Axes>"
      ]
     },
     "metadata": {
      "image/png": {
       "height": 266,
       "width": 488
      },
      "needs_background": "light"
     },
     "output_type": "display_data"
    }
   ],
   "source": [
    "plt.barh((train_42_groupby['DepartmentDescription']\n",
    "          [:5]), (train_42_groupby['ScanCount'][:5]))\n",
    "plt.title('Distribution of DD at TripType = 42')"
   ]
  },
  {
   "cell_type": "code",
   "execution_count": 121,
   "metadata": {
    "slideshow": {
     "slide_type": "slide"
    }
   },
   "outputs": [
    {
     "data": {
      "text/plain": [
       "Text(0.5, 1.0, 'Distribution of DD at TripType = 43')"
      ]
     },
     "execution_count": 121,
     "metadata": {},
     "output_type": "execute_result"
    },
    {
     "data": {
      "image/png": "[encoded data removed]",
      "text/plain": [
       "<Figure size 432x288 with 1 Axes>"
      ]
     },
     "metadata": {
      "image/png": {
       "height": 266,
       "width": 488
      },
      "needs_background": "light"
     },
     "output_type": "display_data"
    }
   ],
   "source": [
    "plt.barh((train_43_groupby['DepartmentDescription']\n",
    "          [:5]), (train_43_groupby['ScanCount'][:5]))\n",
    "plt.title('Distribution of DD at TripType = 43')"
   ]
  },
  {
   "cell_type": "code",
   "execution_count": 122,
   "metadata": {
    "scrolled": true,
    "slideshow": {
     "slide_type": "fragment"
    }
   },
   "outputs": [
    {
     "data": {
      "text/plain": [
       "Text(0.5, 1.0, 'Distribution of DD at TripType = 44')"
      ]
     },
     "execution_count": 122,
     "metadata": {},
     "output_type": "execute_result"
    },
    {
     "data": {
      "image/png": "[encoded data removed]",
      "text/plain": [
       "<Figure size 432x288 with 1 Axes>"
      ]
     },
     "metadata": {
      "image/png": {
       "height": 266,
       "width": 524
      },
      "needs_background": "light"
     },
     "output_type": "display_data"
    }
   ],
   "source": [
    "plt.barh((train_44_groupby['DepartmentDescription']\n",
    "          [:5]), (train_44_groupby['ScanCount'][:5]))\n",
    "plt.title('Distribution of DD at TripType = 44')"
   ]
  }
 ],
 "metadata": {
  "celltoolbar": "Slideshow",
  "kernelspec": {
   "display_name": "Python 3",
   "language": "python",
   "name": "python3"
  },
  "language_info": {
   "codemirror_mode": {
    "name": "ipython",
    "version": 3
   },
   "file_extension": ".py",
   "mimetype": "text/x-python",
   "name": "python",
   "nbconvert_exporter": "python",
   "pygments_lexer": "ipython3",
   "version": "3.7.0"
  }
 },
 "nbformat": 4,
 "nbformat_minor": 2
}
